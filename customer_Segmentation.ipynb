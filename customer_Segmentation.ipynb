{
  "nbformat": 4,
  "nbformat_minor": 0,
  "metadata": {
    "colab": {
      "name": "customer_Segmentation.ipynb",
      "provenance": [],
      "collapsed_sections": [],
      "authorship_tag": "ABX9TyOcwi0+wJl7kWrwflJLanwE",
      "include_colab_link": true
    },
    "kernelspec": {
      "display_name": "Python 3",
      "name": "python3"
    },
    "language_info": {
      "name": "python"
    }
  },
  "cells": [
    {
      "cell_type": "markdown",
      "metadata": {
        "id": "view-in-github",
        "colab_type": "text"
      },
      "source": [
        "<a href=\"https://colab.research.google.com/github/willakuffo/ML_finalproject/blob/main/customer_Segmentation.ipynb\" target=\"_parent\"><img src=\"https://colab.research.google.com/assets/colab-badge.svg\" alt=\"Open In Colab\"/></a>"
      ]
    },
    {
      "cell_type": "markdown",
      "metadata": {
        "id": "Ffu1NjkHUwor"
      },
      "source": [
        "#Data\n",
        "##Context\n",
        "Customer segmentation is the practice of dividing a customer base into groups of individuals that are similar in specific ways relevant to marketing, such as age, gender, interests and spending habits.\n",
        "\n",
        "Companies employing customer segmentation operate under the fact that every customer is different and that their marketing efforts would be better served if they target specific, smaller groups with messages that those consumers would find relevant and lead them to buy something. Companies also hope to gain a deeper understanding of their customers' preferences and needs with the idea of discovering what each segment finds most valuable to more accurately tailor marketing materials toward that segment.\n",
        "\n",
        "##Content\n",
        "An automobile company has plans to enter new markets with their existing products (P1, P2, P3, P4 and P5). After intensive market research, they’ve deduced that the behavior of new market is similar to their existing market.\n",
        "\n",
        "In their existing market, the sales team has classified all customers into 4 segments (A, B, C, D ). Then, they performed segmented outreach and communication for different segment of customers. This strategy has work exceptionally well for them. They plan to use the same strategy on new markets and have identified 2627 new potential customers.\n",
        "\n",
        "You are required to help the manager to predict the right group of the new customers.\n",
        "\n",
        "----------------------------------------------------------------\n",
        "### `Data ` [Source](https://www.kaggle.com/abisheksudarshan/customer-segmentation)\n",
        "\n",
        "`Sources of error in data` - missing data / null values/ NaNs"
      ]
    },
    {
      "cell_type": "markdown",
      "metadata": {
        "id": "qbM6l2VOU5cY"
      },
      "source": [
        "Download dataset from git repo and unzip\n"
      ]
    },
    {
      "cell_type": "code",
      "metadata": {
        "colab": {
          "base_uri": "https://localhost:8080/"
        },
        "id": "ag-aqFJjU7ur",
        "outputId": "be7a3b0e-039e-4346-ec61-c3cf3bab69c0"
      },
      "source": [
        "import os\n",
        "if not os.path.exists('customer.zip'):\n",
        "  !wget https://github.com/willakuffo/ML_finalproject/raw/main/customer.zip\n",
        "  !unzip customer.zip\n",
        "else:\n",
        "  print('data alredy in dir')"
      ],
      "execution_count": 242,
      "outputs": [
        {
          "output_type": "stream",
          "text": [
            "data alredy in dir\n"
          ],
          "name": "stdout"
        }
      ]
    },
    {
      "cell_type": "markdown",
      "metadata": {
        "id": "cfH_rIMWVj_b"
      },
      "source": [
        "Load dataset"
      ]
    },
    {
      "cell_type": "code",
      "metadata": {
        "id": "et8f8EHLVcS7"
      },
      "source": [
        "import pandas as pd\n",
        "train = pd.read_csv('train.csv')\n",
        "test = pd.read_csv('test.csv')"
      ],
      "execution_count": 243,
      "outputs": []
    },
    {
      "cell_type": "markdown",
      "metadata": {
        "id": "DFmrGL_nV0p7"
      },
      "source": [
        "Data head and tail"
      ]
    },
    {
      "cell_type": "code",
      "metadata": {
        "colab": {
          "base_uri": "https://localhost:8080/",
          "height": 411
        },
        "id": "1hRL_P8KVuwn",
        "outputId": "92de710f-375c-4040-eaa0-f5eddf3c19fe"
      },
      "source": [
        "train"
      ],
      "execution_count": 244,
      "outputs": [
        {
          "output_type": "execute_result",
          "data": {
            "text/html": [
              "<div>\n",
              "<style scoped>\n",
              "    .dataframe tbody tr th:only-of-type {\n",
              "        vertical-align: middle;\n",
              "    }\n",
              "\n",
              "    .dataframe tbody tr th {\n",
              "        vertical-align: top;\n",
              "    }\n",
              "\n",
              "    .dataframe thead th {\n",
              "        text-align: right;\n",
              "    }\n",
              "</style>\n",
              "<table border=\"1\" class=\"dataframe\">\n",
              "  <thead>\n",
              "    <tr style=\"text-align: right;\">\n",
              "      <th></th>\n",
              "      <th>ID</th>\n",
              "      <th>Gender</th>\n",
              "      <th>Ever_Married</th>\n",
              "      <th>Age</th>\n",
              "      <th>Graduated</th>\n",
              "      <th>Profession</th>\n",
              "      <th>Work_Experience</th>\n",
              "      <th>Spending_Score</th>\n",
              "      <th>Family_Size</th>\n",
              "      <th>Var_1</th>\n",
              "      <th>Segmentation</th>\n",
              "    </tr>\n",
              "  </thead>\n",
              "  <tbody>\n",
              "    <tr>\n",
              "      <th>0</th>\n",
              "      <td>462809</td>\n",
              "      <td>Male</td>\n",
              "      <td>No</td>\n",
              "      <td>22</td>\n",
              "      <td>No</td>\n",
              "      <td>Healthcare</td>\n",
              "      <td>1.0</td>\n",
              "      <td>Low</td>\n",
              "      <td>4.0</td>\n",
              "      <td>Cat_4</td>\n",
              "      <td>D</td>\n",
              "    </tr>\n",
              "    <tr>\n",
              "      <th>1</th>\n",
              "      <td>462643</td>\n",
              "      <td>Female</td>\n",
              "      <td>Yes</td>\n",
              "      <td>38</td>\n",
              "      <td>Yes</td>\n",
              "      <td>Engineer</td>\n",
              "      <td>NaN</td>\n",
              "      <td>Average</td>\n",
              "      <td>3.0</td>\n",
              "      <td>Cat_4</td>\n",
              "      <td>A</td>\n",
              "    </tr>\n",
              "    <tr>\n",
              "      <th>2</th>\n",
              "      <td>466315</td>\n",
              "      <td>Female</td>\n",
              "      <td>Yes</td>\n",
              "      <td>67</td>\n",
              "      <td>Yes</td>\n",
              "      <td>Engineer</td>\n",
              "      <td>1.0</td>\n",
              "      <td>Low</td>\n",
              "      <td>1.0</td>\n",
              "      <td>Cat_6</td>\n",
              "      <td>B</td>\n",
              "    </tr>\n",
              "    <tr>\n",
              "      <th>3</th>\n",
              "      <td>461735</td>\n",
              "      <td>Male</td>\n",
              "      <td>Yes</td>\n",
              "      <td>67</td>\n",
              "      <td>Yes</td>\n",
              "      <td>Lawyer</td>\n",
              "      <td>0.0</td>\n",
              "      <td>High</td>\n",
              "      <td>2.0</td>\n",
              "      <td>Cat_6</td>\n",
              "      <td>B</td>\n",
              "    </tr>\n",
              "    <tr>\n",
              "      <th>4</th>\n",
              "      <td>462669</td>\n",
              "      <td>Female</td>\n",
              "      <td>Yes</td>\n",
              "      <td>40</td>\n",
              "      <td>Yes</td>\n",
              "      <td>Entertainment</td>\n",
              "      <td>NaN</td>\n",
              "      <td>High</td>\n",
              "      <td>6.0</td>\n",
              "      <td>Cat_6</td>\n",
              "      <td>A</td>\n",
              "    </tr>\n",
              "    <tr>\n",
              "      <th>...</th>\n",
              "      <td>...</td>\n",
              "      <td>...</td>\n",
              "      <td>...</td>\n",
              "      <td>...</td>\n",
              "      <td>...</td>\n",
              "      <td>...</td>\n",
              "      <td>...</td>\n",
              "      <td>...</td>\n",
              "      <td>...</td>\n",
              "      <td>...</td>\n",
              "      <td>...</td>\n",
              "    </tr>\n",
              "    <tr>\n",
              "      <th>8063</th>\n",
              "      <td>464018</td>\n",
              "      <td>Male</td>\n",
              "      <td>No</td>\n",
              "      <td>22</td>\n",
              "      <td>No</td>\n",
              "      <td>NaN</td>\n",
              "      <td>0.0</td>\n",
              "      <td>Low</td>\n",
              "      <td>7.0</td>\n",
              "      <td>Cat_1</td>\n",
              "      <td>D</td>\n",
              "    </tr>\n",
              "    <tr>\n",
              "      <th>8064</th>\n",
              "      <td>464685</td>\n",
              "      <td>Male</td>\n",
              "      <td>No</td>\n",
              "      <td>35</td>\n",
              "      <td>No</td>\n",
              "      <td>Executive</td>\n",
              "      <td>3.0</td>\n",
              "      <td>Low</td>\n",
              "      <td>4.0</td>\n",
              "      <td>Cat_4</td>\n",
              "      <td>D</td>\n",
              "    </tr>\n",
              "    <tr>\n",
              "      <th>8065</th>\n",
              "      <td>465406</td>\n",
              "      <td>Female</td>\n",
              "      <td>No</td>\n",
              "      <td>33</td>\n",
              "      <td>Yes</td>\n",
              "      <td>Healthcare</td>\n",
              "      <td>1.0</td>\n",
              "      <td>Low</td>\n",
              "      <td>1.0</td>\n",
              "      <td>Cat_6</td>\n",
              "      <td>D</td>\n",
              "    </tr>\n",
              "    <tr>\n",
              "      <th>8066</th>\n",
              "      <td>467299</td>\n",
              "      <td>Female</td>\n",
              "      <td>No</td>\n",
              "      <td>27</td>\n",
              "      <td>Yes</td>\n",
              "      <td>Healthcare</td>\n",
              "      <td>1.0</td>\n",
              "      <td>Low</td>\n",
              "      <td>4.0</td>\n",
              "      <td>Cat_6</td>\n",
              "      <td>B</td>\n",
              "    </tr>\n",
              "    <tr>\n",
              "      <th>8067</th>\n",
              "      <td>461879</td>\n",
              "      <td>Male</td>\n",
              "      <td>Yes</td>\n",
              "      <td>37</td>\n",
              "      <td>Yes</td>\n",
              "      <td>Executive</td>\n",
              "      <td>0.0</td>\n",
              "      <td>Average</td>\n",
              "      <td>3.0</td>\n",
              "      <td>Cat_4</td>\n",
              "      <td>B</td>\n",
              "    </tr>\n",
              "  </tbody>\n",
              "</table>\n",
              "<p>8068 rows × 11 columns</p>\n",
              "</div>"
            ],
            "text/plain": [
              "          ID  Gender Ever_Married  ...  Family_Size  Var_1 Segmentation\n",
              "0     462809    Male           No  ...          4.0  Cat_4            D\n",
              "1     462643  Female          Yes  ...          3.0  Cat_4            A\n",
              "2     466315  Female          Yes  ...          1.0  Cat_6            B\n",
              "3     461735    Male          Yes  ...          2.0  Cat_6            B\n",
              "4     462669  Female          Yes  ...          6.0  Cat_6            A\n",
              "...      ...     ...          ...  ...          ...    ...          ...\n",
              "8063  464018    Male           No  ...          7.0  Cat_1            D\n",
              "8064  464685    Male           No  ...          4.0  Cat_4            D\n",
              "8065  465406  Female           No  ...          1.0  Cat_6            D\n",
              "8066  467299  Female           No  ...          4.0  Cat_6            B\n",
              "8067  461879    Male          Yes  ...          3.0  Cat_4            B\n",
              "\n",
              "[8068 rows x 11 columns]"
            ]
          },
          "metadata": {
            "tags": []
          },
          "execution_count": 244
        }
      ]
    },
    {
      "cell_type": "code",
      "metadata": {
        "colab": {
          "base_uri": "https://localhost:8080/",
          "height": 411
        },
        "id": "2zLpyGVXVx95",
        "outputId": "af6cec23-2439-4c68-ad8d-3e1c82abf9ea"
      },
      "source": [
        "test"
      ],
      "execution_count": 245,
      "outputs": [
        {
          "output_type": "execute_result",
          "data": {
            "text/html": [
              "<div>\n",
              "<style scoped>\n",
              "    .dataframe tbody tr th:only-of-type {\n",
              "        vertical-align: middle;\n",
              "    }\n",
              "\n",
              "    .dataframe tbody tr th {\n",
              "        vertical-align: top;\n",
              "    }\n",
              "\n",
              "    .dataframe thead th {\n",
              "        text-align: right;\n",
              "    }\n",
              "</style>\n",
              "<table border=\"1\" class=\"dataframe\">\n",
              "  <thead>\n",
              "    <tr style=\"text-align: right;\">\n",
              "      <th></th>\n",
              "      <th>ID</th>\n",
              "      <th>Gender</th>\n",
              "      <th>Ever_Married</th>\n",
              "      <th>Age</th>\n",
              "      <th>Graduated</th>\n",
              "      <th>Profession</th>\n",
              "      <th>Work_Experience</th>\n",
              "      <th>Spending_Score</th>\n",
              "      <th>Family_Size</th>\n",
              "      <th>Var_1</th>\n",
              "    </tr>\n",
              "  </thead>\n",
              "  <tbody>\n",
              "    <tr>\n",
              "      <th>0</th>\n",
              "      <td>458989</td>\n",
              "      <td>Female</td>\n",
              "      <td>Yes</td>\n",
              "      <td>36</td>\n",
              "      <td>Yes</td>\n",
              "      <td>Engineer</td>\n",
              "      <td>0.0</td>\n",
              "      <td>Low</td>\n",
              "      <td>1.0</td>\n",
              "      <td>Cat_6</td>\n",
              "    </tr>\n",
              "    <tr>\n",
              "      <th>1</th>\n",
              "      <td>458994</td>\n",
              "      <td>Male</td>\n",
              "      <td>Yes</td>\n",
              "      <td>37</td>\n",
              "      <td>Yes</td>\n",
              "      <td>Healthcare</td>\n",
              "      <td>8.0</td>\n",
              "      <td>Average</td>\n",
              "      <td>4.0</td>\n",
              "      <td>Cat_6</td>\n",
              "    </tr>\n",
              "    <tr>\n",
              "      <th>2</th>\n",
              "      <td>458996</td>\n",
              "      <td>Female</td>\n",
              "      <td>Yes</td>\n",
              "      <td>69</td>\n",
              "      <td>No</td>\n",
              "      <td>NaN</td>\n",
              "      <td>0.0</td>\n",
              "      <td>Low</td>\n",
              "      <td>1.0</td>\n",
              "      <td>Cat_6</td>\n",
              "    </tr>\n",
              "    <tr>\n",
              "      <th>3</th>\n",
              "      <td>459000</td>\n",
              "      <td>Male</td>\n",
              "      <td>Yes</td>\n",
              "      <td>59</td>\n",
              "      <td>No</td>\n",
              "      <td>Executive</td>\n",
              "      <td>11.0</td>\n",
              "      <td>High</td>\n",
              "      <td>2.0</td>\n",
              "      <td>Cat_6</td>\n",
              "    </tr>\n",
              "    <tr>\n",
              "      <th>4</th>\n",
              "      <td>459001</td>\n",
              "      <td>Female</td>\n",
              "      <td>No</td>\n",
              "      <td>19</td>\n",
              "      <td>No</td>\n",
              "      <td>Marketing</td>\n",
              "      <td>NaN</td>\n",
              "      <td>Low</td>\n",
              "      <td>4.0</td>\n",
              "      <td>Cat_6</td>\n",
              "    </tr>\n",
              "    <tr>\n",
              "      <th>...</th>\n",
              "      <td>...</td>\n",
              "      <td>...</td>\n",
              "      <td>...</td>\n",
              "      <td>...</td>\n",
              "      <td>...</td>\n",
              "      <td>...</td>\n",
              "      <td>...</td>\n",
              "      <td>...</td>\n",
              "      <td>...</td>\n",
              "      <td>...</td>\n",
              "    </tr>\n",
              "    <tr>\n",
              "      <th>2622</th>\n",
              "      <td>467954</td>\n",
              "      <td>Male</td>\n",
              "      <td>No</td>\n",
              "      <td>29</td>\n",
              "      <td>No</td>\n",
              "      <td>Healthcare</td>\n",
              "      <td>9.0</td>\n",
              "      <td>Low</td>\n",
              "      <td>4.0</td>\n",
              "      <td>Cat_6</td>\n",
              "    </tr>\n",
              "    <tr>\n",
              "      <th>2623</th>\n",
              "      <td>467958</td>\n",
              "      <td>Female</td>\n",
              "      <td>No</td>\n",
              "      <td>35</td>\n",
              "      <td>Yes</td>\n",
              "      <td>Doctor</td>\n",
              "      <td>1.0</td>\n",
              "      <td>Low</td>\n",
              "      <td>1.0</td>\n",
              "      <td>Cat_6</td>\n",
              "    </tr>\n",
              "    <tr>\n",
              "      <th>2624</th>\n",
              "      <td>467960</td>\n",
              "      <td>Female</td>\n",
              "      <td>No</td>\n",
              "      <td>53</td>\n",
              "      <td>Yes</td>\n",
              "      <td>Entertainment</td>\n",
              "      <td>NaN</td>\n",
              "      <td>Low</td>\n",
              "      <td>2.0</td>\n",
              "      <td>Cat_6</td>\n",
              "    </tr>\n",
              "    <tr>\n",
              "      <th>2625</th>\n",
              "      <td>467961</td>\n",
              "      <td>Male</td>\n",
              "      <td>Yes</td>\n",
              "      <td>47</td>\n",
              "      <td>Yes</td>\n",
              "      <td>Executive</td>\n",
              "      <td>1.0</td>\n",
              "      <td>High</td>\n",
              "      <td>5.0</td>\n",
              "      <td>Cat_4</td>\n",
              "    </tr>\n",
              "    <tr>\n",
              "      <th>2626</th>\n",
              "      <td>467968</td>\n",
              "      <td>Female</td>\n",
              "      <td>No</td>\n",
              "      <td>43</td>\n",
              "      <td>Yes</td>\n",
              "      <td>Healthcare</td>\n",
              "      <td>9.0</td>\n",
              "      <td>Low</td>\n",
              "      <td>3.0</td>\n",
              "      <td>Cat_7</td>\n",
              "    </tr>\n",
              "  </tbody>\n",
              "</table>\n",
              "<p>2627 rows × 10 columns</p>\n",
              "</div>"
            ],
            "text/plain": [
              "          ID  Gender Ever_Married  ...  Spending_Score Family_Size  Var_1\n",
              "0     458989  Female          Yes  ...             Low         1.0  Cat_6\n",
              "1     458994    Male          Yes  ...         Average         4.0  Cat_6\n",
              "2     458996  Female          Yes  ...             Low         1.0  Cat_6\n",
              "3     459000    Male          Yes  ...            High         2.0  Cat_6\n",
              "4     459001  Female           No  ...             Low         4.0  Cat_6\n",
              "...      ...     ...          ...  ...             ...         ...    ...\n",
              "2622  467954    Male           No  ...             Low         4.0  Cat_6\n",
              "2623  467958  Female           No  ...             Low         1.0  Cat_6\n",
              "2624  467960  Female           No  ...             Low         2.0  Cat_6\n",
              "2625  467961    Male          Yes  ...            High         5.0  Cat_4\n",
              "2626  467968  Female           No  ...             Low         3.0  Cat_7\n",
              "\n",
              "[2627 rows x 10 columns]"
            ]
          },
          "metadata": {
            "tags": []
          },
          "execution_count": 245
        }
      ]
    },
    {
      "cell_type": "markdown",
      "metadata": {
        "id": "VMC982EilYBi"
      },
      "source": [
        "##Exploratory Data Analysis"
      ]
    },
    {
      "cell_type": "markdown",
      "metadata": {
        "id": "JJlWa3CO91E2"
      },
      "source": [
        "combine training and testing set to do Exploratory Data Analysis"
      ]
    },
    {
      "cell_type": "code",
      "metadata": {
        "colab": {
          "base_uri": "https://localhost:8080/",
          "height": 411
        },
        "id": "jhYVPOjLVzDF",
        "outputId": "9d972d73-e8d4-45d1-c5af-87da0b684ef0"
      },
      "source": [
        "#concatenate train and test data for EDA\n",
        "df_tt = pd.concat([train,test],axis = 0)\n",
        "df_tt"
      ],
      "execution_count": 246,
      "outputs": [
        {
          "output_type": "execute_result",
          "data": {
            "text/html": [
              "<div>\n",
              "<style scoped>\n",
              "    .dataframe tbody tr th:only-of-type {\n",
              "        vertical-align: middle;\n",
              "    }\n",
              "\n",
              "    .dataframe tbody tr th {\n",
              "        vertical-align: top;\n",
              "    }\n",
              "\n",
              "    .dataframe thead th {\n",
              "        text-align: right;\n",
              "    }\n",
              "</style>\n",
              "<table border=\"1\" class=\"dataframe\">\n",
              "  <thead>\n",
              "    <tr style=\"text-align: right;\">\n",
              "      <th></th>\n",
              "      <th>ID</th>\n",
              "      <th>Gender</th>\n",
              "      <th>Ever_Married</th>\n",
              "      <th>Age</th>\n",
              "      <th>Graduated</th>\n",
              "      <th>Profession</th>\n",
              "      <th>Work_Experience</th>\n",
              "      <th>Spending_Score</th>\n",
              "      <th>Family_Size</th>\n",
              "      <th>Var_1</th>\n",
              "      <th>Segmentation</th>\n",
              "    </tr>\n",
              "  </thead>\n",
              "  <tbody>\n",
              "    <tr>\n",
              "      <th>0</th>\n",
              "      <td>462809</td>\n",
              "      <td>Male</td>\n",
              "      <td>No</td>\n",
              "      <td>22</td>\n",
              "      <td>No</td>\n",
              "      <td>Healthcare</td>\n",
              "      <td>1.0</td>\n",
              "      <td>Low</td>\n",
              "      <td>4.0</td>\n",
              "      <td>Cat_4</td>\n",
              "      <td>D</td>\n",
              "    </tr>\n",
              "    <tr>\n",
              "      <th>1</th>\n",
              "      <td>462643</td>\n",
              "      <td>Female</td>\n",
              "      <td>Yes</td>\n",
              "      <td>38</td>\n",
              "      <td>Yes</td>\n",
              "      <td>Engineer</td>\n",
              "      <td>NaN</td>\n",
              "      <td>Average</td>\n",
              "      <td>3.0</td>\n",
              "      <td>Cat_4</td>\n",
              "      <td>A</td>\n",
              "    </tr>\n",
              "    <tr>\n",
              "      <th>2</th>\n",
              "      <td>466315</td>\n",
              "      <td>Female</td>\n",
              "      <td>Yes</td>\n",
              "      <td>67</td>\n",
              "      <td>Yes</td>\n",
              "      <td>Engineer</td>\n",
              "      <td>1.0</td>\n",
              "      <td>Low</td>\n",
              "      <td>1.0</td>\n",
              "      <td>Cat_6</td>\n",
              "      <td>B</td>\n",
              "    </tr>\n",
              "    <tr>\n",
              "      <th>3</th>\n",
              "      <td>461735</td>\n",
              "      <td>Male</td>\n",
              "      <td>Yes</td>\n",
              "      <td>67</td>\n",
              "      <td>Yes</td>\n",
              "      <td>Lawyer</td>\n",
              "      <td>0.0</td>\n",
              "      <td>High</td>\n",
              "      <td>2.0</td>\n",
              "      <td>Cat_6</td>\n",
              "      <td>B</td>\n",
              "    </tr>\n",
              "    <tr>\n",
              "      <th>4</th>\n",
              "      <td>462669</td>\n",
              "      <td>Female</td>\n",
              "      <td>Yes</td>\n",
              "      <td>40</td>\n",
              "      <td>Yes</td>\n",
              "      <td>Entertainment</td>\n",
              "      <td>NaN</td>\n",
              "      <td>High</td>\n",
              "      <td>6.0</td>\n",
              "      <td>Cat_6</td>\n",
              "      <td>A</td>\n",
              "    </tr>\n",
              "    <tr>\n",
              "      <th>...</th>\n",
              "      <td>...</td>\n",
              "      <td>...</td>\n",
              "      <td>...</td>\n",
              "      <td>...</td>\n",
              "      <td>...</td>\n",
              "      <td>...</td>\n",
              "      <td>...</td>\n",
              "      <td>...</td>\n",
              "      <td>...</td>\n",
              "      <td>...</td>\n",
              "      <td>...</td>\n",
              "    </tr>\n",
              "    <tr>\n",
              "      <th>2622</th>\n",
              "      <td>467954</td>\n",
              "      <td>Male</td>\n",
              "      <td>No</td>\n",
              "      <td>29</td>\n",
              "      <td>No</td>\n",
              "      <td>Healthcare</td>\n",
              "      <td>9.0</td>\n",
              "      <td>Low</td>\n",
              "      <td>4.0</td>\n",
              "      <td>Cat_6</td>\n",
              "      <td>NaN</td>\n",
              "    </tr>\n",
              "    <tr>\n",
              "      <th>2623</th>\n",
              "      <td>467958</td>\n",
              "      <td>Female</td>\n",
              "      <td>No</td>\n",
              "      <td>35</td>\n",
              "      <td>Yes</td>\n",
              "      <td>Doctor</td>\n",
              "      <td>1.0</td>\n",
              "      <td>Low</td>\n",
              "      <td>1.0</td>\n",
              "      <td>Cat_6</td>\n",
              "      <td>NaN</td>\n",
              "    </tr>\n",
              "    <tr>\n",
              "      <th>2624</th>\n",
              "      <td>467960</td>\n",
              "      <td>Female</td>\n",
              "      <td>No</td>\n",
              "      <td>53</td>\n",
              "      <td>Yes</td>\n",
              "      <td>Entertainment</td>\n",
              "      <td>NaN</td>\n",
              "      <td>Low</td>\n",
              "      <td>2.0</td>\n",
              "      <td>Cat_6</td>\n",
              "      <td>NaN</td>\n",
              "    </tr>\n",
              "    <tr>\n",
              "      <th>2625</th>\n",
              "      <td>467961</td>\n",
              "      <td>Male</td>\n",
              "      <td>Yes</td>\n",
              "      <td>47</td>\n",
              "      <td>Yes</td>\n",
              "      <td>Executive</td>\n",
              "      <td>1.0</td>\n",
              "      <td>High</td>\n",
              "      <td>5.0</td>\n",
              "      <td>Cat_4</td>\n",
              "      <td>NaN</td>\n",
              "    </tr>\n",
              "    <tr>\n",
              "      <th>2626</th>\n",
              "      <td>467968</td>\n",
              "      <td>Female</td>\n",
              "      <td>No</td>\n",
              "      <td>43</td>\n",
              "      <td>Yes</td>\n",
              "      <td>Healthcare</td>\n",
              "      <td>9.0</td>\n",
              "      <td>Low</td>\n",
              "      <td>3.0</td>\n",
              "      <td>Cat_7</td>\n",
              "      <td>NaN</td>\n",
              "    </tr>\n",
              "  </tbody>\n",
              "</table>\n",
              "<p>10695 rows × 11 columns</p>\n",
              "</div>"
            ],
            "text/plain": [
              "          ID  Gender Ever_Married  ...  Family_Size  Var_1 Segmentation\n",
              "0     462809    Male           No  ...          4.0  Cat_4            D\n",
              "1     462643  Female          Yes  ...          3.0  Cat_4            A\n",
              "2     466315  Female          Yes  ...          1.0  Cat_6            B\n",
              "3     461735    Male          Yes  ...          2.0  Cat_6            B\n",
              "4     462669  Female          Yes  ...          6.0  Cat_6            A\n",
              "...      ...     ...          ...  ...          ...    ...          ...\n",
              "2622  467954    Male           No  ...          4.0  Cat_6          NaN\n",
              "2623  467958  Female           No  ...          1.0  Cat_6          NaN\n",
              "2624  467960  Female           No  ...          2.0  Cat_6          NaN\n",
              "2625  467961    Male          Yes  ...          5.0  Cat_4          NaN\n",
              "2626  467968  Female           No  ...          3.0  Cat_7          NaN\n",
              "\n",
              "[10695 rows x 11 columns]"
            ]
          },
          "metadata": {
            "tags": []
          },
          "execution_count": 246
        }
      ]
    },
    {
      "cell_type": "markdown",
      "metadata": {
        "id": "kQNRR1dIlyu5"
      },
      "source": [
        "check for null values / missing values"
      ]
    },
    {
      "cell_type": "code",
      "metadata": {
        "colab": {
          "base_uri": "https://localhost:8080/"
        },
        "id": "PiNygscopGuM",
        "outputId": "b466dc72-4af6-499c-ba4f-b356a241cb50"
      },
      "source": [
        "#null values present in output\n",
        "df_tt['Segmentation'].isnull().value_counts()"
      ],
      "execution_count": 247,
      "outputs": [
        {
          "output_type": "execute_result",
          "data": {
            "text/plain": [
              "False    8068\n",
              "True     2627\n",
              "Name: Segmentation, dtype: int64"
            ]
          },
          "metadata": {
            "tags": []
          },
          "execution_count": 247
        }
      ]
    },
    {
      "cell_type": "markdown",
      "metadata": {
        "id": "vUB7-XPfVooU"
      },
      "source": [
        "null values present in columns"
      ]
    },
    {
      "cell_type": "code",
      "metadata": {
        "colab": {
          "base_uri": "https://localhost:8080/"
        },
        "id": "k3IK6OLhlmZq",
        "outputId": "3bbc40d1-29bd-4f9f-b81d-837d9b611666"
      },
      "source": [
        "df_tt.info()"
      ],
      "execution_count": 248,
      "outputs": [
        {
          "output_type": "stream",
          "text": [
            "<class 'pandas.core.frame.DataFrame'>\n",
            "Int64Index: 10695 entries, 0 to 2626\n",
            "Data columns (total 11 columns):\n",
            " #   Column           Non-Null Count  Dtype  \n",
            "---  ------           --------------  -----  \n",
            " 0   ID               10695 non-null  int64  \n",
            " 1   Gender           10695 non-null  object \n",
            " 2   Ever_Married     10505 non-null  object \n",
            " 3   Age              10695 non-null  int64  \n",
            " 4   Graduated        10593 non-null  object \n",
            " 5   Profession       10533 non-null  object \n",
            " 6   Work_Experience  9597 non-null   float64\n",
            " 7   Spending_Score   10695 non-null  object \n",
            " 8   Family_Size      10247 non-null  float64\n",
            " 9   Var_1            10587 non-null  object \n",
            " 10  Segmentation     8068 non-null   object \n",
            "dtypes: float64(2), int64(2), object(7)\n",
            "memory usage: 1002.7+ KB\n"
          ],
          "name": "stdout"
        }
      ]
    },
    {
      "cell_type": "markdown",
      "metadata": {
        "id": "PaIZa5YwVK0u"
      },
      "source": [
        "drop any row with null values"
      ]
    },
    {
      "cell_type": "code",
      "metadata": {
        "id": "OJah2qRYm0JU"
      },
      "source": [
        "\n",
        "df_tt.dropna(axis = 0,how = 'any',inplace = True)\n"
      ],
      "execution_count": 249,
      "outputs": []
    },
    {
      "cell_type": "markdown",
      "metadata": {
        "id": "7MGO-7Q9VveL"
      },
      "source": [
        "Resulting dataframe after droping null values"
      ]
    },
    {
      "cell_type": "code",
      "metadata": {
        "colab": {
          "base_uri": "https://localhost:8080/",
          "height": 411
        },
        "id": "Dh5w1fr8Vd6y",
        "outputId": "4ea3d124-8656-4b4e-d082-d0f7186c627a"
      },
      "source": [
        "df_tt"
      ],
      "execution_count": 250,
      "outputs": [
        {
          "output_type": "execute_result",
          "data": {
            "text/html": [
              "<div>\n",
              "<style scoped>\n",
              "    .dataframe tbody tr th:only-of-type {\n",
              "        vertical-align: middle;\n",
              "    }\n",
              "\n",
              "    .dataframe tbody tr th {\n",
              "        vertical-align: top;\n",
              "    }\n",
              "\n",
              "    .dataframe thead th {\n",
              "        text-align: right;\n",
              "    }\n",
              "</style>\n",
              "<table border=\"1\" class=\"dataframe\">\n",
              "  <thead>\n",
              "    <tr style=\"text-align: right;\">\n",
              "      <th></th>\n",
              "      <th>ID</th>\n",
              "      <th>Gender</th>\n",
              "      <th>Ever_Married</th>\n",
              "      <th>Age</th>\n",
              "      <th>Graduated</th>\n",
              "      <th>Profession</th>\n",
              "      <th>Work_Experience</th>\n",
              "      <th>Spending_Score</th>\n",
              "      <th>Family_Size</th>\n",
              "      <th>Var_1</th>\n",
              "      <th>Segmentation</th>\n",
              "    </tr>\n",
              "  </thead>\n",
              "  <tbody>\n",
              "    <tr>\n",
              "      <th>0</th>\n",
              "      <td>462809</td>\n",
              "      <td>Male</td>\n",
              "      <td>No</td>\n",
              "      <td>22</td>\n",
              "      <td>No</td>\n",
              "      <td>Healthcare</td>\n",
              "      <td>1.0</td>\n",
              "      <td>Low</td>\n",
              "      <td>4.0</td>\n",
              "      <td>Cat_4</td>\n",
              "      <td>D</td>\n",
              "    </tr>\n",
              "    <tr>\n",
              "      <th>2</th>\n",
              "      <td>466315</td>\n",
              "      <td>Female</td>\n",
              "      <td>Yes</td>\n",
              "      <td>67</td>\n",
              "      <td>Yes</td>\n",
              "      <td>Engineer</td>\n",
              "      <td>1.0</td>\n",
              "      <td>Low</td>\n",
              "      <td>1.0</td>\n",
              "      <td>Cat_6</td>\n",
              "      <td>B</td>\n",
              "    </tr>\n",
              "    <tr>\n",
              "      <th>3</th>\n",
              "      <td>461735</td>\n",
              "      <td>Male</td>\n",
              "      <td>Yes</td>\n",
              "      <td>67</td>\n",
              "      <td>Yes</td>\n",
              "      <td>Lawyer</td>\n",
              "      <td>0.0</td>\n",
              "      <td>High</td>\n",
              "      <td>2.0</td>\n",
              "      <td>Cat_6</td>\n",
              "      <td>B</td>\n",
              "    </tr>\n",
              "    <tr>\n",
              "      <th>5</th>\n",
              "      <td>461319</td>\n",
              "      <td>Male</td>\n",
              "      <td>Yes</td>\n",
              "      <td>56</td>\n",
              "      <td>No</td>\n",
              "      <td>Artist</td>\n",
              "      <td>0.0</td>\n",
              "      <td>Average</td>\n",
              "      <td>2.0</td>\n",
              "      <td>Cat_6</td>\n",
              "      <td>C</td>\n",
              "    </tr>\n",
              "    <tr>\n",
              "      <th>6</th>\n",
              "      <td>460156</td>\n",
              "      <td>Male</td>\n",
              "      <td>No</td>\n",
              "      <td>32</td>\n",
              "      <td>Yes</td>\n",
              "      <td>Healthcare</td>\n",
              "      <td>1.0</td>\n",
              "      <td>Low</td>\n",
              "      <td>3.0</td>\n",
              "      <td>Cat_6</td>\n",
              "      <td>C</td>\n",
              "    </tr>\n",
              "    <tr>\n",
              "      <th>...</th>\n",
              "      <td>...</td>\n",
              "      <td>...</td>\n",
              "      <td>...</td>\n",
              "      <td>...</td>\n",
              "      <td>...</td>\n",
              "      <td>...</td>\n",
              "      <td>...</td>\n",
              "      <td>...</td>\n",
              "      <td>...</td>\n",
              "      <td>...</td>\n",
              "      <td>...</td>\n",
              "    </tr>\n",
              "    <tr>\n",
              "      <th>8062</th>\n",
              "      <td>463002</td>\n",
              "      <td>Male</td>\n",
              "      <td>Yes</td>\n",
              "      <td>41</td>\n",
              "      <td>Yes</td>\n",
              "      <td>Artist</td>\n",
              "      <td>0.0</td>\n",
              "      <td>High</td>\n",
              "      <td>5.0</td>\n",
              "      <td>Cat_6</td>\n",
              "      <td>B</td>\n",
              "    </tr>\n",
              "    <tr>\n",
              "      <th>8064</th>\n",
              "      <td>464685</td>\n",
              "      <td>Male</td>\n",
              "      <td>No</td>\n",
              "      <td>35</td>\n",
              "      <td>No</td>\n",
              "      <td>Executive</td>\n",
              "      <td>3.0</td>\n",
              "      <td>Low</td>\n",
              "      <td>4.0</td>\n",
              "      <td>Cat_4</td>\n",
              "      <td>D</td>\n",
              "    </tr>\n",
              "    <tr>\n",
              "      <th>8065</th>\n",
              "      <td>465406</td>\n",
              "      <td>Female</td>\n",
              "      <td>No</td>\n",
              "      <td>33</td>\n",
              "      <td>Yes</td>\n",
              "      <td>Healthcare</td>\n",
              "      <td>1.0</td>\n",
              "      <td>Low</td>\n",
              "      <td>1.0</td>\n",
              "      <td>Cat_6</td>\n",
              "      <td>D</td>\n",
              "    </tr>\n",
              "    <tr>\n",
              "      <th>8066</th>\n",
              "      <td>467299</td>\n",
              "      <td>Female</td>\n",
              "      <td>No</td>\n",
              "      <td>27</td>\n",
              "      <td>Yes</td>\n",
              "      <td>Healthcare</td>\n",
              "      <td>1.0</td>\n",
              "      <td>Low</td>\n",
              "      <td>4.0</td>\n",
              "      <td>Cat_6</td>\n",
              "      <td>B</td>\n",
              "    </tr>\n",
              "    <tr>\n",
              "      <th>8067</th>\n",
              "      <td>461879</td>\n",
              "      <td>Male</td>\n",
              "      <td>Yes</td>\n",
              "      <td>37</td>\n",
              "      <td>Yes</td>\n",
              "      <td>Executive</td>\n",
              "      <td>0.0</td>\n",
              "      <td>Average</td>\n",
              "      <td>3.0</td>\n",
              "      <td>Cat_4</td>\n",
              "      <td>B</td>\n",
              "    </tr>\n",
              "  </tbody>\n",
              "</table>\n",
              "<p>6665 rows × 11 columns</p>\n",
              "</div>"
            ],
            "text/plain": [
              "          ID  Gender Ever_Married  ...  Family_Size  Var_1 Segmentation\n",
              "0     462809    Male           No  ...          4.0  Cat_4            D\n",
              "2     466315  Female          Yes  ...          1.0  Cat_6            B\n",
              "3     461735    Male          Yes  ...          2.0  Cat_6            B\n",
              "5     461319    Male          Yes  ...          2.0  Cat_6            C\n",
              "6     460156    Male           No  ...          3.0  Cat_6            C\n",
              "...      ...     ...          ...  ...          ...    ...          ...\n",
              "8062  463002    Male          Yes  ...          5.0  Cat_6            B\n",
              "8064  464685    Male           No  ...          4.0  Cat_4            D\n",
              "8065  465406  Female           No  ...          1.0  Cat_6            D\n",
              "8066  467299  Female           No  ...          4.0  Cat_6            B\n",
              "8067  461879    Male          Yes  ...          3.0  Cat_4            B\n",
              "\n",
              "[6665 rows x 11 columns]"
            ]
          },
          "metadata": {
            "tags": []
          },
          "execution_count": 250
        }
      ]
    },
    {
      "cell_type": "markdown",
      "metadata": {
        "id": "0ltLS3a4V7SM"
      },
      "source": [
        "Reset index and drop index column"
      ]
    },
    {
      "cell_type": "code",
      "metadata": {
        "id": "6wbfYet0nJiu"
      },
      "source": [
        "df_tt.reset_index(inplace = True)\n"
      ],
      "execution_count": 251,
      "outputs": []
    },
    {
      "cell_type": "code",
      "metadata": {
        "colab": {
          "base_uri": "https://localhost:8080/",
          "height": 411
        },
        "id": "OGY2wL2noVH2",
        "outputId": "14aec897-c37b-4d2e-a693-f8169687e808"
      },
      "source": [
        "df_tt.drop(columns = ['index'],inplace = True)\n",
        "df_tt"
      ],
      "execution_count": 252,
      "outputs": [
        {
          "output_type": "execute_result",
          "data": {
            "text/html": [
              "<div>\n",
              "<style scoped>\n",
              "    .dataframe tbody tr th:only-of-type {\n",
              "        vertical-align: middle;\n",
              "    }\n",
              "\n",
              "    .dataframe tbody tr th {\n",
              "        vertical-align: top;\n",
              "    }\n",
              "\n",
              "    .dataframe thead th {\n",
              "        text-align: right;\n",
              "    }\n",
              "</style>\n",
              "<table border=\"1\" class=\"dataframe\">\n",
              "  <thead>\n",
              "    <tr style=\"text-align: right;\">\n",
              "      <th></th>\n",
              "      <th>ID</th>\n",
              "      <th>Gender</th>\n",
              "      <th>Ever_Married</th>\n",
              "      <th>Age</th>\n",
              "      <th>Graduated</th>\n",
              "      <th>Profession</th>\n",
              "      <th>Work_Experience</th>\n",
              "      <th>Spending_Score</th>\n",
              "      <th>Family_Size</th>\n",
              "      <th>Var_1</th>\n",
              "      <th>Segmentation</th>\n",
              "    </tr>\n",
              "  </thead>\n",
              "  <tbody>\n",
              "    <tr>\n",
              "      <th>0</th>\n",
              "      <td>462809</td>\n",
              "      <td>Male</td>\n",
              "      <td>No</td>\n",
              "      <td>22</td>\n",
              "      <td>No</td>\n",
              "      <td>Healthcare</td>\n",
              "      <td>1.0</td>\n",
              "      <td>Low</td>\n",
              "      <td>4.0</td>\n",
              "      <td>Cat_4</td>\n",
              "      <td>D</td>\n",
              "    </tr>\n",
              "    <tr>\n",
              "      <th>1</th>\n",
              "      <td>466315</td>\n",
              "      <td>Female</td>\n",
              "      <td>Yes</td>\n",
              "      <td>67</td>\n",
              "      <td>Yes</td>\n",
              "      <td>Engineer</td>\n",
              "      <td>1.0</td>\n",
              "      <td>Low</td>\n",
              "      <td>1.0</td>\n",
              "      <td>Cat_6</td>\n",
              "      <td>B</td>\n",
              "    </tr>\n",
              "    <tr>\n",
              "      <th>2</th>\n",
              "      <td>461735</td>\n",
              "      <td>Male</td>\n",
              "      <td>Yes</td>\n",
              "      <td>67</td>\n",
              "      <td>Yes</td>\n",
              "      <td>Lawyer</td>\n",
              "      <td>0.0</td>\n",
              "      <td>High</td>\n",
              "      <td>2.0</td>\n",
              "      <td>Cat_6</td>\n",
              "      <td>B</td>\n",
              "    </tr>\n",
              "    <tr>\n",
              "      <th>3</th>\n",
              "      <td>461319</td>\n",
              "      <td>Male</td>\n",
              "      <td>Yes</td>\n",
              "      <td>56</td>\n",
              "      <td>No</td>\n",
              "      <td>Artist</td>\n",
              "      <td>0.0</td>\n",
              "      <td>Average</td>\n",
              "      <td>2.0</td>\n",
              "      <td>Cat_6</td>\n",
              "      <td>C</td>\n",
              "    </tr>\n",
              "    <tr>\n",
              "      <th>4</th>\n",
              "      <td>460156</td>\n",
              "      <td>Male</td>\n",
              "      <td>No</td>\n",
              "      <td>32</td>\n",
              "      <td>Yes</td>\n",
              "      <td>Healthcare</td>\n",
              "      <td>1.0</td>\n",
              "      <td>Low</td>\n",
              "      <td>3.0</td>\n",
              "      <td>Cat_6</td>\n",
              "      <td>C</td>\n",
              "    </tr>\n",
              "    <tr>\n",
              "      <th>...</th>\n",
              "      <td>...</td>\n",
              "      <td>...</td>\n",
              "      <td>...</td>\n",
              "      <td>...</td>\n",
              "      <td>...</td>\n",
              "      <td>...</td>\n",
              "      <td>...</td>\n",
              "      <td>...</td>\n",
              "      <td>...</td>\n",
              "      <td>...</td>\n",
              "      <td>...</td>\n",
              "    </tr>\n",
              "    <tr>\n",
              "      <th>6660</th>\n",
              "      <td>463002</td>\n",
              "      <td>Male</td>\n",
              "      <td>Yes</td>\n",
              "      <td>41</td>\n",
              "      <td>Yes</td>\n",
              "      <td>Artist</td>\n",
              "      <td>0.0</td>\n",
              "      <td>High</td>\n",
              "      <td>5.0</td>\n",
              "      <td>Cat_6</td>\n",
              "      <td>B</td>\n",
              "    </tr>\n",
              "    <tr>\n",
              "      <th>6661</th>\n",
              "      <td>464685</td>\n",
              "      <td>Male</td>\n",
              "      <td>No</td>\n",
              "      <td>35</td>\n",
              "      <td>No</td>\n",
              "      <td>Executive</td>\n",
              "      <td>3.0</td>\n",
              "      <td>Low</td>\n",
              "      <td>4.0</td>\n",
              "      <td>Cat_4</td>\n",
              "      <td>D</td>\n",
              "    </tr>\n",
              "    <tr>\n",
              "      <th>6662</th>\n",
              "      <td>465406</td>\n",
              "      <td>Female</td>\n",
              "      <td>No</td>\n",
              "      <td>33</td>\n",
              "      <td>Yes</td>\n",
              "      <td>Healthcare</td>\n",
              "      <td>1.0</td>\n",
              "      <td>Low</td>\n",
              "      <td>1.0</td>\n",
              "      <td>Cat_6</td>\n",
              "      <td>D</td>\n",
              "    </tr>\n",
              "    <tr>\n",
              "      <th>6663</th>\n",
              "      <td>467299</td>\n",
              "      <td>Female</td>\n",
              "      <td>No</td>\n",
              "      <td>27</td>\n",
              "      <td>Yes</td>\n",
              "      <td>Healthcare</td>\n",
              "      <td>1.0</td>\n",
              "      <td>Low</td>\n",
              "      <td>4.0</td>\n",
              "      <td>Cat_6</td>\n",
              "      <td>B</td>\n",
              "    </tr>\n",
              "    <tr>\n",
              "      <th>6664</th>\n",
              "      <td>461879</td>\n",
              "      <td>Male</td>\n",
              "      <td>Yes</td>\n",
              "      <td>37</td>\n",
              "      <td>Yes</td>\n",
              "      <td>Executive</td>\n",
              "      <td>0.0</td>\n",
              "      <td>Average</td>\n",
              "      <td>3.0</td>\n",
              "      <td>Cat_4</td>\n",
              "      <td>B</td>\n",
              "    </tr>\n",
              "  </tbody>\n",
              "</table>\n",
              "<p>6665 rows × 11 columns</p>\n",
              "</div>"
            ],
            "text/plain": [
              "          ID  Gender Ever_Married  ...  Family_Size  Var_1 Segmentation\n",
              "0     462809    Male           No  ...          4.0  Cat_4            D\n",
              "1     466315  Female          Yes  ...          1.0  Cat_6            B\n",
              "2     461735    Male          Yes  ...          2.0  Cat_6            B\n",
              "3     461319    Male          Yes  ...          2.0  Cat_6            C\n",
              "4     460156    Male           No  ...          3.0  Cat_6            C\n",
              "...      ...     ...          ...  ...          ...    ...          ...\n",
              "6660  463002    Male          Yes  ...          5.0  Cat_6            B\n",
              "6661  464685    Male           No  ...          4.0  Cat_4            D\n",
              "6662  465406  Female           No  ...          1.0  Cat_6            D\n",
              "6663  467299  Female           No  ...          4.0  Cat_6            B\n",
              "6664  461879    Male          Yes  ...          3.0  Cat_4            B\n",
              "\n",
              "[6665 rows x 11 columns]"
            ]
          },
          "metadata": {
            "tags": []
          },
          "execution_count": 252
        }
      ]
    },
    {
      "cell_type": "markdown",
      "metadata": {
        "id": "-UkfyIfdVJ6a"
      },
      "source": [
        "summary statistics"
      ]
    },
    {
      "cell_type": "code",
      "metadata": {
        "colab": {
          "base_uri": "https://localhost:8080/",
          "height": 277
        },
        "id": "alV9PjcLl3Rl",
        "outputId": "bf9dbe1a-8fbf-4224-9c11-9e30525277e0"
      },
      "source": [
        "df_tt.describe()"
      ],
      "execution_count": 253,
      "outputs": [
        {
          "output_type": "execute_result",
          "data": {
            "text/html": [
              "<div>\n",
              "<style scoped>\n",
              "    .dataframe tbody tr th:only-of-type {\n",
              "        vertical-align: middle;\n",
              "    }\n",
              "\n",
              "    .dataframe tbody tr th {\n",
              "        vertical-align: top;\n",
              "    }\n",
              "\n",
              "    .dataframe thead th {\n",
              "        text-align: right;\n",
              "    }\n",
              "</style>\n",
              "<table border=\"1\" class=\"dataframe\">\n",
              "  <thead>\n",
              "    <tr style=\"text-align: right;\">\n",
              "      <th></th>\n",
              "      <th>ID</th>\n",
              "      <th>Age</th>\n",
              "      <th>Work_Experience</th>\n",
              "      <th>Family_Size</th>\n",
              "    </tr>\n",
              "  </thead>\n",
              "  <tbody>\n",
              "    <tr>\n",
              "      <th>count</th>\n",
              "      <td>6665.00000</td>\n",
              "      <td>6665.000000</td>\n",
              "      <td>6665.000000</td>\n",
              "      <td>6665.000000</td>\n",
              "    </tr>\n",
              "    <tr>\n",
              "      <th>mean</th>\n",
              "      <td>463519.84096</td>\n",
              "      <td>43.536084</td>\n",
              "      <td>2.629107</td>\n",
              "      <td>2.841110</td>\n",
              "    </tr>\n",
              "    <tr>\n",
              "      <th>std</th>\n",
              "      <td>2566.43174</td>\n",
              "      <td>16.524054</td>\n",
              "      <td>3.405365</td>\n",
              "      <td>1.524743</td>\n",
              "    </tr>\n",
              "    <tr>\n",
              "      <th>min</th>\n",
              "      <td>458982.00000</td>\n",
              "      <td>18.000000</td>\n",
              "      <td>0.000000</td>\n",
              "      <td>1.000000</td>\n",
              "    </tr>\n",
              "    <tr>\n",
              "      <th>25%</th>\n",
              "      <td>461349.00000</td>\n",
              "      <td>31.000000</td>\n",
              "      <td>0.000000</td>\n",
              "      <td>2.000000</td>\n",
              "    </tr>\n",
              "    <tr>\n",
              "      <th>50%</th>\n",
              "      <td>463575.00000</td>\n",
              "      <td>41.000000</td>\n",
              "      <td>1.000000</td>\n",
              "      <td>2.000000</td>\n",
              "    </tr>\n",
              "    <tr>\n",
              "      <th>75%</th>\n",
              "      <td>465741.00000</td>\n",
              "      <td>53.000000</td>\n",
              "      <td>4.000000</td>\n",
              "      <td>4.000000</td>\n",
              "    </tr>\n",
              "    <tr>\n",
              "      <th>max</th>\n",
              "      <td>467974.00000</td>\n",
              "      <td>89.000000</td>\n",
              "      <td>14.000000</td>\n",
              "      <td>9.000000</td>\n",
              "    </tr>\n",
              "  </tbody>\n",
              "</table>\n",
              "</div>"
            ],
            "text/plain": [
              "                 ID          Age  Work_Experience  Family_Size\n",
              "count    6665.00000  6665.000000      6665.000000  6665.000000\n",
              "mean   463519.84096    43.536084         2.629107     2.841110\n",
              "std      2566.43174    16.524054         3.405365     1.524743\n",
              "min    458982.00000    18.000000         0.000000     1.000000\n",
              "25%    461349.00000    31.000000         0.000000     2.000000\n",
              "50%    463575.00000    41.000000         1.000000     2.000000\n",
              "75%    465741.00000    53.000000         4.000000     4.000000\n",
              "max    467974.00000    89.000000        14.000000     9.000000"
            ]
          },
          "metadata": {
            "tags": []
          },
          "execution_count": 253
        }
      ]
    },
    {
      "cell_type": "code",
      "metadata": {
        "colab": {
          "base_uri": "https://localhost:8080/"
        },
        "id": "U163EbmkZvnV",
        "outputId": "8b85fb7e-ab71-47b3-c56f-cd46e3e2a254"
      },
      "source": [
        "df_tt['Gender'].dtype"
      ],
      "execution_count": 254,
      "outputs": [
        {
          "output_type": "execute_result",
          "data": {
            "text/plain": [
              "dtype('O')"
            ]
          },
          "metadata": {
            "tags": []
          },
          "execution_count": 254
        }
      ]
    },
    {
      "cell_type": "markdown",
      "metadata": {
        "id": "gCdNGHc5XPrf"
      },
      "source": [
        "##Distibution of columns / features\n"
      ]
    },
    {
      "cell_type": "code",
      "metadata": {
        "colab": {
          "base_uri": "https://localhost:8080/",
          "height": 307
        },
        "id": "7OxKL5QDmWTk",
        "outputId": "3a5f8c72-f8ec-4281-82b7-28032c3e1512"
      },
      "source": [
        "df_tt['Gender'].value_counts().plot(kind = 'bar')"
      ],
      "execution_count": 255,
      "outputs": [
        {
          "output_type": "execute_result",
          "data": {
            "text/plain": [
              "<matplotlib.axes._subplots.AxesSubplot at 0x7f1816fcc5d0>"
            ]
          },
          "metadata": {
            "tags": []
          },
          "execution_count": 255
        },
        {
          "output_type": "display_data",
          "data": {
            "image/png": "[encoded data removed]",
            "text/plain": [
              "<Figure size 432x288 with 1 Axes>"
            ]
          },
          "metadata": {
            "tags": [],
            "needs_background": "light"
          }
        }
      ]
    },
    {
      "cell_type": "code",
      "metadata": {
        "colab": {
          "base_uri": "https://localhost:8080/",
          "height": 287
        },
        "id": "geqRz_SAZQF_",
        "outputId": "87ca4d9e-a3dc-47e6-aca9-c305fdeefd56"
      },
      "source": [
        "df_tt['Ever_Married'].value_counts().plot(kind = 'bar')"
      ],
      "execution_count": 256,
      "outputs": [
        {
          "output_type": "execute_result",
          "data": {
            "text/plain": [
              "<matplotlib.axes._subplots.AxesSubplot at 0x7f180a3e3310>"
            ]
          },
          "metadata": {
            "tags": []
          },
          "execution_count": 256
        },
        {
          "output_type": "display_data",
          "data": {
            "image/png": "[encoded data removed]",
            "text/plain": [
              "<Figure size 432x288 with 1 Axes>"
            ]
          },
          "metadata": {
            "tags": [],
            "needs_background": "light"
          }
        }
      ]
    },
    {
      "cell_type": "code",
      "metadata": {
        "colab": {
          "base_uri": "https://localhost:8080/",
          "height": 287
        },
        "id": "hLrmCJuZZ5oT",
        "outputId": "00212c40-c15c-48f7-e0b2-7a10aae8ba2b"
      },
      "source": [
        "df_tt['Graduated'].value_counts().plot(kind = 'bar')"
      ],
      "execution_count": 257,
      "outputs": [
        {
          "output_type": "execute_result",
          "data": {
            "text/plain": [
              "<matplotlib.axes._subplots.AxesSubplot at 0x7f180a200150>"
            ]
          },
          "metadata": {
            "tags": []
          },
          "execution_count": 257
        },
        {
          "output_type": "display_data",
          "data": {
            "image/png": "[encoded data removed]",
            "text/plain": [
              "<Figure size 432x288 with 1 Axes>"
            ]
          },
          "metadata": {
            "tags": [],
            "needs_background": "light"
          }
        }
      ]
    },
    {
      "cell_type": "code",
      "metadata": {
        "colab": {
          "base_uri": "https://localhost:8080/",
          "height": 343
        },
        "id": "iZl8dTB4aDxs",
        "outputId": "b78224aa-1956-41d0-8005-57d7268bf3a7"
      },
      "source": [
        "df_tt['Profession'].value_counts().plot(kind = 'bar')"
      ],
      "execution_count": 258,
      "outputs": [
        {
          "output_type": "execute_result",
          "data": {
            "text/plain": [
              "<matplotlib.axes._subplots.AxesSubplot at 0x7f180a370250>"
            ]
          },
          "metadata": {
            "tags": []
          },
          "execution_count": 258
        },
        {
          "output_type": "display_data",
          "data": {
            "image/png": "[encoded data removed]",
            "text/plain": [
              "<Figure size 432x288 with 1 Axes>"
            ]
          },
          "metadata": {
            "tags": [],
            "needs_background": "light"
          }
        }
      ]
    },
    {
      "cell_type": "markdown",
      "metadata": {
        "id": "KCY4_bmE-EwC"
      },
      "source": [
        "The distribution of the customer segmentation is faily balanced among the classes, therfore the examples in the dataset for each customer segmentation is not too biased or skewed. The model will also have enough(balanced) examples from each class to learn"
      ]
    },
    {
      "cell_type": "code",
      "metadata": {
        "colab": {
          "base_uri": "https://localhost:8080/",
          "height": 278
        },
        "id": "XPIWp0TgaJtl",
        "outputId": "91228c0b-71d1-4dbe-f944-2b449a1066c5"
      },
      "source": [
        "df_tt['Segmentation'].value_counts().plot(kind = 'bar')"
      ],
      "execution_count": 259,
      "outputs": [
        {
          "output_type": "execute_result",
          "data": {
            "text/plain": [
              "<matplotlib.axes._subplots.AxesSubplot at 0x7f18124f3190>"
            ]
          },
          "metadata": {
            "tags": []
          },
          "execution_count": 259
        },
        {
          "output_type": "display_data",
          "data": {
            "image/png": "[encoded data removed]",
            "text/plain": [
              "<Figure size 432x288 with 1 Axes>"
            ]
          },
          "metadata": {
            "tags": [],
            "needs_background": "light"
          }
        }
      ]
    },
    {
      "cell_type": "code",
      "metadata": {
        "colab": {
          "base_uri": "https://localhost:8080/",
          "height": 300
        },
        "id": "Lcb8V2I2w4dX",
        "outputId": "5cddcb29-7c27-4260-c5be-96a237fdf558"
      },
      "source": [
        "df_tt['Var_1'].value_counts().plot(kind = 'bar')"
      ],
      "execution_count": 260,
      "outputs": [
        {
          "output_type": "execute_result",
          "data": {
            "text/plain": [
              "<matplotlib.axes._subplots.AxesSubplot at 0x7f18119d8c90>"
            ]
          },
          "metadata": {
            "tags": []
          },
          "execution_count": 260
        },
        {
          "output_type": "display_data",
          "data": {
            "image/png": "[encoded data removed]",
            "text/plain": [
              "<Figure size 432x288 with 1 Axes>"
            ]
          },
          "metadata": {
            "tags": [],
            "needs_background": "light"
          }
        }
      ]
    },
    {
      "cell_type": "markdown",
      "metadata": {
        "id": "4V-RyrQ5_Viq"
      },
      "source": [
        "The age distribution shows that the majority oof the customers are young"
      ]
    },
    {
      "cell_type": "code",
      "metadata": {
        "colab": {
          "base_uri": "https://localhost:8080/",
          "height": 295
        },
        "id": "0UdKVq2Vw8yW",
        "outputId": "fef179dd-7893-42be-99e6-6d3dbefd02ca"
      },
      "source": [
        "import seaborn as sns\n",
        "sns.kdeplot(df_tt['Age'],label = 'age')"
      ],
      "execution_count": 261,
      "outputs": [
        {
          "output_type": "execute_result",
          "data": {
            "text/plain": [
              "<matplotlib.axes._subplots.AxesSubplot at 0x7f1811944650>"
            ]
          },
          "metadata": {
            "tags": []
          },
          "execution_count": 261
        },
        {
          "output_type": "display_data",
          "data": {
            "image/png": "[encoded data removed]",
            "text/plain": [
              "<Figure size 432x288 with 1 Axes>"
            ]
          },
          "metadata": {
            "tags": [],
            "needs_background": "light"
          }
        }
      ]
    },
    {
      "cell_type": "code",
      "metadata": {
        "colab": {
          "base_uri": "https://localhost:8080/",
          "height": 293
        },
        "id": "AbnuHT5IxiKO",
        "outputId": "292b4e76-18b0-46eb-db29-3300597e6b1b"
      },
      "source": [
        "df_tt['Work_Experience'].value_counts().plot(kind = 'bar')"
      ],
      "execution_count": 262,
      "outputs": [
        {
          "output_type": "execute_result",
          "data": {
            "text/plain": [
              "<matplotlib.axes._subplots.AxesSubplot at 0x7f181191ce50>"
            ]
          },
          "metadata": {
            "tags": []
          },
          "execution_count": 262
        },
        {
          "output_type": "display_data",
          "data": {
            "image/png": "[encoded data removed]",
            "text/plain": [
              "<Figure size 432x288 with 1 Axes>"
            ]
          },
          "metadata": {
            "tags": [],
            "needs_background": "light"
          }
        }
      ]
    },
    {
      "cell_type": "code",
      "metadata": {
        "colab": {
          "base_uri": "https://localhost:8080/",
          "height": 312
        },
        "id": "yBMtAcJhVjPh",
        "outputId": "ac72d852-c91a-4f99-9348-ccaa1572309c"
      },
      "source": [
        "df_tt['Spending_Score'].value_counts().plot(kind = 'bar')"
      ],
      "execution_count": 263,
      "outputs": [
        {
          "output_type": "execute_result",
          "data": {
            "text/plain": [
              "<matplotlib.axes._subplots.AxesSubplot at 0x7f18118618d0>"
            ]
          },
          "metadata": {
            "tags": []
          },
          "execution_count": 263
        },
        {
          "output_type": "display_data",
          "data": {
            "image/png": "[encoded data removed]",
            "text/plain": [
              "<Figure size 432x288 with 1 Axes>"
            ]
          },
          "metadata": {
            "tags": [],
            "needs_background": "light"
          }
        }
      ]
    },
    {
      "cell_type": "code",
      "metadata": {
        "colab": {
          "base_uri": "https://localhost:8080/",
          "height": 287
        },
        "id": "ir4YD1wtWfo6",
        "outputId": "56f9b722-8f61-44c6-e0d7-0173b42ba78a"
      },
      "source": [
        "df_tt['Family_Size'].value_counts().plot(kind = 'bar')"
      ],
      "execution_count": 264,
      "outputs": [
        {
          "output_type": "execute_result",
          "data": {
            "text/plain": [
              "<matplotlib.axes._subplots.AxesSubplot at 0x7f181182bd10>"
            ]
          },
          "metadata": {
            "tags": []
          },
          "execution_count": 264
        },
        {
          "output_type": "display_data",
          "data": {
            "image/png": "[encoded data removed]",
            "text/plain": [
              "<Figure size 432x288 with 1 Axes>"
            ]
          },
          "metadata": {
            "tags": [],
            "needs_background": "light"
          }
        }
      ]
    },
    {
      "cell_type": "markdown",
      "metadata": {
        "id": "yef4aC_nWtGd"
      },
      "source": [
        "##Input-output Feature relationship / distribution. \n",
        "\n",
        "See the distribution of the columns/ features in the various customer segments `A,B,C,D`\n",
        "\n",
        "========================================================================\n",
        "\n",
        "Distribution of age in the customer segments\n",
        "\n"
      ]
    },
    {
      "cell_type": "code",
      "metadata": {
        "colab": {
          "base_uri": "https://localhost:8080/",
          "height": 398
        },
        "id": "tFLW71x1WiqP",
        "outputId": "95eabd7a-9ea2-4940-df87-261ab32bf85d"
      },
      "source": [
        "\n",
        "sns.catplot(y = 'Segmentation',x = 'Age',data = df_tt)\n"
      ],
      "execution_count": 265,
      "outputs": [
        {
          "output_type": "execute_result",
          "data": {
            "text/plain": [
              "<seaborn.axisgrid.FacetGrid at 0x7f18117b9f50>"
            ]
          },
          "metadata": {
            "tags": []
          },
          "execution_count": 265
        },
        {
          "output_type": "display_data",
          "data": {
            "image/png": "[encoded data removed]",
            "text/plain": [
              "<Figure size 360x360 with 1 Axes>"
            ]
          },
          "metadata": {
            "tags": [],
            "needs_background": "light"
          }
        }
      ]
    },
    {
      "cell_type": "code",
      "metadata": {
        "colab": {
          "base_uri": "https://localhost:8080/",
          "height": 295
        },
        "id": "8WaMra0jXeZg",
        "outputId": "74ccac79-7db4-488f-8f37-fca3a10b9709"
      },
      "source": [
        "import matplotlib.pyplot as plt\n",
        "sns.kdeplot(df_tt['Age'][df_tt['Segmentation']=='A'],label = 'A')\n",
        "sns.kdeplot(df_tt['Age'][df_tt['Segmentation']=='B'],label = 'B')\n",
        "sns.kdeplot(df_tt['Age'][df_tt['Segmentation']=='C'],label = 'C')\n",
        "sns.kdeplot(df_tt['Age'][df_tt['Segmentation']=='D'],label = 'D')\n",
        "plt.legend()"
      ],
      "execution_count": 266,
      "outputs": [
        {
          "output_type": "execute_result",
          "data": {
            "text/plain": [
              "<matplotlib.legend.Legend at 0x7f18116c5fd0>"
            ]
          },
          "metadata": {
            "tags": []
          },
          "execution_count": 266
        },
        {
          "output_type": "display_data",
          "data": {
            "image/png": "[encoded data removed]",
            "text/plain": [
              "<Figure size 432x288 with 1 Axes>"
            ]
          },
          "metadata": {
            "tags": [],
            "needs_background": "light"
          }
        }
      ]
    },
    {
      "cell_type": "markdown",
      "metadata": {
        "id": "8QMiBJafXOPJ"
      },
      "source": [
        "Function to check the distribution of `columnn/feature`\n",
        " in the various customer segments\n",
        "\n",
        "\n",
        "\n"
      ]
    },
    {
      "cell_type": "code",
      "metadata": {
        "id": "09vhlO-ju7io"
      },
      "source": [
        "def explore_feature_segmentation(feature = None):\n",
        "         print(feature,'distribution per customer segmentation')\n",
        "         exp =  pd.concat([pd.DataFrame(df_tt[feature][df_tt['Segmentation'] == 'A'].value_counts()),\n",
        "         pd.DataFrame(df_tt[feature][df_tt['Segmentation'] == 'B'].value_counts()),\n",
        "         pd.DataFrame(df_tt[feature][df_tt['Segmentation'] == 'C'].value_counts()),\n",
        "         pd.DataFrame(df_tt[feature][df_tt['Segmentation'] == 'D'].value_counts())],axis = 1\n",
        "          )\n",
        "         exp.columns = df_tt['Segmentation'].unique()\n",
        "         return exp\n",
        "\n"
      ],
      "execution_count": 267,
      "outputs": []
    },
    {
      "cell_type": "code",
      "metadata": {
        "colab": {
          "base_uri": "https://localhost:8080/",
          "height": 121
        },
        "id": "s12yfu-1ubEj",
        "outputId": "5a431909-7fac-4681-8e40-7ad2e75f4c5f"
      },
      "source": [
        "gender_seg = explore_feature_segmentation(feature = 'Gender')\n",
        "gender_seg"
      ],
      "execution_count": 268,
      "outputs": [
        {
          "output_type": "stream",
          "text": [
            "Gender distribution per customer segmentation\n"
          ],
          "name": "stdout"
        },
        {
          "output_type": "execute_result",
          "data": {
            "text/html": [
              "<div>\n",
              "<style scoped>\n",
              "    .dataframe tbody tr th:only-of-type {\n",
              "        vertical-align: middle;\n",
              "    }\n",
              "\n",
              "    .dataframe tbody tr th {\n",
              "        vertical-align: top;\n",
              "    }\n",
              "\n",
              "    .dataframe thead th {\n",
              "        text-align: right;\n",
              "    }\n",
              "</style>\n",
              "<table border=\"1\" class=\"dataframe\">\n",
              "  <thead>\n",
              "    <tr style=\"text-align: right;\">\n",
              "      <th></th>\n",
              "      <th>D</th>\n",
              "      <th>B</th>\n",
              "      <th>C</th>\n",
              "      <th>A</th>\n",
              "    </tr>\n",
              "  </thead>\n",
              "  <tbody>\n",
              "    <tr>\n",
              "      <th>Male</th>\n",
              "      <td>876</td>\n",
              "      <td>840</td>\n",
              "      <td>925</td>\n",
              "      <td>1036</td>\n",
              "    </tr>\n",
              "    <tr>\n",
              "      <th>Female</th>\n",
              "      <td>740</td>\n",
              "      <td>732</td>\n",
              "      <td>795</td>\n",
              "      <td>721</td>\n",
              "    </tr>\n",
              "  </tbody>\n",
              "</table>\n",
              "</div>"
            ],
            "text/plain": [
              "          D    B    C     A\n",
              "Male    876  840  925  1036\n",
              "Female  740  732  795   721"
            ]
          },
          "metadata": {
            "tags": []
          },
          "execution_count": 268
        }
      ]
    },
    {
      "cell_type": "code",
      "metadata": {
        "colab": {
          "base_uri": "https://localhost:8080/",
          "height": 307
        },
        "id": "wMOLTDf1rniK",
        "outputId": "499b5b81-40b6-4c83-82b1-916c549c9f2d"
      },
      "source": [
        "gender_seg.plot(kind = 'bar')"
      ],
      "execution_count": 269,
      "outputs": [
        {
          "output_type": "execute_result",
          "data": {
            "text/plain": [
              "<matplotlib.axes._subplots.AxesSubplot at 0x7f1811640dd0>"
            ]
          },
          "metadata": {
            "tags": []
          },
          "execution_count": 269
        },
        {
          "output_type": "display_data",
          "data": {
            "image/png": "[encoded data removed]",
            "text/plain": [
              "<Figure size 432x288 with 1 Axes>"
            ]
          },
          "metadata": {
            "tags": [],
            "needs_background": "light"
          }
        }
      ]
    },
    {
      "cell_type": "code",
      "metadata": {
        "colab": {
          "base_uri": "https://localhost:8080/",
          "height": 121
        },
        "id": "mCiFqZEzjfiZ",
        "outputId": "5084c57d-f945-48e8-9502-26d2f132dc4b"
      },
      "source": [
        "married_seg = explore_feature_segmentation(feature = 'Ever_Married')\n",
        "married_seg"
      ],
      "execution_count": 270,
      "outputs": [
        {
          "output_type": "stream",
          "text": [
            "Ever_Married distribution per customer segmentation\n"
          ],
          "name": "stdout"
        },
        {
          "output_type": "execute_result",
          "data": {
            "text/html": [
              "<div>\n",
              "<style scoped>\n",
              "    .dataframe tbody tr th:only-of-type {\n",
              "        vertical-align: middle;\n",
              "    }\n",
              "\n",
              "    .dataframe tbody tr th {\n",
              "        vertical-align: top;\n",
              "    }\n",
              "\n",
              "    .dataframe thead th {\n",
              "        text-align: right;\n",
              "    }\n",
              "</style>\n",
              "<table border=\"1\" class=\"dataframe\">\n",
              "  <thead>\n",
              "    <tr style=\"text-align: right;\">\n",
              "      <th></th>\n",
              "      <th>D</th>\n",
              "      <th>B</th>\n",
              "      <th>C</th>\n",
              "      <th>A</th>\n",
              "    </tr>\n",
              "  </thead>\n",
              "  <tbody>\n",
              "    <tr>\n",
              "      <th>Yes</th>\n",
              "      <td>940</td>\n",
              "      <td>1153</td>\n",
              "      <td>1382</td>\n",
              "      <td>469</td>\n",
              "    </tr>\n",
              "    <tr>\n",
              "      <th>No</th>\n",
              "      <td>676</td>\n",
              "      <td>419</td>\n",
              "      <td>338</td>\n",
              "      <td>1288</td>\n",
              "    </tr>\n",
              "  </tbody>\n",
              "</table>\n",
              "</div>"
            ],
            "text/plain": [
              "       D     B     C     A\n",
              "Yes  940  1153  1382   469\n",
              "No   676   419   338  1288"
            ]
          },
          "metadata": {
            "tags": []
          },
          "execution_count": 270
        }
      ]
    },
    {
      "cell_type": "code",
      "metadata": {
        "colab": {
          "base_uri": "https://localhost:8080/",
          "height": 287
        },
        "id": "OK20r1G6wdrI",
        "outputId": "d9877b54-7536-43de-fcf1-c7f230d4d0c8"
      },
      "source": [
        "married_seg.plot(kind = 'bar')"
      ],
      "execution_count": 271,
      "outputs": [
        {
          "output_type": "execute_result",
          "data": {
            "text/plain": [
              "<matplotlib.axes._subplots.AxesSubplot at 0x7f18115c8a10>"
            ]
          },
          "metadata": {
            "tags": []
          },
          "execution_count": 271
        },
        {
          "output_type": "display_data",
          "data": {
            "image/png": "[encoded data removed]",
            "text/plain": [
              "<Figure size 432x288 with 1 Axes>"
            ]
          },
          "metadata": {
            "tags": [],
            "needs_background": "light"
          }
        }
      ]
    },
    {
      "cell_type": "code",
      "metadata": {
        "colab": {
          "base_uri": "https://localhost:8080/",
          "height": 322
        },
        "id": "xyc2VU9swpF_",
        "outputId": "4799d7b3-6f77-4c23-ad0b-5bdf7e21c49c"
      },
      "source": [
        "prof_seg = explore_feature_segmentation(feature = 'Profession')\n",
        "prof_seg\n"
      ],
      "execution_count": 272,
      "outputs": [
        {
          "output_type": "stream",
          "text": [
            "Profession distribution per customer segmentation\n"
          ],
          "name": "stdout"
        },
        {
          "output_type": "execute_result",
          "data": {
            "text/html": [
              "<div>\n",
              "<style scoped>\n",
              "    .dataframe tbody tr th:only-of-type {\n",
              "        vertical-align: middle;\n",
              "    }\n",
              "\n",
              "    .dataframe tbody tr th {\n",
              "        vertical-align: top;\n",
              "    }\n",
              "\n",
              "    .dataframe thead th {\n",
              "        text-align: right;\n",
              "    }\n",
              "</style>\n",
              "<table border=\"1\" class=\"dataframe\">\n",
              "  <thead>\n",
              "    <tr style=\"text-align: right;\">\n",
              "      <th></th>\n",
              "      <th>D</th>\n",
              "      <th>B</th>\n",
              "      <th>C</th>\n",
              "      <th>A</th>\n",
              "    </tr>\n",
              "  </thead>\n",
              "  <tbody>\n",
              "    <tr>\n",
              "      <th>Artist</th>\n",
              "      <td>470</td>\n",
              "      <td>660</td>\n",
              "      <td>948</td>\n",
              "      <td>114</td>\n",
              "    </tr>\n",
              "    <tr>\n",
              "      <th>Entertainment</th>\n",
              "      <td>320</td>\n",
              "      <td>191</td>\n",
              "      <td>125</td>\n",
              "      <td>173</td>\n",
              "    </tr>\n",
              "    <tr>\n",
              "      <th>Engineer</th>\n",
              "      <td>221</td>\n",
              "      <td>159</td>\n",
              "      <td>64</td>\n",
              "      <td>138</td>\n",
              "    </tr>\n",
              "    <tr>\n",
              "      <th>Doctor</th>\n",
              "      <td>168</td>\n",
              "      <td>127</td>\n",
              "      <td>123</td>\n",
              "      <td>174</td>\n",
              "    </tr>\n",
              "    <tr>\n",
              "      <th>Lawyer</th>\n",
              "      <td>157</td>\n",
              "      <td>133</td>\n",
              "      <td>124</td>\n",
              "      <td>86</td>\n",
              "    </tr>\n",
              "    <tr>\n",
              "      <th>Executive</th>\n",
              "      <td>98</td>\n",
              "      <td>149</td>\n",
              "      <td>164</td>\n",
              "      <td>94</td>\n",
              "    </tr>\n",
              "    <tr>\n",
              "      <th>Healthcare</th>\n",
              "      <td>88</td>\n",
              "      <td>85</td>\n",
              "      <td>124</td>\n",
              "      <td>780</td>\n",
              "    </tr>\n",
              "    <tr>\n",
              "      <th>Homemaker</th>\n",
              "      <td>48</td>\n",
              "      <td>44</td>\n",
              "      <td>19</td>\n",
              "      <td>64</td>\n",
              "    </tr>\n",
              "    <tr>\n",
              "      <th>Marketing</th>\n",
              "      <td>46</td>\n",
              "      <td>24</td>\n",
              "      <td>29</td>\n",
              "      <td>134</td>\n",
              "    </tr>\n",
              "  </tbody>\n",
              "</table>\n",
              "</div>"
            ],
            "text/plain": [
              "                 D    B    C    A\n",
              "Artist         470  660  948  114\n",
              "Entertainment  320  191  125  173\n",
              "Engineer       221  159   64  138\n",
              "Doctor         168  127  123  174\n",
              "Lawyer         157  133  124   86\n",
              "Executive       98  149  164   94\n",
              "Healthcare      88   85  124  780\n",
              "Homemaker       48   44   19   64\n",
              "Marketing       46   24   29  134"
            ]
          },
          "metadata": {
            "tags": []
          },
          "execution_count": 272
        }
      ]
    },
    {
      "cell_type": "code",
      "metadata": {
        "colab": {
          "base_uri": "https://localhost:8080/",
          "height": 343
        },
        "id": "LV4klUXLw_u_",
        "outputId": "6e775f73-d86b-401e-f0f6-3034b8644bb1"
      },
      "source": [
        "prof_seg.plot(kind = 'bar')"
      ],
      "execution_count": 273,
      "outputs": [
        {
          "output_type": "execute_result",
          "data": {
            "text/plain": [
              "<matplotlib.axes._subplots.AxesSubplot at 0x7f1811572990>"
            ]
          },
          "metadata": {
            "tags": []
          },
          "execution_count": 273
        },
        {
          "output_type": "display_data",
          "data": {
            "image/png": "[encoded data removed]",
            "text/plain": [
              "<Figure size 432x288 with 1 Axes>"
            ]
          },
          "metadata": {
            "tags": [],
            "needs_background": "light"
          }
        }
      ]
    },
    {
      "cell_type": "code",
      "metadata": {
        "colab": {
          "base_uri": "https://localhost:8080/",
          "height": 121
        },
        "id": "5bo8a5MJxJH2",
        "outputId": "6b9fa30f-1876-4d9a-eb3a-df6f7f96035e"
      },
      "source": [
        "grad_seg = explore_feature_segmentation(feature = 'Graduated')\n",
        "grad_seg"
      ],
      "execution_count": 274,
      "outputs": [
        {
          "output_type": "stream",
          "text": [
            "Graduated distribution per customer segmentation\n"
          ],
          "name": "stdout"
        },
        {
          "output_type": "execute_result",
          "data": {
            "text/html": [
              "<div>\n",
              "<style scoped>\n",
              "    .dataframe tbody tr th:only-of-type {\n",
              "        vertical-align: middle;\n",
              "    }\n",
              "\n",
              "    .dataframe tbody tr th {\n",
              "        vertical-align: top;\n",
              "    }\n",
              "\n",
              "    .dataframe thead th {\n",
              "        text-align: right;\n",
              "    }\n",
              "</style>\n",
              "<table border=\"1\" class=\"dataframe\">\n",
              "  <thead>\n",
              "    <tr style=\"text-align: right;\">\n",
              "      <th></th>\n",
              "      <th>D</th>\n",
              "      <th>B</th>\n",
              "      <th>C</th>\n",
              "      <th>A</th>\n",
              "    </tr>\n",
              "  </thead>\n",
              "  <tbody>\n",
              "    <tr>\n",
              "      <th>Yes</th>\n",
              "      <td>1025</td>\n",
              "      <td>1151</td>\n",
              "      <td>1434</td>\n",
              "      <td>639</td>\n",
              "    </tr>\n",
              "    <tr>\n",
              "      <th>No</th>\n",
              "      <td>591</td>\n",
              "      <td>421</td>\n",
              "      <td>286</td>\n",
              "      <td>1118</td>\n",
              "    </tr>\n",
              "  </tbody>\n",
              "</table>\n",
              "</div>"
            ],
            "text/plain": [
              "        D     B     C     A\n",
              "Yes  1025  1151  1434   639\n",
              "No    591   421   286  1118"
            ]
          },
          "metadata": {
            "tags": []
          },
          "execution_count": 274
        }
      ]
    },
    {
      "cell_type": "code",
      "metadata": {
        "colab": {
          "base_uri": "https://localhost:8080/",
          "height": 287
        },
        "id": "E0hcpze8xgpf",
        "outputId": "6761c62b-4369-40bd-a78c-3b4d09a9d5ea"
      },
      "source": [
        "grad_seg.plot(kind = 'bar')"
      ],
      "execution_count": 275,
      "outputs": [
        {
          "output_type": "execute_result",
          "data": {
            "text/plain": [
              "<matplotlib.axes._subplots.AxesSubplot at 0x7f1811444ed0>"
            ]
          },
          "metadata": {
            "tags": []
          },
          "execution_count": 275
        },
        {
          "output_type": "display_data",
          "data": {
            "image/png": "[encoded data removed]",
            "text/plain": [
              "<Figure size 432x288 with 1 Axes>"
            ]
          },
          "metadata": {
            "tags": [],
            "needs_background": "light"
          }
        }
      ]
    },
    {
      "cell_type": "code",
      "metadata": {
        "colab": {
          "base_uri": "https://localhost:8080/",
          "height": 495
        },
        "id": "ecuciuVYxjqW",
        "outputId": "3a733c1d-9c5a-46be-e7bc-5740e3a9b21a"
      },
      "source": [
        "work_seg = explore_feature_segmentation(feature = 'Work_Experience')\n",
        "work_seg"
      ],
      "execution_count": 276,
      "outputs": [
        {
          "output_type": "stream",
          "text": [
            "Work_Experience distribution per customer segmentation\n"
          ],
          "name": "stdout"
        },
        {
          "output_type": "execute_result",
          "data": {
            "text/html": [
              "<div>\n",
              "<style scoped>\n",
              "    .dataframe tbody tr th:only-of-type {\n",
              "        vertical-align: middle;\n",
              "    }\n",
              "\n",
              "    .dataframe tbody tr th {\n",
              "        vertical-align: top;\n",
              "    }\n",
              "\n",
              "    .dataframe thead th {\n",
              "        text-align: right;\n",
              "    }\n",
              "</style>\n",
              "<table border=\"1\" class=\"dataframe\">\n",
              "  <thead>\n",
              "    <tr style=\"text-align: right;\">\n",
              "      <th></th>\n",
              "      <th>D</th>\n",
              "      <th>B</th>\n",
              "      <th>C</th>\n",
              "      <th>A</th>\n",
              "    </tr>\n",
              "  </thead>\n",
              "  <tbody>\n",
              "    <tr>\n",
              "      <th>0.0</th>\n",
              "      <td>491</td>\n",
              "      <td>527</td>\n",
              "      <td>587</td>\n",
              "      <td>528</td>\n",
              "    </tr>\n",
              "    <tr>\n",
              "      <th>1.0</th>\n",
              "      <td>527</td>\n",
              "      <td>536</td>\n",
              "      <td>600</td>\n",
              "      <td>524</td>\n",
              "    </tr>\n",
              "    <tr>\n",
              "      <th>2.0</th>\n",
              "      <td>54</td>\n",
              "      <td>58</td>\n",
              "      <td>73</td>\n",
              "      <td>74</td>\n",
              "    </tr>\n",
              "    <tr>\n",
              "      <th>3.0</th>\n",
              "      <td>56</td>\n",
              "      <td>56</td>\n",
              "      <td>58</td>\n",
              "      <td>65</td>\n",
              "    </tr>\n",
              "    <tr>\n",
              "      <th>4.0</th>\n",
              "      <td>48</td>\n",
              "      <td>63</td>\n",
              "      <td>64</td>\n",
              "      <td>58</td>\n",
              "    </tr>\n",
              "    <tr>\n",
              "      <th>5.0</th>\n",
              "      <td>47</td>\n",
              "      <td>39</td>\n",
              "      <td>39</td>\n",
              "      <td>54</td>\n",
              "    </tr>\n",
              "    <tr>\n",
              "      <th>6.0</th>\n",
              "      <td>41</td>\n",
              "      <td>43</td>\n",
              "      <td>44</td>\n",
              "      <td>59</td>\n",
              "    </tr>\n",
              "    <tr>\n",
              "      <th>7.0</th>\n",
              "      <td>49</td>\n",
              "      <td>38</td>\n",
              "      <td>51</td>\n",
              "      <td>47</td>\n",
              "    </tr>\n",
              "    <tr>\n",
              "      <th>8.0</th>\n",
              "      <td>100</td>\n",
              "      <td>76</td>\n",
              "      <td>88</td>\n",
              "      <td>133</td>\n",
              "    </tr>\n",
              "    <tr>\n",
              "      <th>9.0</th>\n",
              "      <td>132</td>\n",
              "      <td>89</td>\n",
              "      <td>84</td>\n",
              "      <td>138</td>\n",
              "    </tr>\n",
              "    <tr>\n",
              "      <th>10.0</th>\n",
              "      <td>11</td>\n",
              "      <td>10</td>\n",
              "      <td>7</td>\n",
              "      <td>23</td>\n",
              "    </tr>\n",
              "    <tr>\n",
              "      <th>11.0</th>\n",
              "      <td>13</td>\n",
              "      <td>7</td>\n",
              "      <td>11</td>\n",
              "      <td>14</td>\n",
              "    </tr>\n",
              "    <tr>\n",
              "      <th>12.0</th>\n",
              "      <td>19</td>\n",
              "      <td>11</td>\n",
              "      <td>3</td>\n",
              "      <td>12</td>\n",
              "    </tr>\n",
              "    <tr>\n",
              "      <th>13.0</th>\n",
              "      <td>12</td>\n",
              "      <td>12</td>\n",
              "      <td>7</td>\n",
              "      <td>12</td>\n",
              "    </tr>\n",
              "    <tr>\n",
              "      <th>14.0</th>\n",
              "      <td>16</td>\n",
              "      <td>7</td>\n",
              "      <td>4</td>\n",
              "      <td>16</td>\n",
              "    </tr>\n",
              "  </tbody>\n",
              "</table>\n",
              "</div>"
            ],
            "text/plain": [
              "        D    B    C    A\n",
              "0.0   491  527  587  528\n",
              "1.0   527  536  600  524\n",
              "2.0    54   58   73   74\n",
              "3.0    56   56   58   65\n",
              "4.0    48   63   64   58\n",
              "5.0    47   39   39   54\n",
              "6.0    41   43   44   59\n",
              "7.0    49   38   51   47\n",
              "8.0   100   76   88  133\n",
              "9.0   132   89   84  138\n",
              "10.0   11   10    7   23\n",
              "11.0   13    7   11   14\n",
              "12.0   19   11    3   12\n",
              "13.0   12   12    7   12\n",
              "14.0   16    7    4   16"
            ]
          },
          "metadata": {
            "tags": []
          },
          "execution_count": 276
        }
      ]
    },
    {
      "cell_type": "code",
      "metadata": {
        "colab": {
          "base_uri": "https://localhost:8080/",
          "height": 293
        },
        "id": "0oGsVpc8x0I1",
        "outputId": "fc9b4647-7b87-42b3-df1c-a412500bfce2"
      },
      "source": [
        "work_seg.plot(kind = 'bar')"
      ],
      "execution_count": 277,
      "outputs": [
        {
          "output_type": "execute_result",
          "data": {
            "text/plain": [
              "<matplotlib.axes._subplots.AxesSubplot at 0x7f18113e1150>"
            ]
          },
          "metadata": {
            "tags": []
          },
          "execution_count": 277
        },
        {
          "output_type": "display_data",
          "data": {
            "image/png": "[encoded data removed]",
            "text/plain": [
              "<Figure size 432x288 with 1 Axes>"
            ]
          },
          "metadata": {
            "tags": [],
            "needs_background": "light"
          }
        }
      ]
    },
    {
      "cell_type": "code",
      "metadata": {
        "colab": {
          "base_uri": "https://localhost:8080/",
          "height": 150
        },
        "id": "-PT9_wOAx6H1",
        "outputId": "fe310fe6-8afc-443b-9ba6-f808c572518e"
      },
      "source": [
        "spending_seg = explore_feature_segmentation(feature = 'Spending_Score')\n",
        "spending_seg"
      ],
      "execution_count": 278,
      "outputs": [
        {
          "output_type": "stream",
          "text": [
            "Spending_Score distribution per customer segmentation\n"
          ],
          "name": "stdout"
        },
        {
          "output_type": "execute_result",
          "data": {
            "text/html": [
              "<div>\n",
              "<style scoped>\n",
              "    .dataframe tbody tr th:only-of-type {\n",
              "        vertical-align: middle;\n",
              "    }\n",
              "\n",
              "    .dataframe tbody tr th {\n",
              "        vertical-align: top;\n",
              "    }\n",
              "\n",
              "    .dataframe thead th {\n",
              "        text-align: right;\n",
              "    }\n",
              "</style>\n",
              "<table border=\"1\" class=\"dataframe\">\n",
              "  <thead>\n",
              "    <tr style=\"text-align: right;\">\n",
              "      <th></th>\n",
              "      <th>D</th>\n",
              "      <th>B</th>\n",
              "      <th>C</th>\n",
              "      <th>A</th>\n",
              "    </tr>\n",
              "  </thead>\n",
              "  <tbody>\n",
              "    <tr>\n",
              "      <th>Low</th>\n",
              "      <td>1132</td>\n",
              "      <td>758</td>\n",
              "      <td>555</td>\n",
              "      <td>1554</td>\n",
              "    </tr>\n",
              "    <tr>\n",
              "      <th>Average</th>\n",
              "      <td>270</td>\n",
              "      <td>499</td>\n",
              "      <td>795</td>\n",
              "      <td>98</td>\n",
              "    </tr>\n",
              "    <tr>\n",
              "      <th>High</th>\n",
              "      <td>214</td>\n",
              "      <td>315</td>\n",
              "      <td>370</td>\n",
              "      <td>105</td>\n",
              "    </tr>\n",
              "  </tbody>\n",
              "</table>\n",
              "</div>"
            ],
            "text/plain": [
              "            D    B    C     A\n",
              "Low      1132  758  555  1554\n",
              "Average   270  499  795    98\n",
              "High      214  315  370   105"
            ]
          },
          "metadata": {
            "tags": []
          },
          "execution_count": 278
        }
      ]
    },
    {
      "cell_type": "code",
      "metadata": {
        "colab": {
          "base_uri": "https://localhost:8080/",
          "height": 312
        },
        "id": "DlydyRbAyQz9",
        "outputId": "8adb1837-87d0-4136-bf33-7d6996bc70b0"
      },
      "source": [
        "spending_seg.plot(kind = 'bar')"
      ],
      "execution_count": 279,
      "outputs": [
        {
          "output_type": "execute_result",
          "data": {
            "text/plain": [
              "<matplotlib.axes._subplots.AxesSubplot at 0x7f18114a0250>"
            ]
          },
          "metadata": {
            "tags": []
          },
          "execution_count": 279
        },
        {
          "output_type": "display_data",
          "data": {
            "image/png": "[encoded data removed]",
            "text/plain": [
              "<Figure size 432x288 with 1 Axes>"
            ]
          },
          "metadata": {
            "tags": [],
            "needs_background": "light"
          }
        }
      ]
    },
    {
      "cell_type": "code",
      "metadata": {
        "colab": {
          "base_uri": "https://localhost:8080/",
          "height": 322
        },
        "id": "y6VrA1B5yTol",
        "outputId": "06d5dcda-8eda-46dd-8071-a77826274fbe"
      },
      "source": [
        "family_seg = explore_feature_segmentation(feature = 'Family_Size')\n",
        "family_seg"
      ],
      "execution_count": 280,
      "outputs": [
        {
          "output_type": "stream",
          "text": [
            "Family_Size distribution per customer segmentation\n"
          ],
          "name": "stdout"
        },
        {
          "output_type": "execute_result",
          "data": {
            "text/html": [
              "<div>\n",
              "<style scoped>\n",
              "    .dataframe tbody tr th:only-of-type {\n",
              "        vertical-align: middle;\n",
              "    }\n",
              "\n",
              "    .dataframe tbody tr th {\n",
              "        vertical-align: top;\n",
              "    }\n",
              "\n",
              "    .dataframe thead th {\n",
              "        text-align: right;\n",
              "    }\n",
              "</style>\n",
              "<table border=\"1\" class=\"dataframe\">\n",
              "  <thead>\n",
              "    <tr style=\"text-align: right;\">\n",
              "      <th></th>\n",
              "      <th>D</th>\n",
              "      <th>B</th>\n",
              "      <th>C</th>\n",
              "      <th>A</th>\n",
              "    </tr>\n",
              "  </thead>\n",
              "  <tbody>\n",
              "    <tr>\n",
              "      <th>1.0</th>\n",
              "      <td>484</td>\n",
              "      <td>323</td>\n",
              "      <td>119</td>\n",
              "      <td>317</td>\n",
              "    </tr>\n",
              "    <tr>\n",
              "      <th>2.0</th>\n",
              "      <td>537</td>\n",
              "      <td>538</td>\n",
              "      <td>711</td>\n",
              "      <td>307</td>\n",
              "    </tr>\n",
              "    <tr>\n",
              "      <th>3.0</th>\n",
              "      <td>277</td>\n",
              "      <td>281</td>\n",
              "      <td>348</td>\n",
              "      <td>386</td>\n",
              "    </tr>\n",
              "    <tr>\n",
              "      <th>4.0</th>\n",
              "      <td>182</td>\n",
              "      <td>260</td>\n",
              "      <td>339</td>\n",
              "      <td>393</td>\n",
              "    </tr>\n",
              "    <tr>\n",
              "      <th>5.0</th>\n",
              "      <td>66</td>\n",
              "      <td>117</td>\n",
              "      <td>132</td>\n",
              "      <td>207</td>\n",
              "    </tr>\n",
              "    <tr>\n",
              "      <th>6.0</th>\n",
              "      <td>32</td>\n",
              "      <td>32</td>\n",
              "      <td>37</td>\n",
              "      <td>79</td>\n",
              "    </tr>\n",
              "    <tr>\n",
              "      <th>7.0</th>\n",
              "      <td>22</td>\n",
              "      <td>13</td>\n",
              "      <td>12</td>\n",
              "      <td>34</td>\n",
              "    </tr>\n",
              "    <tr>\n",
              "      <th>8.0</th>\n",
              "      <td>7</td>\n",
              "      <td>5</td>\n",
              "      <td>11</td>\n",
              "      <td>19</td>\n",
              "    </tr>\n",
              "    <tr>\n",
              "      <th>9.0</th>\n",
              "      <td>9</td>\n",
              "      <td>3</td>\n",
              "      <td>11</td>\n",
              "      <td>15</td>\n",
              "    </tr>\n",
              "  </tbody>\n",
              "</table>\n",
              "</div>"
            ],
            "text/plain": [
              "       D    B    C    A\n",
              "1.0  484  323  119  317\n",
              "2.0  537  538  711  307\n",
              "3.0  277  281  348  386\n",
              "4.0  182  260  339  393\n",
              "5.0   66  117  132  207\n",
              "6.0   32   32   37   79\n",
              "7.0   22   13   12   34\n",
              "8.0    7    5   11   19\n",
              "9.0    9    3   11   15"
            ]
          },
          "metadata": {
            "tags": []
          },
          "execution_count": 280
        }
      ]
    },
    {
      "cell_type": "code",
      "metadata": {
        "colab": {
          "base_uri": "https://localhost:8080/",
          "height": 287
        },
        "id": "YHmRqV4wydf9",
        "outputId": "02af365c-6b4f-4e79-a565-ce2b791a4b35"
      },
      "source": [
        "family_seg.plot(kind = 'bar')"
      ],
      "execution_count": 281,
      "outputs": [
        {
          "output_type": "execute_result",
          "data": {
            "text/plain": [
              "<matplotlib.axes._subplots.AxesSubplot at 0x7f1811236350>"
            ]
          },
          "metadata": {
            "tags": []
          },
          "execution_count": 281
        },
        {
          "output_type": "display_data",
          "data": {
            "image/png": "[encoded data removed]",
            "text/plain": [
              "<Figure size 432x288 with 1 Axes>"
            ]
          },
          "metadata": {
            "tags": [],
            "needs_background": "light"
          }
        }
      ]
    },
    {
      "cell_type": "code",
      "metadata": {
        "id": "m023P5qLdZv9"
      },
      "source": [
        ""
      ],
      "execution_count": 281,
      "outputs": []
    },
    {
      "cell_type": "code",
      "metadata": {
        "colab": {
          "base_uri": "https://localhost:8080/"
        },
        "id": "5u7Ik2DjdZyd",
        "outputId": "2afa0fed-0ae4-410e-f11c-91472a4dbbe2"
      },
      "source": [
        "df_tt.columns"
      ],
      "execution_count": 282,
      "outputs": [
        {
          "output_type": "execute_result",
          "data": {
            "text/plain": [
              "Index(['ID', 'Gender', 'Ever_Married', 'Age', 'Graduated', 'Profession',\n",
              "       'Work_Experience', 'Spending_Score', 'Family_Size', 'Var_1',\n",
              "       'Segmentation'],\n",
              "      dtype='object')"
            ]
          },
          "metadata": {
            "tags": []
          },
          "execution_count": 282
        }
      ]
    },
    {
      "cell_type": "markdown",
      "metadata": {
        "id": "8Jtr5vOccmiH"
      },
      "source": [
        "##Feature Engineering/Data preprocessing\n",
        "\n",
        "Here, we recode all the non-numeric categorical variables (features/columns) numeric categorical features"
      ]
    },
    {
      "cell_type": "code",
      "metadata": {
        "id": "QxITFd4Ay5cF"
      },
      "source": [
        "gender_recoded = {'Male':1,'Female' :0}\n",
        "ever_married_recoded = {'Yes':1,'No':0}\n",
        "Graduated_recoded = {'Yes':1,'No':0}\n",
        "Profession_recoded = dict(zip(df_tt['Profession'].unique(),list(range(0,len(df_tt['Profession'].unique())))))\n",
        "Spending_score_recoded = {'Low':0,'Average':1,'High':2}\n",
        "Segmentation_recoded = {'A':0,'B':1,'C':2,'D':3}\n",
        "\n"
      ],
      "execution_count": 283,
      "outputs": []
    },
    {
      "cell_type": "code",
      "metadata": {
        "colab": {
          "base_uri": "https://localhost:8080/"
        },
        "id": "cGhdvbRn8n13",
        "outputId": "02a1f247-e2cc-4c9f-f95e-f6ffca51d7aa"
      },
      "source": [
        "Profession_recoded"
      ],
      "execution_count": 284,
      "outputs": [
        {
          "output_type": "execute_result",
          "data": {
            "text/plain": [
              "{'Artist': 3,\n",
              " 'Doctor': 4,\n",
              " 'Engineer': 1,\n",
              " 'Entertainment': 6,\n",
              " 'Executive': 8,\n",
              " 'Healthcare': 0,\n",
              " 'Homemaker': 5,\n",
              " 'Lawyer': 2,\n",
              " 'Marketing': 7}"
            ]
          },
          "metadata": {
            "tags": []
          },
          "execution_count": 284
        }
      ]
    },
    {
      "cell_type": "markdown",
      "metadata": {
        "id": "j1smmjWAYL0g"
      },
      "source": [
        "Create new columns and insert the recoded variables"
      ]
    },
    {
      "cell_type": "code",
      "metadata": {
        "id": "rJqGiNWOfSTZ"
      },
      "source": [
        "df_tt['Gender_recoded'] = df_tt['Gender'].replace(gender_recoded)\n",
        "df_tt['Ever_Married_recoded'] = df_tt['Ever_Married'].replace(ever_married_recoded)\n",
        "df_tt['Graduated_recoded'] =  df_tt['Graduated'].replace(Graduated_recoded)\n",
        "df_tt['Profession_recoded'] = df_tt['Profession'].replace(Profession_recoded)\n",
        "df_tt['Spending_Score_recoded'] = df_tt['Spending_Score'].replace(Spending_score_recoded)\n",
        "df_tt['Segmentation_recoded'] = df_tt['Segmentation'].replace(Segmentation_recoded)"
      ],
      "execution_count": 285,
      "outputs": []
    },
    {
      "cell_type": "markdown",
      "metadata": {
        "id": "5o1t9QtNYP7M"
      },
      "source": [
        "resulting dataframe containing recoded variables\n",
        "\n",
        "\n"
      ]
    },
    {
      "cell_type": "code",
      "metadata": {
        "colab": {
          "base_uri": "https://localhost:8080/",
          "height": 211
        },
        "id": "XpeOoanlgJOT",
        "outputId": "9fbc9b19-125f-407a-ff58-b06a76aed35d"
      },
      "source": [
        "df_tt.head()"
      ],
      "execution_count": 286,
      "outputs": [
        {
          "output_type": "execute_result",
          "data": {
            "text/html": [
              "<div>\n",
              "<style scoped>\n",
              "    .dataframe tbody tr th:only-of-type {\n",
              "        vertical-align: middle;\n",
              "    }\n",
              "\n",
              "    .dataframe tbody tr th {\n",
              "        vertical-align: top;\n",
              "    }\n",
              "\n",
              "    .dataframe thead th {\n",
              "        text-align: right;\n",
              "    }\n",
              "</style>\n",
              "<table border=\"1\" class=\"dataframe\">\n",
              "  <thead>\n",
              "    <tr style=\"text-align: right;\">\n",
              "      <th></th>\n",
              "      <th>ID</th>\n",
              "      <th>Gender</th>\n",
              "      <th>Ever_Married</th>\n",
              "      <th>Age</th>\n",
              "      <th>Graduated</th>\n",
              "      <th>Profession</th>\n",
              "      <th>Work_Experience</th>\n",
              "      <th>Spending_Score</th>\n",
              "      <th>Family_Size</th>\n",
              "      <th>Var_1</th>\n",
              "      <th>Segmentation</th>\n",
              "      <th>Gender_recoded</th>\n",
              "      <th>Ever_Married_recoded</th>\n",
              "      <th>Graduated_recoded</th>\n",
              "      <th>Profession_recoded</th>\n",
              "      <th>Spending_Score_recoded</th>\n",
              "      <th>Segmentation_recoded</th>\n",
              "    </tr>\n",
              "  </thead>\n",
              "  <tbody>\n",
              "    <tr>\n",
              "      <th>0</th>\n",
              "      <td>462809</td>\n",
              "      <td>Male</td>\n",
              "      <td>No</td>\n",
              "      <td>22</td>\n",
              "      <td>No</td>\n",
              "      <td>Healthcare</td>\n",
              "      <td>1.0</td>\n",
              "      <td>Low</td>\n",
              "      <td>4.0</td>\n",
              "      <td>Cat_4</td>\n",
              "      <td>D</td>\n",
              "      <td>1</td>\n",
              "      <td>0</td>\n",
              "      <td>0</td>\n",
              "      <td>0</td>\n",
              "      <td>0</td>\n",
              "      <td>3</td>\n",
              "    </tr>\n",
              "    <tr>\n",
              "      <th>1</th>\n",
              "      <td>466315</td>\n",
              "      <td>Female</td>\n",
              "      <td>Yes</td>\n",
              "      <td>67</td>\n",
              "      <td>Yes</td>\n",
              "      <td>Engineer</td>\n",
              "      <td>1.0</td>\n",
              "      <td>Low</td>\n",
              "      <td>1.0</td>\n",
              "      <td>Cat_6</td>\n",
              "      <td>B</td>\n",
              "      <td>0</td>\n",
              "      <td>1</td>\n",
              "      <td>1</td>\n",
              "      <td>1</td>\n",
              "      <td>0</td>\n",
              "      <td>1</td>\n",
              "    </tr>\n",
              "    <tr>\n",
              "      <th>2</th>\n",
              "      <td>461735</td>\n",
              "      <td>Male</td>\n",
              "      <td>Yes</td>\n",
              "      <td>67</td>\n",
              "      <td>Yes</td>\n",
              "      <td>Lawyer</td>\n",
              "      <td>0.0</td>\n",
              "      <td>High</td>\n",
              "      <td>2.0</td>\n",
              "      <td>Cat_6</td>\n",
              "      <td>B</td>\n",
              "      <td>1</td>\n",
              "      <td>1</td>\n",
              "      <td>1</td>\n",
              "      <td>2</td>\n",
              "      <td>2</td>\n",
              "      <td>1</td>\n",
              "    </tr>\n",
              "    <tr>\n",
              "      <th>3</th>\n",
              "      <td>461319</td>\n",
              "      <td>Male</td>\n",
              "      <td>Yes</td>\n",
              "      <td>56</td>\n",
              "      <td>No</td>\n",
              "      <td>Artist</td>\n",
              "      <td>0.0</td>\n",
              "      <td>Average</td>\n",
              "      <td>2.0</td>\n",
              "      <td>Cat_6</td>\n",
              "      <td>C</td>\n",
              "      <td>1</td>\n",
              "      <td>1</td>\n",
              "      <td>0</td>\n",
              "      <td>3</td>\n",
              "      <td>1</td>\n",
              "      <td>2</td>\n",
              "    </tr>\n",
              "    <tr>\n",
              "      <th>4</th>\n",
              "      <td>460156</td>\n",
              "      <td>Male</td>\n",
              "      <td>No</td>\n",
              "      <td>32</td>\n",
              "      <td>Yes</td>\n",
              "      <td>Healthcare</td>\n",
              "      <td>1.0</td>\n",
              "      <td>Low</td>\n",
              "      <td>3.0</td>\n",
              "      <td>Cat_6</td>\n",
              "      <td>C</td>\n",
              "      <td>1</td>\n",
              "      <td>0</td>\n",
              "      <td>1</td>\n",
              "      <td>0</td>\n",
              "      <td>0</td>\n",
              "      <td>2</td>\n",
              "    </tr>\n",
              "  </tbody>\n",
              "</table>\n",
              "</div>"
            ],
            "text/plain": [
              "       ID  Gender  ... Spending_Score_recoded  Segmentation_recoded\n",
              "0  462809    Male  ...                      0                     3\n",
              "1  466315  Female  ...                      0                     1\n",
              "2  461735    Male  ...                      2                     1\n",
              "3  461319    Male  ...                      1                     2\n",
              "4  460156    Male  ...                      0                     2\n",
              "\n",
              "[5 rows x 17 columns]"
            ]
          },
          "metadata": {
            "tags": []
          },
          "execution_count": 286
        }
      ]
    },
    {
      "cell_type": "markdown",
      "metadata": {
        "id": "gWL3T12rATu1"
      },
      "source": [
        "#Supervised Learning - Classification"
      ]
    },
    {
      "cell_type": "markdown",
      "metadata": {
        "id": "O50i7oWpYdw6"
      },
      "source": [
        "Separate the input and output features for modelling"
      ]
    },
    {
      "cell_type": "code",
      "metadata": {
        "id": "izkvSgxaEu4_"
      },
      "source": [
        "X = df_tt[['Gender_recoded','Ever_Married_recoded','Age','Profession_recoded','Work_Experience','Spending_Score_recoded','Family_Size','Graduated_recoded']]\n",
        "Y = df_tt['Segmentation_recoded']"
      ],
      "execution_count": 287,
      "outputs": []
    },
    {
      "cell_type": "markdown",
      "metadata": {
        "id": "1I_6ctrmYljZ"
      },
      "source": [
        "Split dataset into  70% training and 30% testing data"
      ]
    },
    {
      "cell_type": "code",
      "metadata": {
        "id": "TurTfbtLEP7Q"
      },
      "source": [
        "from sklearn.model_selection import train_test_split\n",
        "xtrain,xtest,ytrain,ytest = train_test_split(X,Y,test_size = 0.3,random_state = 1)"
      ],
      "execution_count": 288,
      "outputs": []
    },
    {
      "cell_type": "markdown",
      "metadata": {
        "id": "2Xthl2BlY1C2"
      },
      "source": [
        "data shapes"
      ]
    },
    {
      "cell_type": "code",
      "metadata": {
        "colab": {
          "base_uri": "https://localhost:8080/"
        },
        "id": "_IhlENGUP6A1",
        "outputId": "14d89ea6-97ce-4597-f710-cc46f3770c4a"
      },
      "source": [
        "xtrain.shape,ytrain.shape,xtest.shape,ytest.shape"
      ],
      "execution_count": 289,
      "outputs": [
        {
          "output_type": "execute_result",
          "data": {
            "text/plain": [
              "((4665, 8), (4665,), (2000, 8), (2000,))"
            ]
          },
          "metadata": {
            "tags": []
          },
          "execution_count": 289
        }
      ]
    },
    {
      "cell_type": "markdown",
      "metadata": {
        "id": "t_ObtLeMY202"
      },
      "source": [
        "import numpy and reshape appropriately for training"
      ]
    },
    {
      "cell_type": "code",
      "metadata": {
        "id": "rqFQclJBP6DN"
      },
      "source": [
        "import numpy as np\n",
        "ytrain = np.reshape(ytrain.values,(-1,1))\n",
        "ytest = np.reshape(ytest.values,(-1,1))"
      ],
      "execution_count": 290,
      "outputs": []
    },
    {
      "cell_type": "markdown",
      "metadata": {
        "id": "eaQYa3ZWY_Xa"
      },
      "source": [
        "new shapes\n",
        "\n"
      ]
    },
    {
      "cell_type": "code",
      "metadata": {
        "colab": {
          "base_uri": "https://localhost:8080/"
        },
        "id": "ffOE6TLgP6Gz",
        "outputId": "6450d8e6-2f6c-45de-fcae-d449154485e6"
      },
      "source": [
        "xtrain.shape,ytrain.shape,xtest.shape,ytest.shape"
      ],
      "execution_count": 291,
      "outputs": [
        {
          "output_type": "execute_result",
          "data": {
            "text/plain": [
              "((4665, 8), (4665, 1), (2000, 8), (2000, 1))"
            ]
          },
          "metadata": {
            "tags": []
          },
          "execution_count": 291
        }
      ]
    },
    {
      "cell_type": "code",
      "metadata": {
        "colab": {
          "base_uri": "https://localhost:8080/",
          "height": 391
        },
        "id": "OB2fvA1VawVZ",
        "outputId": "c6c99a02-2793-4fa6-82b2-62a1751ff45e"
      },
      "source": [
        "xtrain[['Gender_recoded','Profession_recoded']]"
      ],
      "execution_count": 292,
      "outputs": [
        {
          "output_type": "execute_result",
          "data": {
            "text/html": [
              "<div>\n",
              "<style scoped>\n",
              "    .dataframe tbody tr th:only-of-type {\n",
              "        vertical-align: middle;\n",
              "    }\n",
              "\n",
              "    .dataframe tbody tr th {\n",
              "        vertical-align: top;\n",
              "    }\n",
              "\n",
              "    .dataframe thead th {\n",
              "        text-align: right;\n",
              "    }\n",
              "</style>\n",
              "<table border=\"1\" class=\"dataframe\">\n",
              "  <thead>\n",
              "    <tr style=\"text-align: right;\">\n",
              "      <th></th>\n",
              "      <th>Gender_recoded</th>\n",
              "      <th>Profession_recoded</th>\n",
              "    </tr>\n",
              "  </thead>\n",
              "  <tbody>\n",
              "    <tr>\n",
              "      <th>2619</th>\n",
              "      <td>1</td>\n",
              "      <td>3</td>\n",
              "    </tr>\n",
              "    <tr>\n",
              "      <th>5426</th>\n",
              "      <td>1</td>\n",
              "      <td>8</td>\n",
              "    </tr>\n",
              "    <tr>\n",
              "      <th>6455</th>\n",
              "      <td>0</td>\n",
              "      <td>0</td>\n",
              "    </tr>\n",
              "    <tr>\n",
              "      <th>4883</th>\n",
              "      <td>1</td>\n",
              "      <td>2</td>\n",
              "    </tr>\n",
              "    <tr>\n",
              "      <th>6361</th>\n",
              "      <td>1</td>\n",
              "      <td>3</td>\n",
              "    </tr>\n",
              "    <tr>\n",
              "      <th>...</th>\n",
              "      <td>...</td>\n",
              "      <td>...</td>\n",
              "    </tr>\n",
              "    <tr>\n",
              "      <th>905</th>\n",
              "      <td>0</td>\n",
              "      <td>1</td>\n",
              "    </tr>\n",
              "    <tr>\n",
              "      <th>5192</th>\n",
              "      <td>0</td>\n",
              "      <td>4</td>\n",
              "    </tr>\n",
              "    <tr>\n",
              "      <th>3980</th>\n",
              "      <td>0</td>\n",
              "      <td>2</td>\n",
              "    </tr>\n",
              "    <tr>\n",
              "      <th>235</th>\n",
              "      <td>0</td>\n",
              "      <td>0</td>\n",
              "    </tr>\n",
              "    <tr>\n",
              "      <th>5157</th>\n",
              "      <td>1</td>\n",
              "      <td>0</td>\n",
              "    </tr>\n",
              "  </tbody>\n",
              "</table>\n",
              "<p>4665 rows × 2 columns</p>\n",
              "</div>"
            ],
            "text/plain": [
              "      Gender_recoded  Profession_recoded\n",
              "2619               1                   3\n",
              "5426               1                   8\n",
              "6455               0                   0\n",
              "4883               1                   2\n",
              "6361               1                   3\n",
              "...              ...                 ...\n",
              "905                0                   1\n",
              "5192               0                   4\n",
              "3980               0                   2\n",
              "235                0                   0\n",
              "5157               1                   0\n",
              "\n",
              "[4665 rows x 2 columns]"
            ]
          },
          "metadata": {
            "tags": []
          },
          "execution_count": 292
        }
      ]
    },
    {
      "cell_type": "markdown",
      "metadata": {
        "id": "krwHuGdysQ0r"
      },
      "source": [
        "##Inestigate Feature Importance\n",
        "\n",
        "Since most of the variables in the dataset apart from age are categorical (including the output - sustomer segmentation), we want to investigate the importance of each feature to predicting the output by;\n",
        "\n",
        "\n",
        "\n",
        "* Train a Decision tree classifier on all the features in the dataset and rank them according to level of importance in predicting output customer segments\n",
        "* Use cramer's v for categorical to categorical correlation\n",
        "\n",
        "Applying insights from our exploratory data analysis and the results from investigating the feature importance, this will be a guide for feature selection"
      ]
    },
    {
      "cell_type": "code",
      "metadata": {
        "colab": {
          "base_uri": "https://localhost:8080/"
        },
        "id": "KZLc3-fgsU8I",
        "outputId": "bfec04fd-f3bb-4464-8447-62424d01ab4d"
      },
      "source": [
        "from sklearn.tree import DecisionTreeClassifier\n",
        "tree = DecisionTreeClassifier(random_state = 1) \n",
        "tree.fit(xtrain,ytrain)"
      ],
      "execution_count": 293,
      "outputs": [
        {
          "output_type": "execute_result",
          "data": {
            "text/plain": [
              "DecisionTreeClassifier(ccp_alpha=0.0, class_weight=None, criterion='gini',\n",
              "                       max_depth=None, max_features=None, max_leaf_nodes=None,\n",
              "                       min_impurity_decrease=0.0, min_impurity_split=None,\n",
              "                       min_samples_leaf=1, min_samples_split=2,\n",
              "                       min_weight_fraction_leaf=0.0, presort='deprecated',\n",
              "                       random_state=1, splitter='best')"
            ]
          },
          "metadata": {
            "tags": []
          },
          "execution_count": 293
        }
      ]
    },
    {
      "cell_type": "code",
      "metadata": {
        "colab": {
          "base_uri": "https://localhost:8080/"
        },
        "id": "VwOTDhEjtyLH",
        "outputId": "a1f5a000-a7f6-4a79-957b-f54ae056af1b"
      },
      "source": [
        "feature_importance = tree.tree_.compute_feature_importances(normalize = True)\n",
        "feature_importance"
      ],
      "execution_count": 294,
      "outputs": [
        {
          "output_type": "execute_result",
          "data": {
            "text/plain": [
              "array([0.0446917 , 0.0293916 , 0.41426737, 0.09812527, 0.18593746,\n",
              "       0.06416283, 0.11988613, 0.04353765])"
            ]
          },
          "metadata": {
            "tags": []
          },
          "execution_count": 294
        }
      ]
    },
    {
      "cell_type": "markdown",
      "metadata": {
        "id": "NW2-SfENyCwG"
      },
      "source": [
        "Map and rank features"
      ]
    },
    {
      "cell_type": "code",
      "metadata": {
        "id": "QTkq6mZpx7Go",
        "colab": {
          "base_uri": "https://localhost:8080/"
        },
        "outputId": "dcaabee3-bb33-4a99-aeca-b5faf50c9d81"
      },
      "source": [
        "f_I = dict(zip(xtrain.columns,list(feature_importance)))\n",
        "f_I"
      ],
      "execution_count": 295,
      "outputs": [
        {
          "output_type": "execute_result",
          "data": {
            "text/plain": [
              "{'Age': 0.4142673664911467,\n",
              " 'Ever_Married_recoded': 0.029391597433543845,\n",
              " 'Family_Size': 0.11988613085731238,\n",
              " 'Gender_recoded': 0.04469169539147589,\n",
              " 'Graduated_recoded': 0.04353765001563995,\n",
              " 'Profession_recoded': 0.09812526531912673,\n",
              " 'Spending_Score_recoded': 0.06416282976324007,\n",
              " 'Work_Experience': 0.18593746472851438}"
            ]
          },
          "metadata": {
            "tags": []
          },
          "execution_count": 295
        }
      ]
    },
    {
      "cell_type": "markdown",
      "metadata": {
        "id": "N__PTr_1BsQ8"
      },
      "source": [
        "Ranking of features in order of importance as return by the decision tree classeifier"
      ]
    },
    {
      "cell_type": "code",
      "metadata": {
        "id": "RpX45n2rXRsO",
        "colab": {
          "base_uri": "https://localhost:8080/",
          "height": 176
        },
        "outputId": "f678d925-4688-4002-fa90-b78847cdc9b5"
      },
      "source": [
        "pd.DataFrame(f_I,index = ['importance']).T.sort_values('importance',ascending = False).style.background_gradient(cmap = 'Greens')"
      ],
      "execution_count": 296,
      "outputs": [
        {
          "output_type": "execute_result",
          "data": {
            "text/html": [
              "<style  type=\"text/css\" >\n",
              "#T_b6741ac8_adf7_11eb_aa16_0242ac1c0002row0_col0{\n",
              "            background-color:  #00441b;\n",
              "            color:  #f1f1f1;\n",
              "        }#T_b6741ac8_adf7_11eb_aa16_0242ac1c0002row1_col0{\n",
              "            background-color:  #95d391;\n",
              "            color:  #000000;\n",
              "        }#T_b6741ac8_adf7_11eb_aa16_0242ac1c0002row2_col0{\n",
              "            background-color:  #cbeac4;\n",
              "            color:  #000000;\n",
              "        }#T_b6741ac8_adf7_11eb_aa16_0242ac1c0002row3_col0{\n",
              "            background-color:  #d9f0d3;\n",
              "            color:  #000000;\n",
              "        }#T_b6741ac8_adf7_11eb_aa16_0242ac1c0002row4_col0{\n",
              "            background-color:  #eaf7e6;\n",
              "            color:  #000000;\n",
              "        }#T_b6741ac8_adf7_11eb_aa16_0242ac1c0002row5_col0{\n",
              "            background-color:  #f1faee;\n",
              "            color:  #000000;\n",
              "        }#T_b6741ac8_adf7_11eb_aa16_0242ac1c0002row6_col0{\n",
              "            background-color:  #f2faef;\n",
              "            color:  #000000;\n",
              "        }#T_b6741ac8_adf7_11eb_aa16_0242ac1c0002row7_col0{\n",
              "            background-color:  #f7fcf5;\n",
              "            color:  #000000;\n",
              "        }</style><table id=\"T_b6741ac8_adf7_11eb_aa16_0242ac1c0002\" ><thead>    <tr>        <th class=\"blank level0\" ></th>        <th class=\"col_heading level0 col0\" >importance</th>    </tr></thead><tbody>\n",
              "                <tr>\n",
              "                        <th id=\"T_b6741ac8_adf7_11eb_aa16_0242ac1c0002level0_row0\" class=\"row_heading level0 row0\" >Age</th>\n",
              "                        <td id=\"T_b6741ac8_adf7_11eb_aa16_0242ac1c0002row0_col0\" class=\"data row0 col0\" >0.414267</td>\n",
              "            </tr>\n",
              "            <tr>\n",
              "                        <th id=\"T_b6741ac8_adf7_11eb_aa16_0242ac1c0002level0_row1\" class=\"row_heading level0 row1\" >Work_Experience</th>\n",
              "                        <td id=\"T_b6741ac8_adf7_11eb_aa16_0242ac1c0002row1_col0\" class=\"data row1 col0\" >0.185937</td>\n",
              "            </tr>\n",
              "            <tr>\n",
              "                        <th id=\"T_b6741ac8_adf7_11eb_aa16_0242ac1c0002level0_row2\" class=\"row_heading level0 row2\" >Family_Size</th>\n",
              "                        <td id=\"T_b6741ac8_adf7_11eb_aa16_0242ac1c0002row2_col0\" class=\"data row2 col0\" >0.119886</td>\n",
              "            </tr>\n",
              "            <tr>\n",
              "                        <th id=\"T_b6741ac8_adf7_11eb_aa16_0242ac1c0002level0_row3\" class=\"row_heading level0 row3\" >Profession_recoded</th>\n",
              "                        <td id=\"T_b6741ac8_adf7_11eb_aa16_0242ac1c0002row3_col0\" class=\"data row3 col0\" >0.098125</td>\n",
              "            </tr>\n",
              "            <tr>\n",
              "                        <th id=\"T_b6741ac8_adf7_11eb_aa16_0242ac1c0002level0_row4\" class=\"row_heading level0 row4\" >Spending_Score_recoded</th>\n",
              "                        <td id=\"T_b6741ac8_adf7_11eb_aa16_0242ac1c0002row4_col0\" class=\"data row4 col0\" >0.064163</td>\n",
              "            </tr>\n",
              "            <tr>\n",
              "                        <th id=\"T_b6741ac8_adf7_11eb_aa16_0242ac1c0002level0_row5\" class=\"row_heading level0 row5\" >Gender_recoded</th>\n",
              "                        <td id=\"T_b6741ac8_adf7_11eb_aa16_0242ac1c0002row5_col0\" class=\"data row5 col0\" >0.044692</td>\n",
              "            </tr>\n",
              "            <tr>\n",
              "                        <th id=\"T_b6741ac8_adf7_11eb_aa16_0242ac1c0002level0_row6\" class=\"row_heading level0 row6\" >Graduated_recoded</th>\n",
              "                        <td id=\"T_b6741ac8_adf7_11eb_aa16_0242ac1c0002row6_col0\" class=\"data row6 col0\" >0.043538</td>\n",
              "            </tr>\n",
              "            <tr>\n",
              "                        <th id=\"T_b6741ac8_adf7_11eb_aa16_0242ac1c0002level0_row7\" class=\"row_heading level0 row7\" >Ever_Married_recoded</th>\n",
              "                        <td id=\"T_b6741ac8_adf7_11eb_aa16_0242ac1c0002row7_col0\" class=\"data row7 col0\" >0.029392</td>\n",
              "            </tr>\n",
              "    </tbody></table>"
            ],
            "text/plain": [
              "<pandas.io.formats.style.Styler at 0x7f180a0d6f10>"
            ]
          },
          "metadata": {
            "tags": []
          },
          "execution_count": 296
        }
      ]
    },
    {
      "cell_type": "code",
      "metadata": {
        "id": "RS9aoI7z0c83"
      },
      "source": [
        ""
      ],
      "execution_count": 296,
      "outputs": []
    },
    {
      "cell_type": "markdown",
      "metadata": {
        "id": "K4NtnQ7T0dbH"
      },
      "source": [
        "Using Cramers V"
      ]
    },
    {
      "cell_type": "code",
      "metadata": {
        "id": "Vq7zdBB3YGIf"
      },
      "source": [
        "import scipy.stats as ss\n",
        "def cramers_v(x, y):\n",
        "    confusion_matrix = pd.crosstab(x,y)\n",
        "    chi2 = ss.chi2_contingency(confusion_matrix)[0]\n",
        "    n = confusion_matrix.sum().sum()\n",
        "    phi2 = chi2/n\n",
        "    r,k = confusion_matrix.shape\n",
        "    phi2corr = max(0, phi2-((k-1)*(r-1))/(n-1))\n",
        "    rcorr = r-((r-1)**2)/(n-1)\n",
        "    kcorr = k-((k-1)**2)/(n-1)\n",
        "    return np.sqrt(phi2corr/min((kcorr-1),(rcorr-1)))"
      ],
      "execution_count": 297,
      "outputs": []
    },
    {
      "cell_type": "code",
      "metadata": {
        "colab": {
          "base_uri": "https://localhost:8080/",
          "height": 176
        },
        "id": "NVIXbs381eg3",
        "outputId": "6681f15e-2960-42f2-cde1-340584432f98"
      },
      "source": [
        "vs = []\n",
        "for feature in xtrain.columns:\n",
        "  v = cramers_v(pd.concat([xtrain,xtest])[feature].values,np.reshape(np.concatenate([ytrain,ytest]),(df_tt.shape[0],)))\n",
        "  vs.append(v)\n",
        "\n",
        "pd.DataFrame(dict(zip(xtrain.columns,vs)),index = ['cramers_v']).T.sort_values('cramers_v',ascending = False).style.background_gradient(cmap = 'Greens')\n"
      ],
      "execution_count": 298,
      "outputs": [
        {
          "output_type": "execute_result",
          "data": {
            "text/html": [
              "<style  type=\"text/css\" >\n",
              "#T_b68ffe0a_adf7_11eb_aa16_0242ac1c0002row0_col0{\n",
              "            background-color:  #00441b;\n",
              "            color:  #f1f1f1;\n",
              "        }#T_b68ffe0a_adf7_11eb_aa16_0242ac1c0002row1_col0{\n",
              "            background-color:  #067230;\n",
              "            color:  #f1f1f1;\n",
              "        }#T_b68ffe0a_adf7_11eb_aa16_0242ac1c0002row2_col0{\n",
              "            background-color:  #17813d;\n",
              "            color:  #f1f1f1;\n",
              "        }#T_b68ffe0a_adf7_11eb_aa16_0242ac1c0002row3_col0{\n",
              "            background-color:  #1e8741;\n",
              "            color:  #000000;\n",
              "        }#T_b68ffe0a_adf7_11eb_aa16_0242ac1c0002row4_col0{\n",
              "            background-color:  #2c944c;\n",
              "            color:  #000000;\n",
              "        }#T_b68ffe0a_adf7_11eb_aa16_0242ac1c0002row5_col0{\n",
              "            background-color:  #acdea6;\n",
              "            color:  #000000;\n",
              "        }#T_b68ffe0a_adf7_11eb_aa16_0242ac1c0002row6_col0{\n",
              "            background-color:  #f3faf0;\n",
              "            color:  #000000;\n",
              "        }#T_b68ffe0a_adf7_11eb_aa16_0242ac1c0002row7_col0{\n",
              "            background-color:  #f7fcf5;\n",
              "            color:  #000000;\n",
              "        }</style><table id=\"T_b68ffe0a_adf7_11eb_aa16_0242ac1c0002\" ><thead>    <tr>        <th class=\"blank level0\" ></th>        <th class=\"col_heading level0 col0\" >cramers_v</th>    </tr></thead><tbody>\n",
              "                <tr>\n",
              "                        <th id=\"T_b68ffe0a_adf7_11eb_aa16_0242ac1c0002level0_row0\" class=\"row_heading level0 row0\" >Ever_Married_recoded</th>\n",
              "                        <td id=\"T_b68ffe0a_adf7_11eb_aa16_0242ac1c0002row0_col0\" class=\"data row0 col0\" >0.426973</td>\n",
              "            </tr>\n",
              "            <tr>\n",
              "                        <th id=\"T_b68ffe0a_adf7_11eb_aa16_0242ac1c0002level0_row1\" class=\"row_heading level0 row1\" >Graduated_recoded</th>\n",
              "                        <td id=\"T_b68ffe0a_adf7_11eb_aa16_0242ac1c0002row1_col0\" class=\"data row1 col0\" >0.370478</td>\n",
              "            </tr>\n",
              "            <tr>\n",
              "                        <th id=\"T_b68ffe0a_adf7_11eb_aa16_0242ac1c0002level0_row2\" class=\"row_heading level0 row2\" >Age</th>\n",
              "                        <td id=\"T_b68ffe0a_adf7_11eb_aa16_0242ac1c0002row2_col0\" class=\"data row2 col0\" >0.346169</td>\n",
              "            </tr>\n",
              "            <tr>\n",
              "                        <th id=\"T_b68ffe0a_adf7_11eb_aa16_0242ac1c0002level0_row3\" class=\"row_heading level0 row3\" >Profession_recoded</th>\n",
              "                        <td id=\"T_b68ffe0a_adf7_11eb_aa16_0242ac1c0002row3_col0\" class=\"data row3 col0\" >0.337046</td>\n",
              "            </tr>\n",
              "            <tr>\n",
              "                        <th id=\"T_b68ffe0a_adf7_11eb_aa16_0242ac1c0002level0_row4\" class=\"row_heading level0 row4\" >Spending_Score_recoded</th>\n",
              "                        <td id=\"T_b68ffe0a_adf7_11eb_aa16_0242ac1c0002row4_col0\" class=\"data row4 col0\" >0.316844</td>\n",
              "            </tr>\n",
              "            <tr>\n",
              "                        <th id=\"T_b68ffe0a_adf7_11eb_aa16_0242ac1c0002level0_row5\" class=\"row_heading level0 row5\" >Family_Size</th>\n",
              "                        <td id=\"T_b68ffe0a_adf7_11eb_aa16_0242ac1c0002row5_col0\" class=\"data row5 col0\" >0.171089</td>\n",
              "            </tr>\n",
              "            <tr>\n",
              "                        <th id=\"T_b68ffe0a_adf7_11eb_aa16_0242ac1c0002level0_row6\" class=\"row_heading level0 row6\" >Work_Experience</th>\n",
              "                        <td id=\"T_b68ffe0a_adf7_11eb_aa16_0242ac1c0002row6_col0\" class=\"data row6 col0\" >0.052636</td>\n",
              "            </tr>\n",
              "            <tr>\n",
              "                        <th id=\"T_b68ffe0a_adf7_11eb_aa16_0242ac1c0002level0_row7\" class=\"row_heading level0 row7\" >Gender_recoded</th>\n",
              "                        <td id=\"T_b68ffe0a_adf7_11eb_aa16_0242ac1c0002row7_col0\" class=\"data row7 col0\" >0.040793</td>\n",
              "            </tr>\n",
              "    </tbody></table>"
            ],
            "text/plain": [
              "<pandas.io.formats.style.Styler at 0x7f180a1b7090>"
            ]
          },
          "metadata": {
            "tags": []
          },
          "execution_count": 298
        }
      ]
    },
    {
      "cell_type": "code",
      "metadata": {
        "id": "cb4wUtQp3tj3"
      },
      "source": [
        ""
      ],
      "execution_count": 298,
      "outputs": []
    },
    {
      "cell_type": "markdown",
      "metadata": {
        "id": "aAOoPERTbb97"
      },
      "source": [
        "=====\n",
        "### KNN\n",
        "====="
      ]
    },
    {
      "cell_type": "code",
      "metadata": {
        "id": "QqOxxt91y5eE"
      },
      "source": [
        "from sklearn.neighbors import KNeighborsClassifier\n",
        "from sklearn.metrics import accuracy_score\n",
        "import warnings\n",
        "warnings.filterwarnings(action = 'ignore')\n",
        "#knn = KNeighborsClassifier(n_neighbors = 3)"
      ],
      "execution_count": 299,
      "outputs": []
    },
    {
      "cell_type": "markdown",
      "metadata": {
        "id": "fN-SwGGhMJ6i"
      },
      "source": [
        "Select age column from training and testing data  - Use as baseline model\n",
        "\n"
      ]
    },
    {
      "cell_type": "code",
      "metadata": {
        "id": "F1vfonjqAgmL"
      },
      "source": [
        "xtrain_age = np.reshape(xtrain['Age'].values,(-1,1))\n",
        "xtest_age = np.reshape(xtest['Age'].values,(-1,1))"
      ],
      "execution_count": 300,
      "outputs": []
    },
    {
      "cell_type": "markdown",
      "metadata": {
        "id": "VE3HK_3cdpVt"
      },
      "source": [
        "Hyperparameter Tuning of KNN -Function to Train a KNN by tuning the number of neighbors"
      ]
    },
    {
      "cell_type": "code",
      "metadata": {
        "id": "R_jsaITmyhoV"
      },
      "source": [
        "def train_KNN(Xtrain,Ytrain,Xtest,Ytest,norm = False,scaler = None):\n",
        "  error_rates = []\n",
        "  knns = {}\n",
        "  print('Tuning neighbors from 1 to 200')\n",
        "  for i in range(1, 201):# try on different neighbors\n",
        "      knn = KNeighborsClassifier(n_neighbors=i)\n",
        "      knn.fit(Xtrain,Ytrain)\n",
        "      if not norm:ypred_age = knn.predict(Xtest)\n",
        "      else:ypred_age = knn.predict(scaler.fit_transform(Xtest))\n",
        "      accuracy = accuracy_score(Ytest, ypred_age)\n",
        "      error_rates.append((1-accuracy))\n",
        "      knns[i] = knn\n",
        "  return knns,error_rates"
      ],
      "execution_count": 301,
      "outputs": []
    },
    {
      "cell_type": "code",
      "metadata": {
        "colab": {
          "base_uri": "https://localhost:8080/"
        },
        "id": "BiZjE8o1MYFQ",
        "outputId": "dd3c18b8-b201-430c-c2b5-17128a9c9d44"
      },
      "source": [
        "knns,error_rates = train_KNN(xtrain_age,ytrain,xtest_age,ytest)"
      ],
      "execution_count": 302,
      "outputs": [
        {
          "output_type": "stream",
          "text": [
            "Tuning neighbors from 1 to 200\n"
          ],
          "name": "stdout"
        }
      ]
    },
    {
      "cell_type": "code",
      "metadata": {
        "colab": {
          "base_uri": "https://localhost:8080/",
          "height": 281
        },
        "id": "lpzUjaYqMbzA",
        "outputId": "031efd41-02df-49a5-d40a-beaa885b5213"
      },
      "source": [
        "import matplotlib.pyplot as plt\n",
        "plt.plot(error_rates)\n"
      ],
      "execution_count": 303,
      "outputs": [
        {
          "output_type": "execute_result",
          "data": {
            "text/plain": [
              "[<matplotlib.lines.Line2D at 0x7f180a2d4910>]"
            ]
          },
          "metadata": {
            "tags": []
          },
          "execution_count": 303
        },
        {
          "output_type": "display_data",
          "data": {
            "image/png": "[encoded data removed]",
            "text/plain": [
              "<Figure size 432x288 with 1 Axes>"
            ]
          },
          "metadata": {
            "tags": [],
            "needs_background": "light"
          }
        }
      ]
    },
    {
      "cell_type": "markdown",
      "metadata": {
        "id": "AiLCjF-SfK1h"
      },
      "source": [
        "Function that returns KNN with best neighbor based o error rate"
      ]
    },
    {
      "cell_type": "code",
      "metadata": {
        "id": "Er5Y4sWfj-wi"
      },
      "source": [
        "def KNN_with_best_N(knns,error_rates):\n",
        "    best_N = error_rates.index(min(error_rates))\n",
        "    print('best neighbor is:',best_N+1,' with error rate:',min(error_rates))\n",
        "    return knns[best_N+1]\n"
      ],
      "execution_count": 304,
      "outputs": []
    },
    {
      "cell_type": "code",
      "metadata": {
        "colab": {
          "base_uri": "https://localhost:8080/"
        },
        "id": "3gK3qsBfMqkN",
        "outputId": "b4e0689a-b903-4274-d306-380191869fdc"
      },
      "source": [
        "knn = KNN_with_best_N(knns,error_rates)"
      ],
      "execution_count": 305,
      "outputs": [
        {
          "output_type": "stream",
          "text": [
            "best neighbor is: 145  with error rate: 0.5740000000000001\n"
          ],
          "name": "stdout"
        }
      ]
    },
    {
      "cell_type": "code",
      "metadata": {
        "id": "UP4wzMMhMqrc"
      },
      "source": [
        "ypred_age = knn.predict(xtest_age)"
      ],
      "execution_count": 306,
      "outputs": []
    },
    {
      "cell_type": "code",
      "metadata": {
        "colab": {
          "base_uri": "https://localhost:8080/"
        },
        "id": "IJi8qpCTMq5J",
        "outputId": "6eb780ba-b425-4d68-c449-98e30841c19a"
      },
      "source": [
        "accuracy_score(ytest, ypred_age)"
      ],
      "execution_count": 307,
      "outputs": [
        {
          "output_type": "execute_result",
          "data": {
            "text/plain": [
              "0.426"
            ]
          },
          "metadata": {
            "tags": []
          },
          "execution_count": 307
        }
      ]
    },
    {
      "cell_type": "code",
      "metadata": {
        "id": "0TK7fw82Tp_7",
        "colab": {
          "base_uri": "https://localhost:8080/"
        },
        "outputId": "90490a49-82cb-4275-a34b-34d707d2003d"
      },
      "source": [
        "from sklearn.metrics import confusion_matrix,classification_report\n",
        "print(classification_report(ytest,ypred_age))"
      ],
      "execution_count": 308,
      "outputs": [
        {
          "output_type": "stream",
          "text": [
            "              precision    recall  f1-score   support\n",
            "\n",
            "           0       0.35      0.38      0.36       496\n",
            "           1       0.32      0.04      0.07       501\n",
            "           2       0.40      0.57      0.47       521\n",
            "           3       0.54      0.72      0.62       482\n",
            "\n",
            "    accuracy                           0.43      2000\n",
            "   macro avg       0.40      0.43      0.38      2000\n",
            "weighted avg       0.40      0.43      0.38      2000\n",
            "\n"
          ],
          "name": "stdout"
        }
      ]
    },
    {
      "cell_type": "code",
      "metadata": {
        "colab": {
          "base_uri": "https://localhost:8080/"
        },
        "id": "A52ZEsZjM37f",
        "outputId": "f36247ad-5e18-4d97-93df-99fef67c0e02"
      },
      "source": [
        "confusion_matrix(ytest,ypred_age)"
      ],
      "execution_count": 309,
      "outputs": [
        {
          "output_type": "execute_result",
          "data": {
            "text/plain": [
              "array([[188,  21, 139, 148],\n",
              "       [150,  21, 253,  77],\n",
              "       [133,  17, 295,  76],\n",
              "       [ 73,   6,  55, 348]])"
            ]
          },
          "metadata": {
            "tags": []
          },
          "execution_count": 309
        }
      ]
    },
    {
      "cell_type": "markdown",
      "metadata": {
        "id": "dvlitkaMM9ac"
      },
      "source": [
        "Decision boundaries"
      ]
    },
    {
      "cell_type": "code",
      "metadata": {
        "colab": {
          "base_uri": "https://localhost:8080/",
          "height": 281
        },
        "id": "LbEnuMOJNBEd",
        "outputId": "325f5eac-9b9a-4de8-fa40-ece993e6877b"
      },
      "source": [
        "from mlxtend.plotting import plot_decision_regions\n",
        "plot_decision_regions(xtest_age, np.reshape(ytest,(ytest.shape[0],)), clf=knn, legend=2)\n"
      ],
      "execution_count": 310,
      "outputs": [
        {
          "output_type": "execute_result",
          "data": {
            "text/plain": [
              "<matplotlib.axes._subplots.AxesSubplot at 0x7f181110ed50>"
            ]
          },
          "metadata": {
            "tags": []
          },
          "execution_count": 310
        },
        {
          "output_type": "display_data",
          "data": {
            "image/png": "[encoded data removed]",
            "text/plain": [
              "<Figure size 432x288 with 1 Axes>"
            ]
          },
          "metadata": {
            "tags": [],
            "needs_background": "light"
          }
        }
      ]
    },
    {
      "cell_type": "code",
      "metadata": {
        "colab": {
          "base_uri": "https://localhost:8080/"
        },
        "id": "KYueHGbSeMi6",
        "outputId": "94327b38-49ea-40c9-cd9c-4ed850510667"
      },
      "source": [
        "from sklearn.preprocessing import MinMaxScaler,StandardScaler\n",
        "sc = MinMaxScaler()\n",
        "xtrain_age_sc = sc.fit_transform(xtrain_age)\n",
        "knns,error_rates = train_KNN(xtrain_age_sc,ytrain,xtest_age,ytest,norm = True,scaler = sc)\n",
        "knn = KNN_with_best_N(knns,error_rates)\n",
        "ypred_age = knn.predict(sc.fit_transform(xtest_age))\n",
        "print('accuracy',accuracy_score(ytest, ypred_age))\n",
        "print(classification_report(ytest,ypred_age))\n",
        "confusion_matrix(ytest,ypred_age)"
      ],
      "execution_count": 311,
      "outputs": [
        {
          "output_type": "stream",
          "text": [
            "Tuning neighbors from 1 to 200\n",
            "best neighbor is: 145  with error rate: 0.5720000000000001\n",
            "accuracy 0.428\n",
            "              precision    recall  f1-score   support\n",
            "\n",
            "           0       0.35      0.35      0.35       496\n",
            "           1       0.33      0.08      0.13       501\n",
            "           2       0.40      0.57      0.47       521\n",
            "           3       0.54      0.72      0.62       482\n",
            "\n",
            "    accuracy                           0.43      2000\n",
            "   macro avg       0.41      0.43      0.39      2000\n",
            "weighted avg       0.40      0.43      0.39      2000\n",
            "\n"
          ],
          "name": "stdout"
        },
        {
          "output_type": "execute_result",
          "data": {
            "text/plain": [
              "array([[174,  35, 139, 148],\n",
              "       [132,  39, 253,  77],\n",
              "       [118,  32, 295,  76],\n",
              "       [ 68,  11,  55, 348]])"
            ]
          },
          "metadata": {
            "tags": []
          },
          "execution_count": 311
        }
      ]
    },
    {
      "cell_type": "markdown",
      "metadata": {
        "id": "eMv8CdxJNYIX"
      },
      "source": [
        "The effect of normalization on Age - KNN\n",
        "\n",
        "The KNN is scale sensitive. Normalizing the input age improves the validation accuracy by 0.2%"
      ]
    },
    {
      "cell_type": "code",
      "metadata": {
        "colab": {
          "base_uri": "https://localhost:8080/"
        },
        "id": "BqjbYR27Ncmg",
        "outputId": "58ce56d5-0789-44d6-ad0c-62685506a1b4"
      },
      "source": [
        "from sklearn.preprocessing import MinMaxScaler,StandardScaler\n",
        "sc = MinMaxScaler()\n",
        "xtrain_age_sc = sc.fit_transform(xtrain_age)\n",
        "knns,error_rates = train_KNN(xtrain_age_sc,ytrain,xtest_age,ytest,norm = True,scaler = sc)\n",
        "knn = KNN_with_best_N(knns,error_rates)\n",
        "ypred_age = knn.predict(sc.fit_transform(xtest_age))\n",
        "print('accuracy',accuracy_score(ytest, ypred_age))\n",
        "print(classification_report(ytest,ypred_age))\n",
        "confusion_matrix(ytest,ypred_age)"
      ],
      "execution_count": 312,
      "outputs": [
        {
          "output_type": "stream",
          "text": [
            "Tuning neighbors from 1 to 200\n",
            "best neighbor is: 145  with error rate: 0.5720000000000001\n",
            "accuracy 0.428\n",
            "              precision    recall  f1-score   support\n",
            "\n",
            "           0       0.35      0.35      0.35       496\n",
            "           1       0.33      0.08      0.13       501\n",
            "           2       0.40      0.57      0.47       521\n",
            "           3       0.54      0.72      0.62       482\n",
            "\n",
            "    accuracy                           0.43      2000\n",
            "   macro avg       0.41      0.43      0.39      2000\n",
            "weighted avg       0.40      0.43      0.39      2000\n",
            "\n"
          ],
          "name": "stdout"
        },
        {
          "output_type": "execute_result",
          "data": {
            "text/plain": [
              "array([[174,  35, 139, 148],\n",
              "       [132,  39, 253,  77],\n",
              "       [118,  32, 295,  76],\n",
              "       [ 68,  11,  55, 348]])"
            ]
          },
          "metadata": {
            "tags": []
          },
          "execution_count": 312
        }
      ]
    },
    {
      "cell_type": "markdown",
      "metadata": {
        "id": "P3oOs3YWnyPb"
      },
      "source": [
        "Adding more input features - KNN"
      ]
    },
    {
      "cell_type": "code",
      "metadata": {
        "colab": {
          "base_uri": "https://localhost:8080/"
        },
        "id": "e_eFxQO3eVyo",
        "outputId": "1e2dd6cc-fafd-40cf-f8df-1a30f09dc579"
      },
      "source": [
        "from sklearn.preprocessing import MinMaxScaler,StandardScaler\n",
        "sc = MinMaxScaler()\n",
        "#xtrain_age_sc = sc.fit_transform(xtrain_age)\n",
        "input = ['Ever_Married_recoded','Graduated_recoded','Age','Profession_recoded','Family_Size','Spending_Score_recoded']#['Age','Work_Experience','Family_Size','Profession_recoded' ]\n",
        "knns,error_rates = train_KNN(sc.fit_transform(xtrain[input]),ytrain,xtest[input],ytest,norm = True,scaler = sc)\n",
        "knn = KNN_with_best_N(knns,error_rates)\n",
        "ypred = knn.predict(sc.fit_transform(xtest[input]))\n",
        "print('accuracy',accuracy_score(ytest, ypred))\n",
        "print(classification_report(ytest,ypred))\n",
        "confusion_matrix(ytest,ypred)"
      ],
      "execution_count": 313,
      "outputs": [
        {
          "output_type": "stream",
          "text": [
            "Tuning neighbors from 1 to 200\n",
            "best neighbor is: 28  with error rate: 0.487\n",
            "accuracy 0.513\n",
            "              precision    recall  f1-score   support\n",
            "\n",
            "           0       0.45      0.46      0.45       496\n",
            "           1       0.44      0.33      0.37       501\n",
            "           2       0.54      0.58      0.56       521\n",
            "           3       0.59      0.69      0.64       482\n",
            "\n",
            "    accuracy                           0.51      2000\n",
            "   macro avg       0.51      0.51      0.51      2000\n",
            "weighted avg       0.51      0.51      0.51      2000\n",
            "\n"
          ],
          "name": "stdout"
        },
        {
          "output_type": "execute_result",
          "data": {
            "text/plain": [
              "array([[228,  94,  75,  99],\n",
              "       [101, 164, 170,  66],\n",
              "       [ 69,  87, 303,  62],\n",
              "       [109,  29,  13, 331]])"
            ]
          },
          "metadata": {
            "tags": []
          },
          "execution_count": 313
        }
      ]
    },
    {
      "cell_type": "markdown",
      "metadata": {
        "id": "vxcUFIT5wW7T"
      },
      "source": [
        "======\n",
        "##SVM\n",
        "======"
      ]
    },
    {
      "cell_type": "code",
      "metadata": {
        "id": "hePCpSc8aPNz"
      },
      "source": [
        "from sklearn.svm import SVC"
      ],
      "execution_count": 314,
      "outputs": []
    },
    {
      "cell_type": "markdown",
      "metadata": {
        "id": "ZbOnI49gQthw"
      },
      "source": [
        "SVM baseline model with Age as input"
      ]
    },
    {
      "cell_type": "code",
      "metadata": {
        "colab": {
          "base_uri": "https://localhost:8080/"
        },
        "id": "GgGmH7v0yOxj",
        "outputId": "1a4da5c4-765c-4b96-a76a-dbc6294d4a4d"
      },
      "source": [
        "svm = SVC(kernel = 'rbf')\n",
        "svm.fit(xtrain_age,ytrain)"
      ],
      "execution_count": 315,
      "outputs": [
        {
          "output_type": "execute_result",
          "data": {
            "text/plain": [
              "SVC(C=1.0, break_ties=False, cache_size=200, class_weight=None, coef0=0.0,\n",
              "    decision_function_shape='ovr', degree=3, gamma='scale', kernel='rbf',\n",
              "    max_iter=-1, probability=False, random_state=None, shrinking=True,\n",
              "    tol=0.001, verbose=False)"
            ]
          },
          "metadata": {
            "tags": []
          },
          "execution_count": 315
        }
      ]
    },
    {
      "cell_type": "code",
      "metadata": {
        "id": "tqhUO_kuyPrT"
      },
      "source": [
        "ypred_svm = svm.predict(xtest_age)"
      ],
      "execution_count": 316,
      "outputs": []
    },
    {
      "cell_type": "code",
      "metadata": {
        "colab": {
          "base_uri": "https://localhost:8080/"
        },
        "id": "4Exd_6UIylaK",
        "outputId": "d0151cf2-78dc-4122-df54-ff6079a93795"
      },
      "source": [
        "accuracy_score(ytest,ypred_svm)"
      ],
      "execution_count": 317,
      "outputs": [
        {
          "output_type": "execute_result",
          "data": {
            "text/plain": [
              "0.4205"
            ]
          },
          "metadata": {
            "tags": []
          },
          "execution_count": 317
        }
      ]
    },
    {
      "cell_type": "code",
      "metadata": {
        "colab": {
          "base_uri": "https://localhost:8080/"
        },
        "id": "nTqGRquaAAHx",
        "outputId": "8d6dfbda-5c4e-47f7-f756-18ec1d65fafe"
      },
      "source": [
        "print(classification_report(ytest,ypred_svm))"
      ],
      "execution_count": 318,
      "outputs": [
        {
          "output_type": "stream",
          "text": [
            "              precision    recall  f1-score   support\n",
            "\n",
            "           0       0.33      0.37      0.35       496\n",
            "           1       0.24      0.02      0.04       501\n",
            "           2       0.40      0.57      0.47       521\n",
            "           3       0.54      0.72      0.62       482\n",
            "\n",
            "    accuracy                           0.42      2000\n",
            "   macro avg       0.38      0.42      0.37      2000\n",
            "weighted avg       0.38      0.42      0.37      2000\n",
            "\n"
          ],
          "name": "stdout"
        }
      ]
    },
    {
      "cell_type": "code",
      "metadata": {
        "colab": {
          "base_uri": "https://localhost:8080/"
        },
        "id": "mN49lYPQAXHk",
        "outputId": "60672f78-ebca-499e-f7d7-c38f47cb740f"
      },
      "source": [
        "confusion_matrix(ytest,ypred_svm)"
      ],
      "execution_count": 319,
      "outputs": [
        {
          "output_type": "execute_result",
          "data": {
            "text/plain": [
              "array([[185,  22, 141, 148],\n",
              "       [156,  12, 256,  77],\n",
              "       [137,  12, 296,  76],\n",
              "       [ 75,   4,  55, 348]])"
            ]
          },
          "metadata": {
            "tags": []
          },
          "execution_count": 319
        }
      ]
    },
    {
      "cell_type": "code",
      "metadata": {
        "colab": {
          "base_uri": "https://localhost:8080/",
          "height": 282
        },
        "id": "OPL7K2fmAdRv",
        "outputId": "3787d3e6-50b2-44a8-a83f-1ef424b8ec82"
      },
      "source": [
        "\n",
        "plot_decision_regions(xtest_age, np.reshape(ytest,(ytest.shape[0],)), clf=svm, legend=2)\n"
      ],
      "execution_count": 320,
      "outputs": [
        {
          "output_type": "execute_result",
          "data": {
            "text/plain": [
              "<matplotlib.axes._subplots.AxesSubplot at 0x7f1811036d10>"
            ]
          },
          "metadata": {
            "tags": []
          },
          "execution_count": 320
        },
        {
          "output_type": "display_data",
          "data": {
            "image/png": "[encoded data removed]",
            "text/plain": [
              "<Figure size 432x288 with 1 Axes>"
            ]
          },
          "metadata": {
            "tags": [],
            "needs_background": "light"
          }
        }
      ]
    },
    {
      "cell_type": "markdown",
      "metadata": {
        "id": "d3uiVF82gl5h"
      },
      "source": [
        "Effect of normalization - SVM\n",
        "SVM is not scale sensitive as KNN. Normaliation on age does not affect performance"
      ]
    },
    {
      "cell_type": "code",
      "metadata": {
        "colab": {
          "base_uri": "https://localhost:8080/"
        },
        "id": "9lnWex7igqbC",
        "outputId": "a3ff03e7-9d44-4d9e-e136-9bf10b46b1e4"
      },
      "source": [
        "svm = SVC(kernel = 'rbf')\n",
        "svm.fit(xtrain_age_sc,ytrain)\n",
        "ypred_svm = svm.predict(sc.fit_transform(xtest_age))\n",
        "print(accuracy_score(ytest,ypred_svm))\n",
        "print(classification_report(ytest,ypred_svm))\n",
        "confusion_matrix(ytest,ypred_svm)"
      ],
      "execution_count": 321,
      "outputs": [
        {
          "output_type": "stream",
          "text": [
            "0.4205\n",
            "              precision    recall  f1-score   support\n",
            "\n",
            "           0       0.33      0.37      0.35       496\n",
            "           1       0.24      0.02      0.04       501\n",
            "           2       0.40      0.57      0.47       521\n",
            "           3       0.54      0.72      0.62       482\n",
            "\n",
            "    accuracy                           0.42      2000\n",
            "   macro avg       0.38      0.42      0.37      2000\n",
            "weighted avg       0.38      0.42      0.37      2000\n",
            "\n"
          ],
          "name": "stdout"
        },
        {
          "output_type": "execute_result",
          "data": {
            "text/plain": [
              "array([[185,  22, 141, 148],\n",
              "       [156,  12, 256,  77],\n",
              "       [137,  12, 296,  76],\n",
              "       [ 75,   4,  55, 348]])"
            ]
          },
          "metadata": {
            "tags": []
          },
          "execution_count": 321
        }
      ]
    },
    {
      "cell_type": "markdown",
      "metadata": {
        "id": "b-1ufLJobH3W"
      },
      "source": [
        "HyperParameter tuning kernel (optimization function) - SVM \n",
        "\n",
        "Using selecteed input \n",
        "\n",
        "input = ['Ever_Married_recoded','Graduated_recoded','Age','Profession_recoded','Family_Size','Spending_Score_recoded']"
      ]
    },
    {
      "cell_type": "code",
      "metadata": {
        "colab": {
          "base_uri": "https://localhost:8080/"
        },
        "id": "oMmHoIyQbYk9",
        "outputId": "badc9389-c401-4d66-a2b0-e85785875b99"
      },
      "source": [
        "svm = SVC(kernel = 'rbf')\n",
        "svm.fit(xtrain[input],ytrain)\n",
        "ypred_svm = svm.predict(xtest[input])\n",
        "print(accuracy_score(ytest,ypred_svm))\n",
        "print(classification_report(ytest,ypred_svm))\n",
        "confusion_matrix(ytest,ypred_svm)"
      ],
      "execution_count": 322,
      "outputs": [
        {
          "output_type": "stream",
          "text": [
            "0.434\n",
            "              precision    recall  f1-score   support\n",
            "\n",
            "           0       0.37      0.43      0.39       496\n",
            "           1       0.31      0.02      0.03       501\n",
            "           2       0.40      0.61      0.49       521\n",
            "           3       0.54      0.68      0.61       482\n",
            "\n",
            "    accuracy                           0.43      2000\n",
            "   macro avg       0.41      0.43      0.38      2000\n",
            "weighted avg       0.40      0.43      0.38      2000\n",
            "\n"
          ],
          "name": "stdout"
        },
        {
          "output_type": "execute_result",
          "data": {
            "text/plain": [
              "array([[211,   9, 146, 130],\n",
              "       [143,   8, 277,  73],\n",
              "       [122,   7, 319,  73],\n",
              "       [100,   2,  50, 330]])"
            ]
          },
          "metadata": {
            "tags": []
          },
          "execution_count": 322
        }
      ]
    },
    {
      "cell_type": "code",
      "metadata": {
        "colab": {
          "base_uri": "https://localhost:8080/"
        },
        "id": "nH-IEASDf9sd",
        "outputId": "a82681b5-2302-4dc7-f876-0dec988175af"
      },
      "source": [
        "svm = SVC(kernel = 'poly')\n",
        "svm.fit(xtrain[input],ytrain)\n",
        "ypred_svm = svm.predict(xtest[input])\n",
        "print(accuracy_score(ytest,ypred_svm))\n",
        "print(classification_report(ytest,ypred_svm))\n",
        "confusion_matrix(ytest,ypred_svm)"
      ],
      "execution_count": 323,
      "outputs": [
        {
          "output_type": "stream",
          "text": [
            "0.403\n",
            "              precision    recall  f1-score   support\n",
            "\n",
            "           0       0.33      0.24      0.28       496\n",
            "           1       0.34      0.02      0.04       501\n",
            "           2       0.47      0.54      0.50       521\n",
            "           3       0.39      0.82      0.53       482\n",
            "\n",
            "    accuracy                           0.40      2000\n",
            "   macro avg       0.38      0.41      0.34      2000\n",
            "weighted avg       0.38      0.40      0.34      2000\n",
            "\n"
          ],
          "name": "stdout"
        },
        {
          "output_type": "execute_result",
          "data": {
            "text/plain": [
              "array([[120,  11,  84, 281],\n",
              "       [108,  12, 209, 172],\n",
              "       [ 75,   8, 280, 158],\n",
              "       [ 56,   4,  28, 394]])"
            ]
          },
          "metadata": {
            "tags": []
          },
          "execution_count": 323
        }
      ]
    },
    {
      "cell_type": "code",
      "metadata": {
        "colab": {
          "base_uri": "https://localhost:8080/"
        },
        "id": "nX-HsSZEgI_H",
        "outputId": "22d7166f-f51c-492a-c0e8-3df80fa63549"
      },
      "source": [
        "svm = SVC(kernel = 'linear')\n",
        "svm.fit(xtrain[input],ytrain)\n",
        "ypred_svm = svm.predict(xtest[input])\n",
        "print(accuracy_score(ytest,ypred_svm))\n",
        "print(classification_report(ytest,ypred_svm))\n",
        "confusion_matrix(ytest,ypred_svm)"
      ],
      "execution_count": 324,
      "outputs": [
        {
          "output_type": "stream",
          "text": [
            "0.462\n",
            "              precision    recall  f1-score   support\n",
            "\n",
            "           0       0.42      0.48      0.45       496\n",
            "           1       0.32      0.04      0.06       501\n",
            "           2       0.42      0.69      0.52       521\n",
            "           3       0.58      0.64      0.61       482\n",
            "\n",
            "    accuracy                           0.46      2000\n",
            "   macro avg       0.44      0.46      0.41      2000\n",
            "weighted avg       0.44      0.46      0.41      2000\n",
            "\n"
          ],
          "name": "stdout"
        },
        {
          "output_type": "execute_result",
          "data": {
            "text/plain": [
              "array([[239,  16, 151,  90],\n",
              "       [134,  18, 286,  63],\n",
              "       [ 82,  11, 358,  70],\n",
              "       [110,  11,  52, 309]])"
            ]
          },
          "metadata": {
            "tags": []
          },
          "execution_count": 324
        }
      ]
    },
    {
      "cell_type": "code",
      "metadata": {
        "colab": {
          "base_uri": "https://localhost:8080/"
        },
        "id": "rbAntl7LgW2h",
        "outputId": "d6317080-bab3-45d3-846b-f6117176760a"
      },
      "source": [
        "svm = SVC(kernel = 'sigmoid')\n",
        "svm.fit(xtrain[input],ytrain)\n",
        "ypred_svm = svm.predict(xtest[input])\n",
        "print(accuracy_score(ytest,ypred_svm))\n",
        "print(classification_report(ytest,ypred_svm))\n",
        "confusion_matrix(ytest,ypred_svm)"
      ],
      "execution_count": 325,
      "outputs": [
        {
          "output_type": "stream",
          "text": [
            "0.301\n",
            "              precision    recall  f1-score   support\n",
            "\n",
            "           0       0.20      0.33      0.25       496\n",
            "           1       0.21      0.01      0.03       501\n",
            "           2       0.24      0.18      0.21       521\n",
            "           3       0.44      0.70      0.54       482\n",
            "\n",
            "    accuracy                           0.30      2000\n",
            "   macro avg       0.27      0.31      0.26      2000\n",
            "weighted avg       0.27      0.30      0.25      2000\n",
            "\n"
          ],
          "name": "stdout"
        },
        {
          "output_type": "execute_result",
          "data": {
            "text/plain": [
              "array([[165,   9, 128, 194],\n",
              "       [257,   7, 109, 128],\n",
              "       [305,  13,  93, 110],\n",
              "       [ 88,   5,  52, 337]])"
            ]
          },
          "metadata": {
            "tags": []
          },
          "execution_count": 325
        }
      ]
    },
    {
      "cell_type": "markdown",
      "metadata": {
        "id": "CBzV45fEgd5f"
      },
      "source": [
        "Select best SVM kernel (which happens to be linear) and hyperparameter tune regularization arg - C. The strength of the reguarization is inversely related to C "
      ]
    },
    {
      "cell_type": "code",
      "metadata": {
        "id": "Zfcq0E2ig2YF"
      },
      "source": [
        "ers = []#error rates for different Cs\n",
        "Cs = np.linspace(1,5,num = 10)\n",
        "SVMs = []\n",
        "for C in Cs:\n",
        "  svm = SVC(kernel = 'linear',C = C)\n",
        "  svm.fit(xtrain[input],ytrain)\n",
        "  ypred_svm = svm.predict(xtest[input])\n",
        "  er = 1-accuracy_score(ytest,ypred_svm)\n",
        "  ers.append(er)\n",
        "  SVMs.append(svm)\n",
        "  #print(classification_report(ytest,ypred_svm))\n",
        "  #confusion_matrix(ytest,ypred_svm)"
      ],
      "execution_count": 326,
      "outputs": []
    },
    {
      "cell_type": "markdown",
      "metadata": {
        "id": "p5EOxq2yjKZA"
      },
      "source": [
        "Error rate regarding regularization\n"
      ]
    },
    {
      "cell_type": "code",
      "metadata": {
        "colab": {
          "base_uri": "https://localhost:8080/",
          "height": 296
        },
        "id": "UWmMK1t5i3h7",
        "outputId": "95cb68f8-9482-4f89-840c-8d9c41087395"
      },
      "source": [
        "plt.plot(ers)\n",
        "plt.xlabel('C-regularization')\n",
        "plt.ylabel('error rate')"
      ],
      "execution_count": 327,
      "outputs": [
        {
          "output_type": "execute_result",
          "data": {
            "text/plain": [
              "Text(0, 0.5, 'error rate')"
            ]
          },
          "metadata": {
            "tags": []
          },
          "execution_count": 327
        },
        {
          "output_type": "display_data",
          "data": {
            "image/png": "[encoded data removed]",
            "text/plain": [
              "<Figure size 432x288 with 1 Axes>"
            ]
          },
          "metadata": {
            "tags": [],
            "needs_background": "light"
          }
        }
      ]
    },
    {
      "cell_type": "markdown",
      "metadata": {
        "id": "4dIhV3hSqh3-"
      },
      "source": [
        "Best SVM per regularization\n",
        "\n",
        "The best error rate during the regularization was 0.5375 with C >= 4"
      ]
    },
    {
      "cell_type": "code",
      "metadata": {
        "colab": {
          "base_uri": "https://localhost:8080/"
        },
        "id": "HqULOxNlsGQ4",
        "outputId": "99eccde7-fb5b-4c79-abab-44a9f2bdcbbd"
      },
      "source": [
        "#best error rate, C\n",
        "min(ers),ers.index(min(ers))"
      ],
      "execution_count": 328,
      "outputs": [
        {
          "output_type": "execute_result",
          "data": {
            "text/plain": [
              "(0.5375, 4)"
            ]
          },
          "metadata": {
            "tags": []
          },
          "execution_count": 328
        }
      ]
    },
    {
      "cell_type": "code",
      "metadata": {
        "colab": {
          "base_uri": "https://localhost:8080/"
        },
        "id": "koSNwawaqffZ",
        "outputId": "397fae28-3b63-4b59-da8f-170c573b7e94"
      },
      "source": [
        "best_svm = SVMs[ers.index(min(ers))]\n",
        "ypred_svm = best_svm.predict(xtest[input])\n",
        "print('accuracy:',accuracy_score(ytest,ypred_svm))\n",
        "print(classification_report(ytest,ypred_svm))\n",
        "confusion_matrix(ytest,ypred_svm)\n"
      ],
      "execution_count": 329,
      "outputs": [
        {
          "output_type": "stream",
          "text": [
            "accuracy: 0.4625\n",
            "              precision    recall  f1-score   support\n",
            "\n",
            "           0       0.42      0.48      0.45       496\n",
            "           1       0.32      0.04      0.06       501\n",
            "           2       0.42      0.69      0.52       521\n",
            "           3       0.58      0.64      0.61       482\n",
            "\n",
            "    accuracy                           0.46      2000\n",
            "   macro avg       0.44      0.46      0.41      2000\n",
            "weighted avg       0.44      0.46      0.41      2000\n",
            "\n"
          ],
          "name": "stdout"
        },
        {
          "output_type": "execute_result",
          "data": {
            "text/plain": [
              "array([[239,  16, 151,  90],\n",
              "       [133,  18, 287,  63],\n",
              "       [ 81,  11, 359,  70],\n",
              "       [110,  11,  52, 309]])"
            ]
          },
          "metadata": {
            "tags": []
          },
          "execution_count": 329
        }
      ]
    },
    {
      "cell_type": "code",
      "metadata": {
        "id": "O9gRYe3Wrf3H"
      },
      "source": [
        ""
      ],
      "execution_count": 329,
      "outputs": []
    },
    {
      "cell_type": "markdown",
      "metadata": {
        "id": "q0AbhVATBwxC"
      },
      "source": [
        "===================\n",
        "##Neural Network\n",
        "==================="
      ]
    },
    {
      "cell_type": "code",
      "metadata": {
        "id": "dRJqi04yBJ7F"
      },
      "source": [
        "from keras.layers import Dense\n",
        "from keras.models import Sequential\n",
        "from keras.utils import to_categorical\n",
        "from keras.callbacks import ModelCheckpoint"
      ],
      "execution_count": 330,
      "outputs": []
    },
    {
      "cell_type": "code",
      "metadata": {
        "id": "4diCNXp-ICyo"
      },
      "source": [
        "nn_ytrain = to_categorical(ytrain)\n",
        "nn_ytest = to_categorical(ytest)"
      ],
      "execution_count": 331,
      "outputs": []
    },
    {
      "cell_type": "code",
      "metadata": {
        "id": "f2K_1tPUCBN1"
      },
      "source": [
        "def NN(X = None,Y = None,optimizer = None,loss = None):\n",
        "  model = Sequential()\n",
        "  model.add(Dense(units = 16,input_dim =X.shape[1], activation = 'relu'))\n",
        "  model.add(Dense(units = 32, activation = 'relu'))\n",
        "  model.add(Dense(units = 64, activation = 'relu'))\n",
        "  model.add(Dense(units = 128, activation = 'relu'))\n",
        "  model.add(Dense(units = 512, activation = 'relu'))\n",
        "  model.add(Dense(units = 128, activation = 'relu'))\n",
        "  model.add(Dense(units = 164, activation = 'relu'))\n",
        "  model.add(Dense(units = 32, activation = 'relu'))\n",
        "  model.add(Dense(units = 16, activation = 'relu'))\n",
        "  model.add(Dense(units = 8 ,activation = 'relu'))\n",
        "  model.add(Dense(units = Y.shape[1], activation = 'softmax'))\n",
        "  model.compile(optimizer = optimizer,loss = loss,metrics = ['accuracy'])\n",
        "  print('Neural Netowrk info:\\ninput dim: ',X.shape[1],'\\noutput dim: ',Y.shape[1],'\\noptimizer:',optimizer,'\\nloss: ',loss)\n",
        "  return model"
      ],
      "execution_count": 332,
      "outputs": []
    },
    {
      "cell_type": "code",
      "metadata": {
        "colab": {
          "base_uri": "https://localhost:8080/"
        },
        "id": "FiG9ZncYDH60",
        "outputId": "d4ac20a2-5dbc-480e-e7cb-9709f6bc8427"
      },
      "source": [
        "nn = NN(X = xtrain[input],Y = nn_ytrain,optimizer = 'Adam',loss = 'mean_squared_error')"
      ],
      "execution_count": 333,
      "outputs": [
        {
          "output_type": "stream",
          "text": [
            "Neural Netowrk info:\n",
            "input dim:  6 \n",
            "output dim:  4 \n",
            "optimizer: Adam \n",
            "loss:  mean_squared_error\n"
          ],
          "name": "stdout"
        }
      ]
    },
    {
      "cell_type": "code",
      "metadata": {
        "colab": {
          "base_uri": "https://localhost:8080/"
        },
        "id": "EkC3icbgDkBj",
        "outputId": "8227472a-2eac-4ee0-e12e-e8e922dedb95"
      },
      "source": [
        "hist = nn.fit(np.array(xtrain[input]),nn_ytrain,epochs = 100,validation_data= (np.array(xtest[input]),nn_ytest),callbacks = [ModelCheckpoint(monitor='val_loss',mode = 'min',save_best_only=True,filepath= 'nn.hdf5',verbose = 1)])"
      ],
      "execution_count": 334,
      "outputs": [
        {
          "output_type": "stream",
          "text": [
            "Epoch 1/100\n",
            "146/146 [==============================] - 2s 6ms/step - loss: 0.1880 - accuracy: 0.2606 - val_loss: 0.1843 - val_accuracy: 0.3480\n",
            "\n",
            "Epoch 00001: val_loss improved from inf to 0.18427, saving model to nn.hdf5\n",
            "Epoch 2/100\n",
            "146/146 [==============================] - 1s 5ms/step - loss: 0.1833 - accuracy: 0.3664 - val_loss: 0.1722 - val_accuracy: 0.3660\n",
            "\n",
            "Epoch 00002: val_loss improved from 0.18427 to 0.17221, saving model to nn.hdf5\n",
            "Epoch 3/100\n",
            "146/146 [==============================] - 1s 5ms/step - loss: 0.1680 - accuracy: 0.4072 - val_loss: 0.1836 - val_accuracy: 0.3195\n",
            "\n",
            "Epoch 00003: val_loss did not improve from 0.17221\n",
            "Epoch 4/100\n",
            "146/146 [==============================] - 1s 5ms/step - loss: 0.1692 - accuracy: 0.4120 - val_loss: 0.1616 - val_accuracy: 0.4355\n",
            "\n",
            "Epoch 00004: val_loss improved from 0.17221 to 0.16158, saving model to nn.hdf5\n",
            "Epoch 5/100\n",
            "146/146 [==============================] - 1s 5ms/step - loss: 0.1618 - accuracy: 0.4530 - val_loss: 0.1602 - val_accuracy: 0.4385\n",
            "\n",
            "Epoch 00005: val_loss improved from 0.16158 to 0.16018, saving model to nn.hdf5\n",
            "Epoch 6/100\n",
            "146/146 [==============================] - 1s 5ms/step - loss: 0.1582 - accuracy: 0.4739 - val_loss: 0.1603 - val_accuracy: 0.4625\n",
            "\n",
            "Epoch 00006: val_loss did not improve from 0.16018\n",
            "Epoch 7/100\n",
            "146/146 [==============================] - 1s 5ms/step - loss: 0.1594 - accuracy: 0.4744 - val_loss: 0.1559 - val_accuracy: 0.4825\n",
            "\n",
            "Epoch 00007: val_loss improved from 0.16018 to 0.15595, saving model to nn.hdf5\n",
            "Epoch 8/100\n",
            "146/146 [==============================] - 1s 5ms/step - loss: 0.1574 - accuracy: 0.4859 - val_loss: 0.1572 - val_accuracy: 0.4820\n",
            "\n",
            "Epoch 00008: val_loss did not improve from 0.15595\n",
            "Epoch 9/100\n",
            "146/146 [==============================] - 1s 5ms/step - loss: 0.1539 - accuracy: 0.5024 - val_loss: 0.1556 - val_accuracy: 0.4905\n",
            "\n",
            "Epoch 00009: val_loss improved from 0.15595 to 0.15563, saving model to nn.hdf5\n",
            "Epoch 10/100\n",
            "146/146 [==============================] - 1s 5ms/step - loss: 0.1562 - accuracy: 0.4800 - val_loss: 0.1532 - val_accuracy: 0.4930\n",
            "\n",
            "Epoch 00010: val_loss improved from 0.15563 to 0.15321, saving model to nn.hdf5\n",
            "Epoch 11/100\n",
            "146/146 [==============================] - 1s 5ms/step - loss: 0.1539 - accuracy: 0.4965 - val_loss: 0.1544 - val_accuracy: 0.4930\n",
            "\n",
            "Epoch 00011: val_loss did not improve from 0.15321\n",
            "Epoch 12/100\n",
            "146/146 [==============================] - 1s 5ms/step - loss: 0.1536 - accuracy: 0.5067 - val_loss: 0.1521 - val_accuracy: 0.5100\n",
            "\n",
            "Epoch 00012: val_loss improved from 0.15321 to 0.15208, saving model to nn.hdf5\n",
            "Epoch 13/100\n",
            "146/146 [==============================] - 1s 5ms/step - loss: 0.1533 - accuracy: 0.5014 - val_loss: 0.1548 - val_accuracy: 0.4945\n",
            "\n",
            "Epoch 00013: val_loss did not improve from 0.15208\n",
            "Epoch 14/100\n",
            "146/146 [==============================] - 1s 5ms/step - loss: 0.1496 - accuracy: 0.5183 - val_loss: 0.1515 - val_accuracy: 0.5000\n",
            "\n",
            "Epoch 00014: val_loss improved from 0.15208 to 0.15151, saving model to nn.hdf5\n",
            "Epoch 15/100\n",
            "146/146 [==============================] - 1s 5ms/step - loss: 0.1489 - accuracy: 0.5255 - val_loss: 0.1532 - val_accuracy: 0.4875\n",
            "\n",
            "Epoch 00015: val_loss did not improve from 0.15151\n",
            "Epoch 16/100\n",
            "146/146 [==============================] - 1s 5ms/step - loss: 0.1504 - accuracy: 0.5049 - val_loss: 0.1526 - val_accuracy: 0.4880\n",
            "\n",
            "Epoch 00016: val_loss did not improve from 0.15151\n",
            "Epoch 17/100\n",
            "146/146 [==============================] - 1s 5ms/step - loss: 0.1506 - accuracy: 0.5114 - val_loss: 0.1564 - val_accuracy: 0.4715\n",
            "\n",
            "Epoch 00017: val_loss did not improve from 0.15151\n",
            "Epoch 18/100\n",
            "146/146 [==============================] - 1s 5ms/step - loss: 0.1535 - accuracy: 0.4993 - val_loss: 0.1534 - val_accuracy: 0.4960\n",
            "\n",
            "Epoch 00018: val_loss did not improve from 0.15151\n",
            "Epoch 19/100\n",
            "146/146 [==============================] - 1s 5ms/step - loss: 0.1513 - accuracy: 0.5007 - val_loss: 0.1512 - val_accuracy: 0.4955\n",
            "\n",
            "Epoch 00019: val_loss improved from 0.15151 to 0.15119, saving model to nn.hdf5\n",
            "Epoch 20/100\n",
            "146/146 [==============================] - 1s 5ms/step - loss: 0.1504 - accuracy: 0.5129 - val_loss: 0.1520 - val_accuracy: 0.5005\n",
            "\n",
            "Epoch 00020: val_loss did not improve from 0.15119\n",
            "Epoch 21/100\n",
            "146/146 [==============================] - 1s 5ms/step - loss: 0.1500 - accuracy: 0.5199 - val_loss: 0.1555 - val_accuracy: 0.4980\n",
            "\n",
            "Epoch 00021: val_loss did not improve from 0.15119\n",
            "Epoch 22/100\n",
            "146/146 [==============================] - 1s 5ms/step - loss: 0.1492 - accuracy: 0.5222 - val_loss: 0.1530 - val_accuracy: 0.4985\n",
            "\n",
            "Epoch 00022: val_loss did not improve from 0.15119\n",
            "Epoch 23/100\n",
            "146/146 [==============================] - 1s 5ms/step - loss: 0.1486 - accuracy: 0.5180 - val_loss: 0.1525 - val_accuracy: 0.5110\n",
            "\n",
            "Epoch 00023: val_loss did not improve from 0.15119\n",
            "Epoch 24/100\n",
            "146/146 [==============================] - 1s 5ms/step - loss: 0.1496 - accuracy: 0.5179 - val_loss: 0.1566 - val_accuracy: 0.4785\n",
            "\n",
            "Epoch 00024: val_loss did not improve from 0.15119\n",
            "Epoch 25/100\n",
            "146/146 [==============================] - 1s 5ms/step - loss: 0.1508 - accuracy: 0.5169 - val_loss: 0.1511 - val_accuracy: 0.5070\n",
            "\n",
            "Epoch 00025: val_loss improved from 0.15119 to 0.15106, saving model to nn.hdf5\n",
            "Epoch 26/100\n",
            "146/146 [==============================] - 1s 5ms/step - loss: 0.1480 - accuracy: 0.5205 - val_loss: 0.1544 - val_accuracy: 0.5020\n",
            "\n",
            "Epoch 00026: val_loss did not improve from 0.15106\n",
            "Epoch 27/100\n",
            "146/146 [==============================] - 1s 5ms/step - loss: 0.1500 - accuracy: 0.5092 - val_loss: 0.1522 - val_accuracy: 0.5025\n",
            "\n",
            "Epoch 00027: val_loss did not improve from 0.15106\n",
            "Epoch 28/100\n",
            "146/146 [==============================] - 1s 5ms/step - loss: 0.1494 - accuracy: 0.5150 - val_loss: 0.1553 - val_accuracy: 0.4945\n",
            "\n",
            "Epoch 00028: val_loss did not improve from 0.15106\n",
            "Epoch 29/100\n",
            "146/146 [==============================] - 1s 5ms/step - loss: 0.1479 - accuracy: 0.5263 - val_loss: 0.1516 - val_accuracy: 0.4965\n",
            "\n",
            "Epoch 00029: val_loss did not improve from 0.15106\n",
            "Epoch 30/100\n",
            "146/146 [==============================] - 1s 5ms/step - loss: 0.1481 - accuracy: 0.5262 - val_loss: 0.1570 - val_accuracy: 0.4845\n",
            "\n",
            "Epoch 00030: val_loss did not improve from 0.15106\n",
            "Epoch 31/100\n",
            "146/146 [==============================] - 1s 5ms/step - loss: 0.1493 - accuracy: 0.5054 - val_loss: 0.1517 - val_accuracy: 0.4805\n",
            "\n",
            "Epoch 00031: val_loss did not improve from 0.15106\n",
            "Epoch 32/100\n",
            "146/146 [==============================] - 1s 5ms/step - loss: 0.1463 - accuracy: 0.5212 - val_loss: 0.1518 - val_accuracy: 0.4905\n",
            "\n",
            "Epoch 00032: val_loss did not improve from 0.15106\n",
            "Epoch 33/100\n",
            "146/146 [==============================] - 1s 5ms/step - loss: 0.1470 - accuracy: 0.5243 - val_loss: 0.1515 - val_accuracy: 0.4915\n",
            "\n",
            "Epoch 00033: val_loss did not improve from 0.15106\n",
            "Epoch 34/100\n",
            "146/146 [==============================] - 1s 5ms/step - loss: 0.1457 - accuracy: 0.5207 - val_loss: 0.1509 - val_accuracy: 0.4945\n",
            "\n",
            "Epoch 00034: val_loss improved from 0.15106 to 0.15087, saving model to nn.hdf5\n",
            "Epoch 35/100\n",
            "146/146 [==============================] - 1s 5ms/step - loss: 0.1431 - accuracy: 0.5295 - val_loss: 0.1524 - val_accuracy: 0.4845\n",
            "\n",
            "Epoch 00035: val_loss did not improve from 0.15087\n",
            "Epoch 36/100\n",
            "146/146 [==============================] - 1s 5ms/step - loss: 0.1483 - accuracy: 0.5182 - val_loss: 0.1524 - val_accuracy: 0.4965\n",
            "\n",
            "Epoch 00036: val_loss did not improve from 0.15087\n",
            "Epoch 37/100\n",
            "146/146 [==============================] - 1s 5ms/step - loss: 0.1475 - accuracy: 0.5139 - val_loss: 0.1513 - val_accuracy: 0.5130\n",
            "\n",
            "Epoch 00037: val_loss did not improve from 0.15087\n",
            "Epoch 38/100\n",
            "146/146 [==============================] - 1s 5ms/step - loss: 0.1468 - accuracy: 0.5223 - val_loss: 0.1544 - val_accuracy: 0.4860\n",
            "\n",
            "Epoch 00038: val_loss did not improve from 0.15087\n",
            "Epoch 39/100\n",
            "146/146 [==============================] - 1s 5ms/step - loss: 0.1488 - accuracy: 0.5195 - val_loss: 0.1520 - val_accuracy: 0.5065\n",
            "\n",
            "Epoch 00039: val_loss did not improve from 0.15087\n",
            "Epoch 40/100\n",
            "146/146 [==============================] - 1s 5ms/step - loss: 0.1455 - accuracy: 0.5283 - val_loss: 0.1507 - val_accuracy: 0.5095\n",
            "\n",
            "Epoch 00040: val_loss improved from 0.15087 to 0.15073, saving model to nn.hdf5\n",
            "Epoch 41/100\n",
            "146/146 [==============================] - 1s 5ms/step - loss: 0.1465 - accuracy: 0.5232 - val_loss: 0.1521 - val_accuracy: 0.4945\n",
            "\n",
            "Epoch 00041: val_loss did not improve from 0.15073\n",
            "Epoch 42/100\n",
            "146/146 [==============================] - 1s 5ms/step - loss: 0.1432 - accuracy: 0.5393 - val_loss: 0.1524 - val_accuracy: 0.4930\n",
            "\n",
            "Epoch 00042: val_loss did not improve from 0.15073\n",
            "Epoch 43/100\n",
            "146/146 [==============================] - 1s 5ms/step - loss: 0.1421 - accuracy: 0.5467 - val_loss: 0.1531 - val_accuracy: 0.5045\n",
            "\n",
            "Epoch 00043: val_loss did not improve from 0.15073\n",
            "Epoch 44/100\n",
            "146/146 [==============================] - 1s 5ms/step - loss: 0.1439 - accuracy: 0.5375 - val_loss: 0.1513 - val_accuracy: 0.5165\n",
            "\n",
            "Epoch 00044: val_loss did not improve from 0.15073\n",
            "Epoch 45/100\n",
            "146/146 [==============================] - 1s 5ms/step - loss: 0.1450 - accuracy: 0.5218 - val_loss: 0.1517 - val_accuracy: 0.5075\n",
            "\n",
            "Epoch 00045: val_loss did not improve from 0.15073\n",
            "Epoch 46/100\n",
            "146/146 [==============================] - 1s 5ms/step - loss: 0.1440 - accuracy: 0.5313 - val_loss: 0.1511 - val_accuracy: 0.5130\n",
            "\n",
            "Epoch 00046: val_loss did not improve from 0.15073\n",
            "Epoch 47/100\n",
            "146/146 [==============================] - 1s 5ms/step - loss: 0.1434 - accuracy: 0.5405 - val_loss: 0.1518 - val_accuracy: 0.4890\n",
            "\n",
            "Epoch 00047: val_loss did not improve from 0.15073\n",
            "Epoch 48/100\n",
            "146/146 [==============================] - 1s 5ms/step - loss: 0.1452 - accuracy: 0.5228 - val_loss: 0.1510 - val_accuracy: 0.4970\n",
            "\n",
            "Epoch 00048: val_loss did not improve from 0.15073\n",
            "Epoch 49/100\n",
            "146/146 [==============================] - 1s 5ms/step - loss: 0.1445 - accuracy: 0.5316 - val_loss: 0.1504 - val_accuracy: 0.5065\n",
            "\n",
            "Epoch 00049: val_loss improved from 0.15073 to 0.15037, saving model to nn.hdf5\n",
            "Epoch 50/100\n",
            "146/146 [==============================] - 1s 5ms/step - loss: 0.1467 - accuracy: 0.5206 - val_loss: 0.1507 - val_accuracy: 0.5040\n",
            "\n",
            "Epoch 00050: val_loss did not improve from 0.15037\n",
            "Epoch 51/100\n",
            "146/146 [==============================] - 1s 5ms/step - loss: 0.1450 - accuracy: 0.5348 - val_loss: 0.1527 - val_accuracy: 0.4880\n",
            "\n",
            "Epoch 00051: val_loss did not improve from 0.15037\n",
            "Epoch 52/100\n",
            "146/146 [==============================] - 1s 5ms/step - loss: 0.1452 - accuracy: 0.5347 - val_loss: 0.1510 - val_accuracy: 0.4895\n",
            "\n",
            "Epoch 00052: val_loss did not improve from 0.15037\n",
            "Epoch 53/100\n",
            "146/146 [==============================] - 1s 5ms/step - loss: 0.1453 - accuracy: 0.5341 - val_loss: 0.1508 - val_accuracy: 0.4920\n",
            "\n",
            "Epoch 00053: val_loss did not improve from 0.15037\n",
            "Epoch 54/100\n",
            "146/146 [==============================] - 1s 5ms/step - loss: 0.1441 - accuracy: 0.5300 - val_loss: 0.1522 - val_accuracy: 0.5020\n",
            "\n",
            "Epoch 00054: val_loss did not improve from 0.15037\n",
            "Epoch 55/100\n",
            "146/146 [==============================] - 1s 5ms/step - loss: 0.1466 - accuracy: 0.5157 - val_loss: 0.1517 - val_accuracy: 0.5100\n",
            "\n",
            "Epoch 00055: val_loss did not improve from 0.15037\n",
            "Epoch 56/100\n",
            "146/146 [==============================] - 1s 5ms/step - loss: 0.1432 - accuracy: 0.5450 - val_loss: 0.1505 - val_accuracy: 0.4995\n",
            "\n",
            "Epoch 00056: val_loss did not improve from 0.15037\n",
            "Epoch 57/100\n",
            "146/146 [==============================] - 1s 5ms/step - loss: 0.1455 - accuracy: 0.5221 - val_loss: 0.1519 - val_accuracy: 0.4855\n",
            "\n",
            "Epoch 00057: val_loss did not improve from 0.15037\n",
            "Epoch 58/100\n",
            "146/146 [==============================] - 1s 5ms/step - loss: 0.1438 - accuracy: 0.5318 - val_loss: 0.1524 - val_accuracy: 0.5090\n",
            "\n",
            "Epoch 00058: val_loss did not improve from 0.15037\n",
            "Epoch 59/100\n",
            "146/146 [==============================] - 1s 5ms/step - loss: 0.1434 - accuracy: 0.5387 - val_loss: 0.1515 - val_accuracy: 0.4995\n",
            "\n",
            "Epoch 00059: val_loss did not improve from 0.15037\n",
            "Epoch 60/100\n",
            "146/146 [==============================] - 1s 5ms/step - loss: 0.1440 - accuracy: 0.5290 - val_loss: 0.1514 - val_accuracy: 0.4890\n",
            "\n",
            "Epoch 00060: val_loss did not improve from 0.15037\n",
            "Epoch 61/100\n",
            "146/146 [==============================] - 1s 5ms/step - loss: 0.1419 - accuracy: 0.5496 - val_loss: 0.1547 - val_accuracy: 0.4950\n",
            "\n",
            "Epoch 00061: val_loss did not improve from 0.15037\n",
            "Epoch 62/100\n",
            "146/146 [==============================] - 1s 5ms/step - loss: 0.1420 - accuracy: 0.5501 - val_loss: 0.1502 - val_accuracy: 0.5220\n",
            "\n",
            "Epoch 00062: val_loss improved from 0.15037 to 0.15020, saving model to nn.hdf5\n",
            "Epoch 63/100\n",
            "146/146 [==============================] - 1s 5ms/step - loss: 0.1443 - accuracy: 0.5251 - val_loss: 0.1525 - val_accuracy: 0.4985\n",
            "\n",
            "Epoch 00063: val_loss did not improve from 0.15020\n",
            "Epoch 64/100\n",
            "146/146 [==============================] - 1s 5ms/step - loss: 0.1441 - accuracy: 0.5292 - val_loss: 0.1497 - val_accuracy: 0.5055\n",
            "\n",
            "Epoch 00064: val_loss improved from 0.15020 to 0.14969, saving model to nn.hdf5\n",
            "Epoch 65/100\n",
            "146/146 [==============================] - 1s 5ms/step - loss: 0.1418 - accuracy: 0.5444 - val_loss: 0.1530 - val_accuracy: 0.4915\n",
            "\n",
            "Epoch 00065: val_loss did not improve from 0.14969\n",
            "Epoch 66/100\n",
            "146/146 [==============================] - 1s 5ms/step - loss: 0.1433 - accuracy: 0.5296 - val_loss: 0.1509 - val_accuracy: 0.5040\n",
            "\n",
            "Epoch 00066: val_loss did not improve from 0.14969\n",
            "Epoch 67/100\n",
            "146/146 [==============================] - 1s 5ms/step - loss: 0.1422 - accuracy: 0.5507 - val_loss: 0.1509 - val_accuracy: 0.5150\n",
            "\n",
            "Epoch 00067: val_loss did not improve from 0.14969\n",
            "Epoch 68/100\n",
            "146/146 [==============================] - 1s 5ms/step - loss: 0.1428 - accuracy: 0.5422 - val_loss: 0.1505 - val_accuracy: 0.4980\n",
            "\n",
            "Epoch 00068: val_loss did not improve from 0.14969\n",
            "Epoch 69/100\n",
            "146/146 [==============================] - 1s 5ms/step - loss: 0.1445 - accuracy: 0.5293 - val_loss: 0.1511 - val_accuracy: 0.4960\n",
            "\n",
            "Epoch 00069: val_loss did not improve from 0.14969\n",
            "Epoch 70/100\n",
            "146/146 [==============================] - 1s 5ms/step - loss: 0.1414 - accuracy: 0.5343 - val_loss: 0.1510 - val_accuracy: 0.5100\n",
            "\n",
            "Epoch 00070: val_loss did not improve from 0.14969\n",
            "Epoch 71/100\n",
            "146/146 [==============================] - 1s 5ms/step - loss: 0.1424 - accuracy: 0.5356 - val_loss: 0.1502 - val_accuracy: 0.5185\n",
            "\n",
            "Epoch 00071: val_loss did not improve from 0.14969\n",
            "Epoch 72/100\n",
            "146/146 [==============================] - 1s 5ms/step - loss: 0.1409 - accuracy: 0.5556 - val_loss: 0.1505 - val_accuracy: 0.4955\n",
            "\n",
            "Epoch 00072: val_loss did not improve from 0.14969\n",
            "Epoch 73/100\n",
            "146/146 [==============================] - 1s 5ms/step - loss: 0.1442 - accuracy: 0.5350 - val_loss: 0.1525 - val_accuracy: 0.4845\n",
            "\n",
            "Epoch 00073: val_loss did not improve from 0.14969\n",
            "Epoch 74/100\n",
            "146/146 [==============================] - 1s 5ms/step - loss: 0.1415 - accuracy: 0.5443 - val_loss: 0.1498 - val_accuracy: 0.5030\n",
            "\n",
            "Epoch 00074: val_loss did not improve from 0.14969\n",
            "Epoch 75/100\n",
            "146/146 [==============================] - 1s 5ms/step - loss: 0.1408 - accuracy: 0.5479 - val_loss: 0.1513 - val_accuracy: 0.4920\n",
            "\n",
            "Epoch 00075: val_loss did not improve from 0.14969\n",
            "Epoch 76/100\n",
            "146/146 [==============================] - 1s 5ms/step - loss: 0.1427 - accuracy: 0.5309 - val_loss: 0.1528 - val_accuracy: 0.5050\n",
            "\n",
            "Epoch 00076: val_loss did not improve from 0.14969\n",
            "Epoch 77/100\n",
            "146/146 [==============================] - 1s 5ms/step - loss: 0.1418 - accuracy: 0.5391 - val_loss: 0.1532 - val_accuracy: 0.5040\n",
            "\n",
            "Epoch 00077: val_loss did not improve from 0.14969\n",
            "Epoch 78/100\n",
            "146/146 [==============================] - 1s 5ms/step - loss: 0.1412 - accuracy: 0.5416 - val_loss: 0.1553 - val_accuracy: 0.5060\n",
            "\n",
            "Epoch 00078: val_loss did not improve from 0.14969\n",
            "Epoch 79/100\n",
            "146/146 [==============================] - 1s 5ms/step - loss: 0.1433 - accuracy: 0.5405 - val_loss: 0.1505 - val_accuracy: 0.4955\n",
            "\n",
            "Epoch 00079: val_loss did not improve from 0.14969\n",
            "Epoch 80/100\n",
            "146/146 [==============================] - 1s 5ms/step - loss: 0.1419 - accuracy: 0.5428 - val_loss: 0.1509 - val_accuracy: 0.5000\n",
            "\n",
            "Epoch 00080: val_loss did not improve from 0.14969\n",
            "Epoch 81/100\n",
            "146/146 [==============================] - 1s 5ms/step - loss: 0.1445 - accuracy: 0.5288 - val_loss: 0.1499 - val_accuracy: 0.5010\n",
            "\n",
            "Epoch 00081: val_loss did not improve from 0.14969\n",
            "Epoch 82/100\n",
            "146/146 [==============================] - 1s 5ms/step - loss: 0.1429 - accuracy: 0.5431 - val_loss: 0.1519 - val_accuracy: 0.5170\n",
            "\n",
            "Epoch 00082: val_loss did not improve from 0.14969\n",
            "Epoch 83/100\n",
            "146/146 [==============================] - 1s 5ms/step - loss: 0.1406 - accuracy: 0.5467 - val_loss: 0.1525 - val_accuracy: 0.5110\n",
            "\n",
            "Epoch 00083: val_loss did not improve from 0.14969\n",
            "Epoch 84/100\n",
            "146/146 [==============================] - 1s 5ms/step - loss: 0.1425 - accuracy: 0.5362 - val_loss: 0.1490 - val_accuracy: 0.5200\n",
            "\n",
            "Epoch 00084: val_loss improved from 0.14969 to 0.14904, saving model to nn.hdf5\n",
            "Epoch 85/100\n",
            "146/146 [==============================] - 1s 5ms/step - loss: 0.1418 - accuracy: 0.5484 - val_loss: 0.1521 - val_accuracy: 0.4950\n",
            "\n",
            "Epoch 00085: val_loss did not improve from 0.14904\n",
            "Epoch 86/100\n",
            "146/146 [==============================] - 1s 5ms/step - loss: 0.1415 - accuracy: 0.5484 - val_loss: 0.1501 - val_accuracy: 0.4990\n",
            "\n",
            "Epoch 00086: val_loss did not improve from 0.14904\n",
            "Epoch 87/100\n",
            "146/146 [==============================] - 1s 5ms/step - loss: 0.1430 - accuracy: 0.5353 - val_loss: 0.1498 - val_accuracy: 0.5240\n",
            "\n",
            "Epoch 00087: val_loss did not improve from 0.14904\n",
            "Epoch 88/100\n",
            "146/146 [==============================] - 1s 5ms/step - loss: 0.1420 - accuracy: 0.5348 - val_loss: 0.1526 - val_accuracy: 0.4960\n",
            "\n",
            "Epoch 00088: val_loss did not improve from 0.14904\n",
            "Epoch 89/100\n",
            "146/146 [==============================] - 1s 5ms/step - loss: 0.1403 - accuracy: 0.5436 - val_loss: 0.1516 - val_accuracy: 0.4950\n",
            "\n",
            "Epoch 00089: val_loss did not improve from 0.14904\n",
            "Epoch 90/100\n",
            "146/146 [==============================] - 1s 5ms/step - loss: 0.1420 - accuracy: 0.5418 - val_loss: 0.1526 - val_accuracy: 0.5020\n",
            "\n",
            "Epoch 00090: val_loss did not improve from 0.14904\n",
            "Epoch 91/100\n",
            "146/146 [==============================] - 1s 5ms/step - loss: 0.1383 - accuracy: 0.5578 - val_loss: 0.1508 - val_accuracy: 0.5055\n",
            "\n",
            "Epoch 00091: val_loss did not improve from 0.14904\n",
            "Epoch 92/100\n",
            "146/146 [==============================] - 1s 5ms/step - loss: 0.1394 - accuracy: 0.5488 - val_loss: 0.1506 - val_accuracy: 0.5005\n",
            "\n",
            "Epoch 00092: val_loss did not improve from 0.14904\n",
            "Epoch 93/100\n",
            "146/146 [==============================] - 1s 5ms/step - loss: 0.1400 - accuracy: 0.5558 - val_loss: 0.1501 - val_accuracy: 0.5010\n",
            "\n",
            "Epoch 00093: val_loss did not improve from 0.14904\n",
            "Epoch 94/100\n",
            "146/146 [==============================] - 1s 5ms/step - loss: 0.1400 - accuracy: 0.5428 - val_loss: 0.1502 - val_accuracy: 0.5090\n",
            "\n",
            "Epoch 00094: val_loss did not improve from 0.14904\n",
            "Epoch 95/100\n",
            "146/146 [==============================] - 1s 5ms/step - loss: 0.1399 - accuracy: 0.5604 - val_loss: 0.1504 - val_accuracy: 0.5070\n",
            "\n",
            "Epoch 00095: val_loss did not improve from 0.14904\n",
            "Epoch 96/100\n",
            "146/146 [==============================] - 1s 5ms/step - loss: 0.1391 - accuracy: 0.5539 - val_loss: 0.1514 - val_accuracy: 0.5030\n",
            "\n",
            "Epoch 00096: val_loss did not improve from 0.14904\n",
            "Epoch 97/100\n",
            "146/146 [==============================] - 1s 5ms/step - loss: 0.1388 - accuracy: 0.5544 - val_loss: 0.1515 - val_accuracy: 0.5070\n",
            "\n",
            "Epoch 00097: val_loss did not improve from 0.14904\n",
            "Epoch 98/100\n",
            "146/146 [==============================] - 1s 5ms/step - loss: 0.1380 - accuracy: 0.5571 - val_loss: 0.1509 - val_accuracy: 0.5035\n",
            "\n",
            "Epoch 00098: val_loss did not improve from 0.14904\n",
            "Epoch 99/100\n",
            "146/146 [==============================] - 1s 5ms/step - loss: 0.1384 - accuracy: 0.5534 - val_loss: 0.1519 - val_accuracy: 0.5045\n",
            "\n",
            "Epoch 00099: val_loss did not improve from 0.14904\n",
            "Epoch 100/100\n",
            "146/146 [==============================] - 1s 5ms/step - loss: 0.1400 - accuracy: 0.5419 - val_loss: 0.1514 - val_accuracy: 0.5040\n",
            "\n",
            "Epoch 00100: val_loss did not improve from 0.14904\n"
          ],
          "name": "stdout"
        }
      ]
    },
    {
      "cell_type": "code",
      "metadata": {
        "colab": {
          "base_uri": "https://localhost:8080/",
          "height": 282
        },
        "id": "b3tV9DtXFROj",
        "outputId": "d2b1d673-c28d-466a-96e8-cd89a342216c"
      },
      "source": [
        "plt.plot(hist.history['val_loss'],label = 'validation loss-error rate')\n",
        "plt.plot(hist.history['loss'],label = 'training loss - error rate')\n",
        "#plt.plot(hist.history['accuracy'])\n",
        "plt.legend()"
      ],
      "execution_count": 344,
      "outputs": [
        {
          "output_type": "execute_result",
          "data": {
            "text/plain": [
              "<matplotlib.legend.Legend at 0x7f180f30f0d0>"
            ]
          },
          "metadata": {
            "tags": []
          },
          "execution_count": 344
        },
        {
          "output_type": "display_data",
          "data": {
            "image/png": "[encoded data removed]",
            "text/plain": [
              "<Figure size 432x288 with 1 Axes>"
            ]
          },
          "metadata": {
            "tags": [],
            "needs_background": "light"
          }
        }
      ]
    },
    {
      "cell_type": "code",
      "metadata": {
        "colab": {
          "base_uri": "https://localhost:8080/"
        },
        "id": "Eo2kpLzTEdH7",
        "outputId": "f0c58eef-a24c-4bba-e393-cef84ac910e1"
      },
      "source": [
        "nn_pred = nn.predict_classes(xtest[input])\n",
        "accuracy_score(ytest,nn_pred)"
      ],
      "execution_count": 336,
      "outputs": [
        {
          "output_type": "execute_result",
          "data": {
            "text/plain": [
              "0.504"
            ]
          },
          "metadata": {
            "tags": []
          },
          "execution_count": 336
        }
      ]
    },
    {
      "cell_type": "code",
      "metadata": {
        "colab": {
          "base_uri": "https://localhost:8080/"
        },
        "id": "SXIaNUksKSVa",
        "outputId": "0f7e941c-82bd-4dc9-8b88-e72cd0038be1"
      },
      "source": [
        "nn_pred"
      ],
      "execution_count": 337,
      "outputs": [
        {
          "output_type": "execute_result",
          "data": {
            "text/plain": [
              "array([2, 3, 2, ..., 0, 3, 2])"
            ]
          },
          "metadata": {
            "tags": []
          },
          "execution_count": 337
        }
      ]
    },
    {
      "cell_type": "code",
      "metadata": {
        "colab": {
          "base_uri": "https://localhost:8080/"
        },
        "id": "IfWpnP80E0sp",
        "outputId": "ec85ab75-3401-46a0-cee0-10f6f6e26575"
      },
      "source": [
        "print(classification_report(ytest,nn_pred))"
      ],
      "execution_count": 338,
      "outputs": [
        {
          "output_type": "stream",
          "text": [
            "              precision    recall  f1-score   support\n",
            "\n",
            "           0       0.45      0.36      0.40       496\n",
            "           1       0.39      0.23      0.29       501\n",
            "           2       0.50      0.67      0.58       521\n",
            "           3       0.59      0.76      0.66       482\n",
            "\n",
            "    accuracy                           0.50      2000\n",
            "   macro avg       0.48      0.50      0.48      2000\n",
            "weighted avg       0.48      0.50      0.48      2000\n",
            "\n"
          ],
          "name": "stdout"
        }
      ]
    },
    {
      "cell_type": "code",
      "metadata": {
        "colab": {
          "base_uri": "https://localhost:8080/"
        },
        "id": "7BA87oncE4A6",
        "outputId": "8d76d695-0620-4969-8af0-d8ef0c306e53"
      },
      "source": [
        "confusion_matrix(ytest,nn_pred)"
      ],
      "execution_count": 339,
      "outputs": [
        {
          "output_type": "execute_result",
          "data": {
            "text/plain": [
              "array([[178, 104,  90, 124],\n",
              "       [ 91, 115, 237,  58],\n",
              "       [ 47,  53, 351,  70],\n",
              "       [ 79,  21,  18, 364]])"
            ]
          },
          "metadata": {
            "tags": []
          },
          "execution_count": 339
        }
      ]
    },
    {
      "cell_type": "markdown",
      "metadata": {
        "id": "idZoXEk_3JoM"
      },
      "source": [
        "Hyperparameter Tuning optimizer - Neural Network - SDG"
      ]
    },
    {
      "cell_type": "code",
      "metadata": {
        "colab": {
          "base_uri": "https://localhost:8080/"
        },
        "id": "kToby_DG1duJ",
        "outputId": "a6e01637-84a4-40a9-d55b-8bb09af5f0f6"
      },
      "source": [
        "nn = NN(X = xtrain[input],Y = nn_ytrain,optimizer = 'SGD',loss = 'mean_squared_error')"
      ],
      "execution_count": 345,
      "outputs": [
        {
          "output_type": "stream",
          "text": [
            "Neural Netowrk info:\n",
            "input dim:  6 \n",
            "output dim:  4 \n",
            "optimizer: SGD \n",
            "loss:  mean_squared_error\n"
          ],
          "name": "stdout"
        }
      ]
    },
    {
      "cell_type": "code",
      "metadata": {
        "colab": {
          "base_uri": "https://localhost:8080/"
        },
        "id": "v1Dcoyj6E6Up",
        "outputId": "bb920674-38d2-486a-ee15-55ae25aa9643"
      },
      "source": [
        "hist = nn.fit(np.array(xtrain[input]),nn_ytrain,epochs = 100,validation_data= (np.array(xtest[input]),nn_ytest),callbacks = [ModelCheckpoint(monitor='val_loss',mode = 'min',save_best_only=True,filepath= 'nn.hdf5',verbose = 1)])"
      ],
      "execution_count": 346,
      "outputs": [
        {
          "output_type": "stream",
          "text": [
            "Epoch 1/100\n",
            "146/146 [==============================] - 1s 5ms/step - loss: 0.1885 - accuracy: 0.2826 - val_loss: 0.1879 - val_accuracy: 0.2410\n",
            "\n",
            "Epoch 00001: val_loss improved from inf to 0.18795, saving model to nn.hdf5\n",
            "Epoch 2/100\n",
            "146/146 [==============================] - 1s 4ms/step - loss: 0.1873 - accuracy: 0.2774 - val_loss: 0.1874 - val_accuracy: 0.2410\n",
            "\n",
            "Epoch 00002: val_loss improved from 0.18795 to 0.18745, saving model to nn.hdf5\n",
            "Epoch 3/100\n",
            "146/146 [==============================] - 1s 4ms/step - loss: 0.1868 - accuracy: 0.2741 - val_loss: 0.1869 - val_accuracy: 0.3055\n",
            "\n",
            "Epoch 00003: val_loss improved from 0.18745 to 0.18694, saving model to nn.hdf5\n",
            "Epoch 4/100\n",
            "146/146 [==============================] - 1s 4ms/step - loss: 0.1865 - accuracy: 0.3240 - val_loss: 0.1864 - val_accuracy: 0.3680\n",
            "\n",
            "Epoch 00004: val_loss improved from 0.18694 to 0.18645, saving model to nn.hdf5\n",
            "Epoch 5/100\n",
            "146/146 [==============================] - 1s 4ms/step - loss: 0.1859 - accuracy: 0.3946 - val_loss: 0.1861 - val_accuracy: 0.3610\n",
            "\n",
            "Epoch 00005: val_loss improved from 0.18645 to 0.18610, saving model to nn.hdf5\n",
            "Epoch 6/100\n",
            "146/146 [==============================] - 1s 4ms/step - loss: 0.1857 - accuracy: 0.3875 - val_loss: 0.1857 - val_accuracy: 0.3740\n",
            "\n",
            "Epoch 00006: val_loss improved from 0.18610 to 0.18574, saving model to nn.hdf5\n",
            "Epoch 7/100\n",
            "146/146 [==============================] - 1s 4ms/step - loss: 0.1852 - accuracy: 0.3937 - val_loss: 0.1855 - val_accuracy: 0.3540\n",
            "\n",
            "Epoch 00007: val_loss improved from 0.18574 to 0.18549, saving model to nn.hdf5\n",
            "Epoch 8/100\n",
            "146/146 [==============================] - 1s 4ms/step - loss: 0.1848 - accuracy: 0.3763 - val_loss: 0.1851 - val_accuracy: 0.3610\n",
            "\n",
            "Epoch 00008: val_loss improved from 0.18549 to 0.18508, saving model to nn.hdf5\n",
            "Epoch 9/100\n",
            "146/146 [==============================] - 1s 4ms/step - loss: 0.1844 - accuracy: 0.3773 - val_loss: 0.1848 - val_accuracy: 0.3565\n",
            "\n",
            "Epoch 00009: val_loss improved from 0.18508 to 0.18476, saving model to nn.hdf5\n",
            "Epoch 10/100\n",
            "146/146 [==============================] - 1s 4ms/step - loss: 0.1840 - accuracy: 0.3740 - val_loss: 0.1843 - val_accuracy: 0.3505\n",
            "\n",
            "Epoch 00010: val_loss improved from 0.18476 to 0.18434, saving model to nn.hdf5\n",
            "Epoch 11/100\n",
            "146/146 [==============================] - 1s 4ms/step - loss: 0.1838 - accuracy: 0.3652 - val_loss: 0.1841 - val_accuracy: 0.3520\n",
            "\n",
            "Epoch 00011: val_loss improved from 0.18434 to 0.18411, saving model to nn.hdf5\n",
            "Epoch 12/100\n",
            "146/146 [==============================] - 1s 4ms/step - loss: 0.1829 - accuracy: 0.3754 - val_loss: 0.1836 - val_accuracy: 0.3405\n",
            "\n",
            "Epoch 00012: val_loss improved from 0.18411 to 0.18362, saving model to nn.hdf5\n",
            "Epoch 13/100\n",
            "146/146 [==============================] - 1s 4ms/step - loss: 0.1828 - accuracy: 0.3642 - val_loss: 0.1831 - val_accuracy: 0.3400\n",
            "\n",
            "Epoch 00013: val_loss improved from 0.18362 to 0.18313, saving model to nn.hdf5\n",
            "Epoch 14/100\n",
            "146/146 [==============================] - 1s 4ms/step - loss: 0.1818 - accuracy: 0.3799 - val_loss: 0.1828 - val_accuracy: 0.3430\n",
            "\n",
            "Epoch 00014: val_loss improved from 0.18313 to 0.18279, saving model to nn.hdf5\n",
            "Epoch 15/100\n",
            "146/146 [==============================] - 1s 4ms/step - loss: 0.1815 - accuracy: 0.3654 - val_loss: 0.1821 - val_accuracy: 0.3515\n",
            "\n",
            "Epoch 00015: val_loss improved from 0.18279 to 0.18209, saving model to nn.hdf5\n",
            "Epoch 16/100\n",
            "146/146 [==============================] - 1s 4ms/step - loss: 0.1805 - accuracy: 0.3824 - val_loss: 0.1816 - val_accuracy: 0.3485\n",
            "\n",
            "Epoch 00016: val_loss improved from 0.18209 to 0.18161, saving model to nn.hdf5\n",
            "Epoch 17/100\n",
            "146/146 [==============================] - 1s 4ms/step - loss: 0.1796 - accuracy: 0.3806 - val_loss: 0.1808 - val_accuracy: 0.3555\n",
            "\n",
            "Epoch 00017: val_loss improved from 0.18161 to 0.18080, saving model to nn.hdf5\n",
            "Epoch 18/100\n",
            "146/146 [==============================] - 1s 3ms/step - loss: 0.1796 - accuracy: 0.3849 - val_loss: 0.1801 - val_accuracy: 0.3640\n",
            "\n",
            "Epoch 00018: val_loss improved from 0.18080 to 0.18011, saving model to nn.hdf5\n",
            "Epoch 19/100\n",
            "146/146 [==============================] - 1s 4ms/step - loss: 0.1780 - accuracy: 0.3909 - val_loss: 0.1794 - val_accuracy: 0.3685\n",
            "\n",
            "Epoch 00019: val_loss improved from 0.18011 to 0.17936, saving model to nn.hdf5\n",
            "Epoch 20/100\n",
            "146/146 [==============================] - 1s 4ms/step - loss: 0.1776 - accuracy: 0.3855 - val_loss: 0.1789 - val_accuracy: 0.3610\n",
            "\n",
            "Epoch 00020: val_loss improved from 0.17936 to 0.17886, saving model to nn.hdf5\n",
            "Epoch 21/100\n",
            "146/146 [==============================] - 1s 4ms/step - loss: 0.1765 - accuracy: 0.3915 - val_loss: 0.1777 - val_accuracy: 0.3820\n",
            "\n",
            "Epoch 00021: val_loss improved from 0.17886 to 0.17771, saving model to nn.hdf5\n",
            "Epoch 22/100\n",
            "146/146 [==============================] - 1s 4ms/step - loss: 0.1752 - accuracy: 0.3882 - val_loss: 0.1769 - val_accuracy: 0.3895\n",
            "\n",
            "Epoch 00022: val_loss improved from 0.17771 to 0.17686, saving model to nn.hdf5\n",
            "Epoch 23/100\n",
            "146/146 [==============================] - 1s 4ms/step - loss: 0.1750 - accuracy: 0.3967 - val_loss: 0.1761 - val_accuracy: 0.3900\n",
            "\n",
            "Epoch 00023: val_loss improved from 0.17686 to 0.17607, saving model to nn.hdf5\n",
            "Epoch 24/100\n",
            "146/146 [==============================] - 1s 4ms/step - loss: 0.1740 - accuracy: 0.4229 - val_loss: 0.1751 - val_accuracy: 0.3965\n",
            "\n",
            "Epoch 00024: val_loss improved from 0.17607 to 0.17514, saving model to nn.hdf5\n",
            "Epoch 25/100\n",
            "146/146 [==============================] - 1s 4ms/step - loss: 0.1726 - accuracy: 0.4302 - val_loss: 0.1743 - val_accuracy: 0.4075\n",
            "\n",
            "Epoch 00025: val_loss improved from 0.17514 to 0.17435, saving model to nn.hdf5\n",
            "Epoch 26/100\n",
            "146/146 [==============================] - 1s 4ms/step - loss: 0.1724 - accuracy: 0.4187 - val_loss: 0.1744 - val_accuracy: 0.3990\n",
            "\n",
            "Epoch 00026: val_loss did not improve from 0.17435\n",
            "Epoch 27/100\n",
            "146/146 [==============================] - 1s 4ms/step - loss: 0.1692 - accuracy: 0.4396 - val_loss: 0.1727 - val_accuracy: 0.4080\n",
            "\n",
            "Epoch 00027: val_loss improved from 0.17435 to 0.17265, saving model to nn.hdf5\n",
            "Epoch 28/100\n",
            "146/146 [==============================] - 1s 4ms/step - loss: 0.1716 - accuracy: 0.4259 - val_loss: 0.1720 - val_accuracy: 0.4145\n",
            "\n",
            "Epoch 00028: val_loss improved from 0.17265 to 0.17195, saving model to nn.hdf5\n",
            "Epoch 29/100\n",
            "146/146 [==============================] - 1s 4ms/step - loss: 0.1692 - accuracy: 0.4300 - val_loss: 0.1718 - val_accuracy: 0.4125\n",
            "\n",
            "Epoch 00029: val_loss improved from 0.17195 to 0.17178, saving model to nn.hdf5\n",
            "Epoch 30/100\n",
            "146/146 [==============================] - 1s 4ms/step - loss: 0.1680 - accuracy: 0.4319 - val_loss: 0.1709 - val_accuracy: 0.4175\n",
            "\n",
            "Epoch 00030: val_loss improved from 0.17178 to 0.17092, saving model to nn.hdf5\n",
            "Epoch 31/100\n",
            "146/146 [==============================] - 1s 4ms/step - loss: 0.1680 - accuracy: 0.4356 - val_loss: 0.1712 - val_accuracy: 0.4150\n",
            "\n",
            "Epoch 00031: val_loss did not improve from 0.17092\n",
            "Epoch 32/100\n",
            "146/146 [==============================] - 1s 4ms/step - loss: 0.1662 - accuracy: 0.4437 - val_loss: 0.1698 - val_accuracy: 0.4265\n",
            "\n",
            "Epoch 00032: val_loss improved from 0.17092 to 0.16982, saving model to nn.hdf5\n",
            "Epoch 33/100\n",
            "146/146 [==============================] - 1s 4ms/step - loss: 0.1681 - accuracy: 0.4282 - val_loss: 0.1685 - val_accuracy: 0.4255\n",
            "\n",
            "Epoch 00033: val_loss improved from 0.16982 to 0.16855, saving model to nn.hdf5\n",
            "Epoch 34/100\n",
            "146/146 [==============================] - 1s 4ms/step - loss: 0.1665 - accuracy: 0.4418 - val_loss: 0.1686 - val_accuracy: 0.4175\n",
            "\n",
            "Epoch 00034: val_loss did not improve from 0.16855\n",
            "Epoch 35/100\n",
            "146/146 [==============================] - 1s 4ms/step - loss: 0.1662 - accuracy: 0.4329 - val_loss: 0.1680 - val_accuracy: 0.4110\n",
            "\n",
            "Epoch 00035: val_loss improved from 0.16855 to 0.16796, saving model to nn.hdf5\n",
            "Epoch 36/100\n",
            "146/146 [==============================] - 1s 4ms/step - loss: 0.1643 - accuracy: 0.4403 - val_loss: 0.1681 - val_accuracy: 0.4145\n",
            "\n",
            "Epoch 00036: val_loss did not improve from 0.16796\n",
            "Epoch 37/100\n",
            "146/146 [==============================] - 1s 4ms/step - loss: 0.1634 - accuracy: 0.4359 - val_loss: 0.1682 - val_accuracy: 0.4155\n",
            "\n",
            "Epoch 00037: val_loss did not improve from 0.16796\n",
            "Epoch 38/100\n",
            "146/146 [==============================] - 1s 4ms/step - loss: 0.1640 - accuracy: 0.4357 - val_loss: 0.1666 - val_accuracy: 0.4170\n",
            "\n",
            "Epoch 00038: val_loss improved from 0.16796 to 0.16657, saving model to nn.hdf5\n",
            "Epoch 39/100\n",
            "146/146 [==============================] - 1s 4ms/step - loss: 0.1645 - accuracy: 0.4378 - val_loss: 0.1680 - val_accuracy: 0.4190\n",
            "\n",
            "Epoch 00039: val_loss did not improve from 0.16657\n",
            "Epoch 40/100\n",
            "146/146 [==============================] - 1s 4ms/step - loss: 0.1654 - accuracy: 0.4409 - val_loss: 0.1663 - val_accuracy: 0.4250\n",
            "\n",
            "Epoch 00040: val_loss improved from 0.16657 to 0.16635, saving model to nn.hdf5\n",
            "Epoch 41/100\n",
            "146/146 [==============================] - 1s 4ms/step - loss: 0.1639 - accuracy: 0.4424 - val_loss: 0.1656 - val_accuracy: 0.4275\n",
            "\n",
            "Epoch 00041: val_loss improved from 0.16635 to 0.16556, saving model to nn.hdf5\n",
            "Epoch 42/100\n",
            "146/146 [==============================] - 1s 4ms/step - loss: 0.1629 - accuracy: 0.4475 - val_loss: 0.1646 - val_accuracy: 0.4285\n",
            "\n",
            "Epoch 00042: val_loss improved from 0.16556 to 0.16460, saving model to nn.hdf5\n",
            "Epoch 43/100\n",
            "146/146 [==============================] - 1s 4ms/step - loss: 0.1633 - accuracy: 0.4468 - val_loss: 0.1648 - val_accuracy: 0.4315\n",
            "\n",
            "Epoch 00043: val_loss did not improve from 0.16460\n",
            "Epoch 44/100\n",
            "146/146 [==============================] - 1s 4ms/step - loss: 0.1609 - accuracy: 0.4546 - val_loss: 0.1643 - val_accuracy: 0.4355\n",
            "\n",
            "Epoch 00044: val_loss improved from 0.16460 to 0.16427, saving model to nn.hdf5\n",
            "Epoch 45/100\n",
            "146/146 [==============================] - 1s 4ms/step - loss: 0.1625 - accuracy: 0.4539 - val_loss: 0.1635 - val_accuracy: 0.4365\n",
            "\n",
            "Epoch 00045: val_loss improved from 0.16427 to 0.16352, saving model to nn.hdf5\n",
            "Epoch 46/100\n",
            "146/146 [==============================] - 1s 4ms/step - loss: 0.1613 - accuracy: 0.4445 - val_loss: 0.1648 - val_accuracy: 0.4300\n",
            "\n",
            "Epoch 00046: val_loss did not improve from 0.16352\n",
            "Epoch 47/100\n",
            "146/146 [==============================] - 1s 4ms/step - loss: 0.1617 - accuracy: 0.4592 - val_loss: 0.1638 - val_accuracy: 0.4525\n",
            "\n",
            "Epoch 00047: val_loss did not improve from 0.16352\n",
            "Epoch 48/100\n",
            "146/146 [==============================] - 1s 4ms/step - loss: 0.1623 - accuracy: 0.4523 - val_loss: 0.1624 - val_accuracy: 0.4460\n",
            "\n",
            "Epoch 00048: val_loss improved from 0.16352 to 0.16237, saving model to nn.hdf5\n",
            "Epoch 49/100\n",
            "146/146 [==============================] - 1s 4ms/step - loss: 0.1605 - accuracy: 0.4693 - val_loss: 0.1632 - val_accuracy: 0.4475\n",
            "\n",
            "Epoch 00049: val_loss did not improve from 0.16237\n",
            "Epoch 50/100\n",
            "146/146 [==============================] - 1s 4ms/step - loss: 0.1603 - accuracy: 0.4503 - val_loss: 0.1718 - val_accuracy: 0.4380\n",
            "\n",
            "Epoch 00050: val_loss did not improve from 0.16237\n",
            "Epoch 51/100\n",
            "146/146 [==============================] - 1s 4ms/step - loss: 0.1618 - accuracy: 0.4573 - val_loss: 0.1632 - val_accuracy: 0.4425\n",
            "\n",
            "Epoch 00051: val_loss did not improve from 0.16237\n",
            "Epoch 52/100\n",
            "146/146 [==============================] - 1s 4ms/step - loss: 0.1613 - accuracy: 0.4547 - val_loss: 0.1642 - val_accuracy: 0.4770\n",
            "\n",
            "Epoch 00052: val_loss did not improve from 0.16237\n",
            "Epoch 53/100\n",
            "146/146 [==============================] - 1s 4ms/step - loss: 0.1598 - accuracy: 0.4726 - val_loss: 0.1627 - val_accuracy: 0.4490\n",
            "\n",
            "Epoch 00053: val_loss did not improve from 0.16237\n",
            "Epoch 54/100\n",
            "146/146 [==============================] - 1s 4ms/step - loss: 0.1602 - accuracy: 0.4785 - val_loss: 0.1610 - val_accuracy: 0.4600\n",
            "\n",
            "Epoch 00054: val_loss improved from 0.16237 to 0.16099, saving model to nn.hdf5\n",
            "Epoch 55/100\n",
            "146/146 [==============================] - 1s 4ms/step - loss: 0.1601 - accuracy: 0.4778 - val_loss: 0.1624 - val_accuracy: 0.4575\n",
            "\n",
            "Epoch 00055: val_loss did not improve from 0.16099\n",
            "Epoch 56/100\n",
            "146/146 [==============================] - 1s 4ms/step - loss: 0.1602 - accuracy: 0.4740 - val_loss: 0.1666 - val_accuracy: 0.4665\n",
            "\n",
            "Epoch 00056: val_loss did not improve from 0.16099\n",
            "Epoch 57/100\n",
            "146/146 [==============================] - 1s 4ms/step - loss: 0.1609 - accuracy: 0.4827 - val_loss: 0.1644 - val_accuracy: 0.4365\n",
            "\n",
            "Epoch 00057: val_loss did not improve from 0.16099\n",
            "Epoch 58/100\n",
            "146/146 [==============================] - 1s 4ms/step - loss: 0.1605 - accuracy: 0.4729 - val_loss: 0.1666 - val_accuracy: 0.4185\n",
            "\n",
            "Epoch 00058: val_loss did not improve from 0.16099\n",
            "Epoch 59/100\n",
            "146/146 [==============================] - 1s 4ms/step - loss: 0.1587 - accuracy: 0.4702 - val_loss: 0.1613 - val_accuracy: 0.4555\n",
            "\n",
            "Epoch 00059: val_loss did not improve from 0.16099\n",
            "Epoch 60/100\n",
            "146/146 [==============================] - 1s 4ms/step - loss: 0.1565 - accuracy: 0.4980 - val_loss: 0.1600 - val_accuracy: 0.4730\n",
            "\n",
            "Epoch 00060: val_loss improved from 0.16099 to 0.16003, saving model to nn.hdf5\n",
            "Epoch 61/100\n",
            "146/146 [==============================] - 1s 4ms/step - loss: 0.1588 - accuracy: 0.4764 - val_loss: 0.1604 - val_accuracy: 0.4735\n",
            "\n",
            "Epoch 00061: val_loss did not improve from 0.16003\n",
            "Epoch 62/100\n",
            "146/146 [==============================] - 1s 4ms/step - loss: 0.1579 - accuracy: 0.4844 - val_loss: 0.1679 - val_accuracy: 0.4580\n",
            "\n",
            "Epoch 00062: val_loss did not improve from 0.16003\n",
            "Epoch 63/100\n",
            "146/146 [==============================] - 1s 4ms/step - loss: 0.1581 - accuracy: 0.4896 - val_loss: 0.1622 - val_accuracy: 0.4585\n",
            "\n",
            "Epoch 00063: val_loss did not improve from 0.16003\n",
            "Epoch 64/100\n",
            "146/146 [==============================] - 1s 4ms/step - loss: 0.1596 - accuracy: 0.4811 - val_loss: 0.1600 - val_accuracy: 0.4690\n",
            "\n",
            "Epoch 00064: val_loss improved from 0.16003 to 0.15997, saving model to nn.hdf5\n",
            "Epoch 65/100\n",
            "146/146 [==============================] - 1s 4ms/step - loss: 0.1580 - accuracy: 0.4888 - val_loss: 0.1616 - val_accuracy: 0.4560\n",
            "\n",
            "Epoch 00065: val_loss did not improve from 0.15997\n",
            "Epoch 66/100\n",
            "146/146 [==============================] - 1s 4ms/step - loss: 0.1607 - accuracy: 0.4743 - val_loss: 0.1606 - val_accuracy: 0.4890\n",
            "\n",
            "Epoch 00066: val_loss did not improve from 0.15997\n",
            "Epoch 67/100\n",
            "146/146 [==============================] - 1s 4ms/step - loss: 0.1582 - accuracy: 0.4804 - val_loss: 0.1584 - val_accuracy: 0.4900\n",
            "\n",
            "Epoch 00067: val_loss improved from 0.15997 to 0.15843, saving model to nn.hdf5\n",
            "Epoch 68/100\n",
            "146/146 [==============================] - 1s 4ms/step - loss: 0.1600 - accuracy: 0.4864 - val_loss: 0.1698 - val_accuracy: 0.4315\n",
            "\n",
            "Epoch 00068: val_loss did not improve from 0.15843\n",
            "Epoch 69/100\n",
            "146/146 [==============================] - 1s 4ms/step - loss: 0.1597 - accuracy: 0.4829 - val_loss: 0.1585 - val_accuracy: 0.4890\n",
            "\n",
            "Epoch 00069: val_loss did not improve from 0.15843\n",
            "Epoch 70/100\n",
            "146/146 [==============================] - 1s 4ms/step - loss: 0.1567 - accuracy: 0.4943 - val_loss: 0.1735 - val_accuracy: 0.4250\n",
            "\n",
            "Epoch 00070: val_loss did not improve from 0.15843\n",
            "Epoch 71/100\n",
            "146/146 [==============================] - 1s 4ms/step - loss: 0.1576 - accuracy: 0.4777 - val_loss: 0.1587 - val_accuracy: 0.4730\n",
            "\n",
            "Epoch 00071: val_loss did not improve from 0.15843\n",
            "Epoch 72/100\n",
            "146/146 [==============================] - 1s 4ms/step - loss: 0.1575 - accuracy: 0.4929 - val_loss: 0.1574 - val_accuracy: 0.5000\n",
            "\n",
            "Epoch 00072: val_loss improved from 0.15843 to 0.15737, saving model to nn.hdf5\n",
            "Epoch 73/100\n",
            "146/146 [==============================] - 1s 4ms/step - loss: 0.1561 - accuracy: 0.4868 - val_loss: 0.1582 - val_accuracy: 0.4940\n",
            "\n",
            "Epoch 00073: val_loss did not improve from 0.15737\n",
            "Epoch 74/100\n",
            "146/146 [==============================] - 1s 4ms/step - loss: 0.1558 - accuracy: 0.4952 - val_loss: 0.1583 - val_accuracy: 0.4815\n",
            "\n",
            "Epoch 00074: val_loss did not improve from 0.15737\n",
            "Epoch 75/100\n",
            "146/146 [==============================] - 1s 4ms/step - loss: 0.1573 - accuracy: 0.4861 - val_loss: 0.1591 - val_accuracy: 0.4765\n",
            "\n",
            "Epoch 00075: val_loss did not improve from 0.15737\n",
            "Epoch 76/100\n",
            "146/146 [==============================] - 1s 4ms/step - loss: 0.1567 - accuracy: 0.5007 - val_loss: 0.1760 - val_accuracy: 0.4235\n",
            "\n",
            "Epoch 00076: val_loss did not improve from 0.15737\n",
            "Epoch 77/100\n",
            "146/146 [==============================] - 1s 4ms/step - loss: 0.1562 - accuracy: 0.4975 - val_loss: 0.1574 - val_accuracy: 0.4950\n",
            "\n",
            "Epoch 00077: val_loss improved from 0.15737 to 0.15735, saving model to nn.hdf5\n",
            "Epoch 78/100\n",
            "146/146 [==============================] - 1s 4ms/step - loss: 0.1571 - accuracy: 0.4970 - val_loss: 0.1595 - val_accuracy: 0.4705\n",
            "\n",
            "Epoch 00078: val_loss did not improve from 0.15735\n",
            "Epoch 79/100\n",
            "146/146 [==============================] - 1s 4ms/step - loss: 0.1583 - accuracy: 0.4946 - val_loss: 0.1572 - val_accuracy: 0.5020\n",
            "\n",
            "Epoch 00079: val_loss improved from 0.15735 to 0.15720, saving model to nn.hdf5\n",
            "Epoch 80/100\n",
            "146/146 [==============================] - 1s 4ms/step - loss: 0.1564 - accuracy: 0.4952 - val_loss: 0.1582 - val_accuracy: 0.4930\n",
            "\n",
            "Epoch 00080: val_loss did not improve from 0.15720\n",
            "Epoch 81/100\n",
            "146/146 [==============================] - 1s 4ms/step - loss: 0.1562 - accuracy: 0.4952 - val_loss: 0.1687 - val_accuracy: 0.4320\n",
            "\n",
            "Epoch 00081: val_loss did not improve from 0.15720\n",
            "Epoch 82/100\n",
            "146/146 [==============================] - 1s 4ms/step - loss: 0.1571 - accuracy: 0.4854 - val_loss: 0.1573 - val_accuracy: 0.4875\n",
            "\n",
            "Epoch 00082: val_loss did not improve from 0.15720\n",
            "Epoch 83/100\n",
            "146/146 [==============================] - 1s 4ms/step - loss: 0.1561 - accuracy: 0.4888 - val_loss: 0.1643 - val_accuracy: 0.4430\n",
            "\n",
            "Epoch 00083: val_loss did not improve from 0.15720\n",
            "Epoch 84/100\n",
            "146/146 [==============================] - 1s 4ms/step - loss: 0.1567 - accuracy: 0.4906 - val_loss: 0.1572 - val_accuracy: 0.4945\n",
            "\n",
            "Epoch 00084: val_loss did not improve from 0.15720\n",
            "Epoch 85/100\n",
            "146/146 [==============================] - 1s 4ms/step - loss: 0.1562 - accuracy: 0.4991 - val_loss: 0.1577 - val_accuracy: 0.4945\n",
            "\n",
            "Epoch 00085: val_loss did not improve from 0.15720\n",
            "Epoch 86/100\n",
            "146/146 [==============================] - 1s 4ms/step - loss: 0.1564 - accuracy: 0.5025 - val_loss: 0.1631 - val_accuracy: 0.4715\n",
            "\n",
            "Epoch 00086: val_loss did not improve from 0.15720\n",
            "Epoch 87/100\n",
            "146/146 [==============================] - 1s 4ms/step - loss: 0.1564 - accuracy: 0.4913 - val_loss: 0.1656 - val_accuracy: 0.4365\n",
            "\n",
            "Epoch 00087: val_loss did not improve from 0.15720\n",
            "Epoch 88/100\n",
            "146/146 [==============================] - 1s 4ms/step - loss: 0.1575 - accuracy: 0.4865 - val_loss: 0.1574 - val_accuracy: 0.4845\n",
            "\n",
            "Epoch 00088: val_loss did not improve from 0.15720\n",
            "Epoch 89/100\n",
            "146/146 [==============================] - 1s 4ms/step - loss: 0.1547 - accuracy: 0.4975 - val_loss: 0.1564 - val_accuracy: 0.4945\n",
            "\n",
            "Epoch 00089: val_loss improved from 0.15720 to 0.15636, saving model to nn.hdf5\n",
            "Epoch 90/100\n",
            "146/146 [==============================] - 1s 4ms/step - loss: 0.1568 - accuracy: 0.4927 - val_loss: 0.1590 - val_accuracy: 0.4725\n",
            "\n",
            "Epoch 00090: val_loss did not improve from 0.15636\n",
            "Epoch 91/100\n",
            "146/146 [==============================] - 1s 4ms/step - loss: 0.1576 - accuracy: 0.4897 - val_loss: 0.1580 - val_accuracy: 0.4845\n",
            "\n",
            "Epoch 00091: val_loss did not improve from 0.15636\n",
            "Epoch 92/100\n",
            "146/146 [==============================] - 1s 4ms/step - loss: 0.1590 - accuracy: 0.4815 - val_loss: 0.1611 - val_accuracy: 0.4630\n",
            "\n",
            "Epoch 00092: val_loss did not improve from 0.15636\n",
            "Epoch 93/100\n",
            "146/146 [==============================] - 1s 4ms/step - loss: 0.1552 - accuracy: 0.4947 - val_loss: 0.1575 - val_accuracy: 0.4805\n",
            "\n",
            "Epoch 00093: val_loss did not improve from 0.15636\n",
            "Epoch 94/100\n",
            "146/146 [==============================] - 1s 4ms/step - loss: 0.1546 - accuracy: 0.5024 - val_loss: 0.1568 - val_accuracy: 0.4850\n",
            "\n",
            "Epoch 00094: val_loss did not improve from 0.15636\n",
            "Epoch 95/100\n",
            "146/146 [==============================] - 1s 4ms/step - loss: 0.1558 - accuracy: 0.4959 - val_loss: 0.1561 - val_accuracy: 0.5020\n",
            "\n",
            "Epoch 00095: val_loss improved from 0.15636 to 0.15611, saving model to nn.hdf5\n",
            "Epoch 96/100\n",
            "146/146 [==============================] - 1s 4ms/step - loss: 0.1539 - accuracy: 0.5052 - val_loss: 0.1559 - val_accuracy: 0.5060\n",
            "\n",
            "Epoch 00096: val_loss improved from 0.15611 to 0.15588, saving model to nn.hdf5\n",
            "Epoch 97/100\n",
            "146/146 [==============================] - 1s 4ms/step - loss: 0.1565 - accuracy: 0.4993 - val_loss: 0.1588 - val_accuracy: 0.4815\n",
            "\n",
            "Epoch 00097: val_loss did not improve from 0.15588\n",
            "Epoch 98/100\n",
            "146/146 [==============================] - 1s 4ms/step - loss: 0.1549 - accuracy: 0.4899 - val_loss: 0.1566 - val_accuracy: 0.4900\n",
            "\n",
            "Epoch 00098: val_loss did not improve from 0.15588\n",
            "Epoch 99/100\n",
            "146/146 [==============================] - 1s 4ms/step - loss: 0.1560 - accuracy: 0.4943 - val_loss: 0.1567 - val_accuracy: 0.4970\n",
            "\n",
            "Epoch 00099: val_loss did not improve from 0.15588\n",
            "Epoch 100/100\n",
            "146/146 [==============================] - 1s 4ms/step - loss: 0.1548 - accuracy: 0.5077 - val_loss: 0.1581 - val_accuracy: 0.4740\n",
            "\n",
            "Epoch 00100: val_loss did not improve from 0.15588\n"
          ],
          "name": "stdout"
        }
      ]
    },
    {
      "cell_type": "code",
      "metadata": {
        "colab": {
          "base_uri": "https://localhost:8080/"
        },
        "id": "-qFQUd3IFtzr",
        "outputId": "3e0c42d3-9813-4a93-bbc5-b9d9dbf6334d"
      },
      "source": [
        "nn_pred = nn.predict_classes(xtest[input])\n",
        "accuracy_score(ytest,nn_pred)\n"
      ],
      "execution_count": 347,
      "outputs": [
        {
          "output_type": "execute_result",
          "data": {
            "text/plain": [
              "0.474"
            ]
          },
          "metadata": {
            "tags": []
          },
          "execution_count": 347
        }
      ]
    },
    {
      "cell_type": "code",
      "metadata": {
        "id": "uMPM4cQRIW--"
      },
      "source": [
        ""
      ],
      "execution_count": null,
      "outputs": []
    },
    {
      "cell_type": "code",
      "metadata": {
        "id": "6ttecLjpIiXp"
      },
      "source": [
        ""
      ],
      "execution_count": null,
      "outputs": []
    },
    {
      "cell_type": "markdown",
      "metadata": {
        "id": "mdYcg7gBJm9Q"
      },
      "source": [
        "##Unsupervised Learning"
      ]
    },
    {
      "cell_type": "code",
      "metadata": {
        "colab": {
          "base_uri": "https://localhost:8080/",
          "height": 436
        },
        "id": "qqYDDuEegD6c",
        "outputId": "2f353499-a15b-44a7-e5b0-26350a122985"
      },
      "source": [
        "from sklearn.cluster import KMeans\n",
        "train = pd.concat([xtrain,xtest])\n",
        "train"
      ],
      "execution_count": 348,
      "outputs": [
        {
          "output_type": "execute_result",
          "data": {
            "text/html": [
              "<div>\n",
              "<style scoped>\n",
              "    .dataframe tbody tr th:only-of-type {\n",
              "        vertical-align: middle;\n",
              "    }\n",
              "\n",
              "    .dataframe tbody tr th {\n",
              "        vertical-align: top;\n",
              "    }\n",
              "\n",
              "    .dataframe thead th {\n",
              "        text-align: right;\n",
              "    }\n",
              "</style>\n",
              "<table border=\"1\" class=\"dataframe\">\n",
              "  <thead>\n",
              "    <tr style=\"text-align: right;\">\n",
              "      <th></th>\n",
              "      <th>Gender_recoded</th>\n",
              "      <th>Ever_Married_recoded</th>\n",
              "      <th>Age</th>\n",
              "      <th>Profession_recoded</th>\n",
              "      <th>Work_Experience</th>\n",
              "      <th>Spending_Score_recoded</th>\n",
              "      <th>Family_Size</th>\n",
              "      <th>Graduated_recoded</th>\n",
              "    </tr>\n",
              "  </thead>\n",
              "  <tbody>\n",
              "    <tr>\n",
              "      <th>2619</th>\n",
              "      <td>1</td>\n",
              "      <td>1</td>\n",
              "      <td>68</td>\n",
              "      <td>3</td>\n",
              "      <td>1.0</td>\n",
              "      <td>0</td>\n",
              "      <td>1.0</td>\n",
              "      <td>1</td>\n",
              "    </tr>\n",
              "    <tr>\n",
              "      <th>5426</th>\n",
              "      <td>1</td>\n",
              "      <td>1</td>\n",
              "      <td>58</td>\n",
              "      <td>8</td>\n",
              "      <td>4.0</td>\n",
              "      <td>2</td>\n",
              "      <td>3.0</td>\n",
              "      <td>0</td>\n",
              "    </tr>\n",
              "    <tr>\n",
              "      <th>6455</th>\n",
              "      <td>0</td>\n",
              "      <td>0</td>\n",
              "      <td>21</td>\n",
              "      <td>0</td>\n",
              "      <td>5.0</td>\n",
              "      <td>0</td>\n",
              "      <td>5.0</td>\n",
              "      <td>0</td>\n",
              "    </tr>\n",
              "    <tr>\n",
              "      <th>4883</th>\n",
              "      <td>1</td>\n",
              "      <td>1</td>\n",
              "      <td>76</td>\n",
              "      <td>2</td>\n",
              "      <td>1.0</td>\n",
              "      <td>0</td>\n",
              "      <td>2.0</td>\n",
              "      <td>1</td>\n",
              "    </tr>\n",
              "    <tr>\n",
              "      <th>6361</th>\n",
              "      <td>1</td>\n",
              "      <td>1</td>\n",
              "      <td>45</td>\n",
              "      <td>3</td>\n",
              "      <td>0.0</td>\n",
              "      <td>1</td>\n",
              "      <td>3.0</td>\n",
              "      <td>1</td>\n",
              "    </tr>\n",
              "    <tr>\n",
              "      <th>...</th>\n",
              "      <td>...</td>\n",
              "      <td>...</td>\n",
              "      <td>...</td>\n",
              "      <td>...</td>\n",
              "      <td>...</td>\n",
              "      <td>...</td>\n",
              "      <td>...</td>\n",
              "      <td>...</td>\n",
              "    </tr>\n",
              "    <tr>\n",
              "      <th>3301</th>\n",
              "      <td>0</td>\n",
              "      <td>0</td>\n",
              "      <td>30</td>\n",
              "      <td>1</td>\n",
              "      <td>0.0</td>\n",
              "      <td>0</td>\n",
              "      <td>1.0</td>\n",
              "      <td>0</td>\n",
              "    </tr>\n",
              "    <tr>\n",
              "      <th>2353</th>\n",
              "      <td>0</td>\n",
              "      <td>1</td>\n",
              "      <td>43</td>\n",
              "      <td>3</td>\n",
              "      <td>1.0</td>\n",
              "      <td>2</td>\n",
              "      <td>4.0</td>\n",
              "      <td>1</td>\n",
              "    </tr>\n",
              "    <tr>\n",
              "      <th>854</th>\n",
              "      <td>1</td>\n",
              "      <td>0</td>\n",
              "      <td>43</td>\n",
              "      <td>6</td>\n",
              "      <td>0.0</td>\n",
              "      <td>0</td>\n",
              "      <td>5.0</td>\n",
              "      <td>1</td>\n",
              "    </tr>\n",
              "    <tr>\n",
              "      <th>3544</th>\n",
              "      <td>1</td>\n",
              "      <td>0</td>\n",
              "      <td>22</td>\n",
              "      <td>0</td>\n",
              "      <td>0.0</td>\n",
              "      <td>0</td>\n",
              "      <td>4.0</td>\n",
              "      <td>0</td>\n",
              "    </tr>\n",
              "    <tr>\n",
              "      <th>3244</th>\n",
              "      <td>0</td>\n",
              "      <td>1</td>\n",
              "      <td>55</td>\n",
              "      <td>3</td>\n",
              "      <td>0.0</td>\n",
              "      <td>1</td>\n",
              "      <td>4.0</td>\n",
              "      <td>1</td>\n",
              "    </tr>\n",
              "  </tbody>\n",
              "</table>\n",
              "<p>6665 rows × 8 columns</p>\n",
              "</div>"
            ],
            "text/plain": [
              "      Gender_recoded  Ever_Married_recoded  ...  Family_Size  Graduated_recoded\n",
              "2619               1                     1  ...          1.0                  1\n",
              "5426               1                     1  ...          3.0                  0\n",
              "6455               0                     0  ...          5.0                  0\n",
              "4883               1                     1  ...          2.0                  1\n",
              "6361               1                     1  ...          3.0                  1\n",
              "...              ...                   ...  ...          ...                ...\n",
              "3301               0                     0  ...          1.0                  0\n",
              "2353               0                     1  ...          4.0                  1\n",
              "854                1                     0  ...          5.0                  1\n",
              "3544               1                     0  ...          4.0                  0\n",
              "3244               0                     1  ...          4.0                  1\n",
              "\n",
              "[6665 rows x 8 columns]"
            ]
          },
          "metadata": {
            "tags": []
          },
          "execution_count": 348
        }
      ]
    },
    {
      "cell_type": "code",
      "metadata": {
        "id": "cQ42LvRIkCu0"
      },
      "source": [
        "features = ['Age','Work_Experience','Family_Size']\n",
        "kmeans = KMeans(n_clusters=4,random_state = 3,max_iter = 1000).fit(train[['Age','Family_Size']].values)"
      ],
      "execution_count": 460,
      "outputs": []
    },
    {
      "cell_type": "code",
      "metadata": {
        "id": "y8eg60Lmh8hT"
      },
      "source": [
        "ypred = kmeans.labels_"
      ],
      "execution_count": 461,
      "outputs": []
    },
    {
      "cell_type": "code",
      "metadata": {
        "id": "AK_IFLL5iCt-"
      },
      "source": [
        "ytrue = np.concatenate([ytrain,ytest])#['Segmentation']"
      ],
      "execution_count": 462,
      "outputs": []
    },
    {
      "cell_type": "code",
      "metadata": {
        "colab": {
          "base_uri": "https://localhost:8080/"
        },
        "id": "LIM6ae4jiNVC",
        "outputId": "fc3d59fe-2789-4b49-ce80-c0d13ecc18ff"
      },
      "source": [
        "accuracy_score(ytrue,ypred)"
      ],
      "execution_count": 463,
      "outputs": [
        {
          "output_type": "execute_result",
          "data": {
            "text/plain": [
              "0.22610652663165792"
            ]
          },
          "metadata": {
            "tags": []
          },
          "execution_count": 463
        }
      ]
    },
    {
      "cell_type": "code",
      "metadata": {
        "id": "aYa0PQ7-6LUJ"
      },
      "source": [
        "train['kmeans_labels'] = ypred"
      ],
      "execution_count": 464,
      "outputs": []
    },
    {
      "cell_type": "code",
      "metadata": {
        "colab": {
          "base_uri": "https://localhost:8080/",
          "height": 265
        },
        "id": "yzI5P4X4ixV4",
        "outputId": "b1b931c4-79d6-477c-ce56-0dbf70812bdf"
      },
      "source": [
        "grouped = train.groupby('kmeans_labels')\n",
        "for name, group in grouped:\n",
        "        plt.plot(group['Age'], group['Family_Size'], \n",
        "                 'o', alpha=0.4, label=name)\n",
        "        plt.legend()"
      ],
      "execution_count": 465,
      "outputs": [
        {
          "output_type": "display_data",
          "data": {
            "image/png": "[encoded data removed]",
            "text/plain": [
              "<Figure size 432x288 with 1 Axes>"
            ]
          },
          "metadata": {
            "tags": [],
            "needs_background": "light"
          }
        }
      ]
    },
    {
      "cell_type": "code",
      "metadata": {
        "id": "D8FDK_z86dky"
      },
      "source": [
        "train['Segmentation'] = np.concatenate([ytrain,ytest])"
      ],
      "execution_count": 466,
      "outputs": []
    },
    {
      "cell_type": "code",
      "metadata": {
        "colab": {
          "base_uri": "https://localhost:8080/",
          "height": 265
        },
        "id": "i52Z5soI5hhm",
        "outputId": "b5163c0b-ae18-47b6-a1f1-41a9ccfa7f24"
      },
      "source": [
        "grouped = train.groupby('Segmentation')\n",
        "for name, group in grouped:\n",
        "        plt.plot(group['Age'], group['Family_Size'], \n",
        "                 'o', alpha=0.4, label=name)\n",
        "        plt.legend()"
      ],
      "execution_count": 467,
      "outputs": [
        {
          "output_type": "display_data",
          "data": {
            "image/png": "[encoded data removed]",
            "text/plain": [
              "<Figure size 432x288 with 1 Axes>"
            ]
          },
          "metadata": {
            "tags": [],
            "needs_background": "light"
          }
        }
      ]
    },
    {
      "cell_type": "code",
      "metadata": {
        "id": "jtByMtfR62aC"
      },
      "source": [
        ""
      ],
      "execution_count": 405,
      "outputs": []
    },
    {
      "cell_type": "code",
      "metadata": {
        "id": "aa72PI9I9hwT"
      },
      "source": [
        ""
      ],
      "execution_count": null,
      "outputs": []
    }
  ]
}